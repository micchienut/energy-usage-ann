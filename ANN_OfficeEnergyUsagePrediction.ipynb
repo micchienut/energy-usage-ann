{
  "cells": [
    {
      "cell_type": "markdown",
      "source": [
        "# Identity\n",
        "Name: Michelle Nathania\\\n",
        "Student ID: 2702208575\\\n",
        "Code A"
      ],
      "metadata": {
        "id": "I7hxf2_mwmmr"
      }
    },
    {
      "cell_type": "markdown",
      "source": [
        "# 1. ANN for energy usage prediction"
      ],
      "metadata": {
        "id": "OEuZgwZ6wgab"
      }
    },
    {
      "cell_type": "markdown",
      "source": [
        "Before we begin, let's import all the libraries needed for this project. I will mainly use Tensorflow libraries for building the neural models."
      ],
      "metadata": {
        "id": "SwgrC1hYxOyA"
      }
    },
    {
      "cell_type": "code",
      "source": [
        "!pip install keras-tuner"
      ],
      "metadata": {
        "colab": {
          "base_uri": "https://localhost:8080/"
        },
        "id": "AMaaWdGGuSPP",
        "outputId": "f898b209-25f8-43c1-ec6d-00903236e784"
      },
      "execution_count": null,
      "outputs": [
        {
          "output_type": "stream",
          "name": "stdout",
          "text": [
            "Requirement already satisfied: keras-tuner in /usr/local/lib/python3.11/dist-packages (1.4.7)\n",
            "Requirement already satisfied: keras in /usr/local/lib/python3.11/dist-packages (from keras-tuner) (3.8.0)\n",
            "Requirement already satisfied: packaging in /usr/local/lib/python3.11/dist-packages (from keras-tuner) (24.2)\n",
            "Requirement already satisfied: requests in /usr/local/lib/python3.11/dist-packages (from keras-tuner) (2.32.3)\n",
            "Requirement already satisfied: kt-legacy in /usr/local/lib/python3.11/dist-packages (from keras-tuner) (1.0.5)\n",
            "Requirement already satisfied: absl-py in /usr/local/lib/python3.11/dist-packages (from keras->keras-tuner) (1.4.0)\n",
            "Requirement already satisfied: numpy in /usr/local/lib/python3.11/dist-packages (from keras->keras-tuner) (2.0.2)\n",
            "Requirement already satisfied: rich in /usr/local/lib/python3.11/dist-packages (from keras->keras-tuner) (13.9.4)\n",
            "Requirement already satisfied: namex in /usr/local/lib/python3.11/dist-packages (from keras->keras-tuner) (0.0.8)\n",
            "Requirement already satisfied: h5py in /usr/local/lib/python3.11/dist-packages (from keras->keras-tuner) (3.13.0)\n",
            "Requirement already satisfied: optree in /usr/local/lib/python3.11/dist-packages (from keras->keras-tuner) (0.14.1)\n",
            "Requirement already satisfied: ml-dtypes in /usr/local/lib/python3.11/dist-packages (from keras->keras-tuner) (0.4.1)\n",
            "Requirement already satisfied: charset-normalizer<4,>=2 in /usr/local/lib/python3.11/dist-packages (from requests->keras-tuner) (3.4.1)\n",
            "Requirement already satisfied: idna<4,>=2.5 in /usr/local/lib/python3.11/dist-packages (from requests->keras-tuner) (3.10)\n",
            "Requirement already satisfied: urllib3<3,>=1.21.1 in /usr/local/lib/python3.11/dist-packages (from requests->keras-tuner) (2.3.0)\n",
            "Requirement already satisfied: certifi>=2017.4.17 in /usr/local/lib/python3.11/dist-packages (from requests->keras-tuner) (2025.1.31)\n",
            "Requirement already satisfied: typing-extensions>=4.5.0 in /usr/local/lib/python3.11/dist-packages (from optree->keras->keras-tuner) (4.13.1)\n",
            "Requirement already satisfied: markdown-it-py>=2.2.0 in /usr/local/lib/python3.11/dist-packages (from rich->keras->keras-tuner) (3.0.0)\n",
            "Requirement already satisfied: pygments<3.0.0,>=2.13.0 in /usr/local/lib/python3.11/dist-packages (from rich->keras->keras-tuner) (2.18.0)\n",
            "Requirement already satisfied: mdurl~=0.1 in /usr/local/lib/python3.11/dist-packages (from markdown-it-py>=2.2.0->rich->keras->keras-tuner) (0.1.2)\n"
          ]
        }
      ]
    },
    {
      "cell_type": "code",
      "source": [
        "import numpy as np\n",
        "import pandas as pd\n",
        "import random as rd\n",
        "\n",
        "import tensorflow as tf\n",
        "from tensorflow.keras.layers import Dense, Input, Dropout, LeakyReLU\n",
        "from tensorflow.keras.models import Sequential, Model\n",
        "from tensorflow.keras.utils import plot_model\n",
        "from tensorflow.keras.callbacks import EarlyStopping, ReduceLROnPlateau\n",
        "\n",
        "import keras_tuner as kt\n",
        "from keras import backend as K\n",
        "\n",
        "import gc\n",
        "\n",
        "import seaborn as sns\n",
        "import matplotlib.pyplot as plt\n",
        "\n",
        "from sklearn.preprocessing import StandardScaler, OneHotEncoder, MinMaxScaler\n",
        "from sklearn.metrics import r2_score, mean_absolute_error, root_mean_squared_error\n",
        "from sklearn.model_selection import train_test_split"
      ],
      "metadata": {
        "id": "3DUOh6KpxUoe"
      },
      "execution_count": null,
      "outputs": []
    },
    {
      "cell_type": "code",
      "source": [
        "# Set seed for a more reproducible result\n",
        "# So every time it runs the result won't differ much\n",
        "SEED_VALUE=123\n",
        "rd.seed(SEED_VALUE)\n",
        "np.random.seed(SEED_VALUE)"
      ],
      "metadata": {
        "id": "gnYto9OAiw7T"
      },
      "execution_count": null,
      "outputs": []
    },
    {
      "cell_type": "markdown",
      "source": [
        "## a. EDA and Data preprocessing"
      ],
      "metadata": {
        "id": "ZZ_M4MebxKou"
      }
    },
    {
      "cell_type": "code",
      "source": [
        "# Read the parquet dataset using pandas\n",
        "df = pd.read_parquet(\"dataset_1A.parquet\")"
      ],
      "metadata": {
        "id": "U4e6lMuBxNB-"
      },
      "execution_count": null,
      "outputs": []
    },
    {
      "cell_type": "code",
      "source": [
        "# Check the head & tail, ensuring the dataset has been imported successfully\n",
        "df.head()"
      ],
      "metadata": {
        "colab": {
          "base_uri": "https://localhost:8080/",
          "height": 226
        },
        "id": "G5iLvGucy2wZ",
        "outputId": "2c54b79c-5a91-477e-b4e2-7fd9c0e5e834"
      },
      "execution_count": null,
      "outputs": [
        {
          "output_type": "execute_result",
          "data": {
            "text/plain": [
              "  Month  Hour  DayOfWeek Holiday  Temperature   Humidity  SquareFootage  \\\n",
              "0     8     3     Sunday     Yes    24.492063  59.969085    1403.454805   \n",
              "1     1     8  Wednesday      No    26.312114  51.408711    1220.547133   \n",
              "2     1    19     Sunday     Yes    20.516186  40.918500    1114.230124   \n",
              "3     7     3  Wednesday     Yes    20.879426  46.859237    1096.207227   \n",
              "4    10    17   Saturday      No    23.015216  48.998158    1999.982252   \n",
              "\n",
              "   Occupancy HVACUsage LightingUsage  RenewableEnergy  EnergyConsumption  \n",
              "0          7        On           Off        29.965327  82.05735763545306  \n",
              "1          8        On           Off         5.986875  83.88917674427188  \n",
              "2          8       Off            On        20.489098  66.20209750906106  \n",
              "3          7       Off            On        21.321157  66.43917871187017  \n",
              "4          1       Off           Off         3.966075  76.90227179904673  "
            ],
            "text/html": [
              "\n",
              "  <div id=\"df-86595dcd-b0f0-4184-b7dd-fd92b389f441\" class=\"colab-df-container\">\n",
              "    <div>\n",
              "<style scoped>\n",
              "    .dataframe tbody tr th:only-of-type {\n",
              "        vertical-align: middle;\n",
              "    }\n",
              "\n",
              "    .dataframe tbody tr th {\n",
              "        vertical-align: top;\n",
              "    }\n",
              "\n",
              "    .dataframe thead th {\n",
              "        text-align: right;\n",
              "    }\n",
              "</style>\n",
              "<table border=\"1\" class=\"dataframe\">\n",
              "  <thead>\n",
              "    <tr style=\"text-align: right;\">\n",
              "      <th></th>\n",
              "      <th>Month</th>\n",
              "      <th>Hour</th>\n",
              "      <th>DayOfWeek</th>\n",
              "      <th>Holiday</th>\n",
              "      <th>Temperature</th>\n",
              "      <th>Humidity</th>\n",
              "      <th>SquareFootage</th>\n",
              "      <th>Occupancy</th>\n",
              "      <th>HVACUsage</th>\n",
              "      <th>LightingUsage</th>\n",
              "      <th>RenewableEnergy</th>\n",
              "      <th>EnergyConsumption</th>\n",
              "    </tr>\n",
              "  </thead>\n",
              "  <tbody>\n",
              "    <tr>\n",
              "      <th>0</th>\n",
              "      <td>8</td>\n",
              "      <td>3</td>\n",
              "      <td>Sunday</td>\n",
              "      <td>Yes</td>\n",
              "      <td>24.492063</td>\n",
              "      <td>59.969085</td>\n",
              "      <td>1403.454805</td>\n",
              "      <td>7</td>\n",
              "      <td>On</td>\n",
              "      <td>Off</td>\n",
              "      <td>29.965327</td>\n",
              "      <td>82.05735763545306</td>\n",
              "    </tr>\n",
              "    <tr>\n",
              "      <th>1</th>\n",
              "      <td>1</td>\n",
              "      <td>8</td>\n",
              "      <td>Wednesday</td>\n",
              "      <td>No</td>\n",
              "      <td>26.312114</td>\n",
              "      <td>51.408711</td>\n",
              "      <td>1220.547133</td>\n",
              "      <td>8</td>\n",
              "      <td>On</td>\n",
              "      <td>Off</td>\n",
              "      <td>5.986875</td>\n",
              "      <td>83.88917674427188</td>\n",
              "    </tr>\n",
              "    <tr>\n",
              "      <th>2</th>\n",
              "      <td>1</td>\n",
              "      <td>19</td>\n",
              "      <td>Sunday</td>\n",
              "      <td>Yes</td>\n",
              "      <td>20.516186</td>\n",
              "      <td>40.918500</td>\n",
              "      <td>1114.230124</td>\n",
              "      <td>8</td>\n",
              "      <td>Off</td>\n",
              "      <td>On</td>\n",
              "      <td>20.489098</td>\n",
              "      <td>66.20209750906106</td>\n",
              "    </tr>\n",
              "    <tr>\n",
              "      <th>3</th>\n",
              "      <td>7</td>\n",
              "      <td>3</td>\n",
              "      <td>Wednesday</td>\n",
              "      <td>Yes</td>\n",
              "      <td>20.879426</td>\n",
              "      <td>46.859237</td>\n",
              "      <td>1096.207227</td>\n",
              "      <td>7</td>\n",
              "      <td>Off</td>\n",
              "      <td>On</td>\n",
              "      <td>21.321157</td>\n",
              "      <td>66.43917871187017</td>\n",
              "    </tr>\n",
              "    <tr>\n",
              "      <th>4</th>\n",
              "      <td>10</td>\n",
              "      <td>17</td>\n",
              "      <td>Saturday</td>\n",
              "      <td>No</td>\n",
              "      <td>23.015216</td>\n",
              "      <td>48.998158</td>\n",
              "      <td>1999.982252</td>\n",
              "      <td>1</td>\n",
              "      <td>Off</td>\n",
              "      <td>Off</td>\n",
              "      <td>3.966075</td>\n",
              "      <td>76.90227179904673</td>\n",
              "    </tr>\n",
              "  </tbody>\n",
              "</table>\n",
              "</div>\n",
              "    <div class=\"colab-df-buttons\">\n",
              "\n",
              "  <div class=\"colab-df-container\">\n",
              "    <button class=\"colab-df-convert\" onclick=\"convertToInteractive('df-86595dcd-b0f0-4184-b7dd-fd92b389f441')\"\n",
              "            title=\"Convert this dataframe to an interactive table.\"\n",
              "            style=\"display:none;\">\n",
              "\n",
              "  <svg xmlns=\"http://www.w3.org/2000/svg\" height=\"24px\" viewBox=\"0 -960 960 960\">\n",
              "    <path d=\"M120-120v-720h720v720H120Zm60-500h600v-160H180v160Zm220 220h160v-160H400v160Zm0 220h160v-160H400v160ZM180-400h160v-160H180v160Zm440 0h160v-160H620v160ZM180-180h160v-160H180v160Zm440 0h160v-160H620v160Z\"/>\n",
              "  </svg>\n",
              "    </button>\n",
              "\n",
              "  <style>\n",
              "    .colab-df-container {\n",
              "      display:flex;\n",
              "      gap: 12px;\n",
              "    }\n",
              "\n",
              "    .colab-df-convert {\n",
              "      background-color: #E8F0FE;\n",
              "      border: none;\n",
              "      border-radius: 50%;\n",
              "      cursor: pointer;\n",
              "      display: none;\n",
              "      fill: #1967D2;\n",
              "      height: 32px;\n",
              "      padding: 0 0 0 0;\n",
              "      width: 32px;\n",
              "    }\n",
              "\n",
              "    .colab-df-convert:hover {\n",
              "      background-color: #E2EBFA;\n",
              "      box-shadow: 0px 1px 2px rgba(60, 64, 67, 0.3), 0px 1px 3px 1px rgba(60, 64, 67, 0.15);\n",
              "      fill: #174EA6;\n",
              "    }\n",
              "\n",
              "    .colab-df-buttons div {\n",
              "      margin-bottom: 4px;\n",
              "    }\n",
              "\n",
              "    [theme=dark] .colab-df-convert {\n",
              "      background-color: #3B4455;\n",
              "      fill: #D2E3FC;\n",
              "    }\n",
              "\n",
              "    [theme=dark] .colab-df-convert:hover {\n",
              "      background-color: #434B5C;\n",
              "      box-shadow: 0px 1px 3px 1px rgba(0, 0, 0, 0.15);\n",
              "      filter: drop-shadow(0px 1px 2px rgba(0, 0, 0, 0.3));\n",
              "      fill: #FFFFFF;\n",
              "    }\n",
              "  </style>\n",
              "\n",
              "    <script>\n",
              "      const buttonEl =\n",
              "        document.querySelector('#df-86595dcd-b0f0-4184-b7dd-fd92b389f441 button.colab-df-convert');\n",
              "      buttonEl.style.display =\n",
              "        google.colab.kernel.accessAllowed ? 'block' : 'none';\n",
              "\n",
              "      async function convertToInteractive(key) {\n",
              "        const element = document.querySelector('#df-86595dcd-b0f0-4184-b7dd-fd92b389f441');\n",
              "        const dataTable =\n",
              "          await google.colab.kernel.invokeFunction('convertToInteractive',\n",
              "                                                    [key], {});\n",
              "        if (!dataTable) return;\n",
              "\n",
              "        const docLinkHtml = 'Like what you see? Visit the ' +\n",
              "          '<a target=\"_blank\" href=https://colab.research.google.com/notebooks/data_table.ipynb>data table notebook</a>'\n",
              "          + ' to learn more about interactive tables.';\n",
              "        element.innerHTML = '';\n",
              "        dataTable['output_type'] = 'display_data';\n",
              "        await google.colab.output.renderOutput(dataTable, element);\n",
              "        const docLink = document.createElement('div');\n",
              "        docLink.innerHTML = docLinkHtml;\n",
              "        element.appendChild(docLink);\n",
              "      }\n",
              "    </script>\n",
              "  </div>\n",
              "\n",
              "\n",
              "<div id=\"df-69c0f210-d9bf-4466-86a6-e2c076e2db82\">\n",
              "  <button class=\"colab-df-quickchart\" onclick=\"quickchart('df-69c0f210-d9bf-4466-86a6-e2c076e2db82')\"\n",
              "            title=\"Suggest charts\"\n",
              "            style=\"display:none;\">\n",
              "\n",
              "<svg xmlns=\"http://www.w3.org/2000/svg\" height=\"24px\"viewBox=\"0 0 24 24\"\n",
              "     width=\"24px\">\n",
              "    <g>\n",
              "        <path d=\"M19 3H5c-1.1 0-2 .9-2 2v14c0 1.1.9 2 2 2h14c1.1 0 2-.9 2-2V5c0-1.1-.9-2-2-2zM9 17H7v-7h2v7zm4 0h-2V7h2v10zm4 0h-2v-4h2v4z\"/>\n",
              "    </g>\n",
              "</svg>\n",
              "  </button>\n",
              "\n",
              "<style>\n",
              "  .colab-df-quickchart {\n",
              "      --bg-color: #E8F0FE;\n",
              "      --fill-color: #1967D2;\n",
              "      --hover-bg-color: #E2EBFA;\n",
              "      --hover-fill-color: #174EA6;\n",
              "      --disabled-fill-color: #AAA;\n",
              "      --disabled-bg-color: #DDD;\n",
              "  }\n",
              "\n",
              "  [theme=dark] .colab-df-quickchart {\n",
              "      --bg-color: #3B4455;\n",
              "      --fill-color: #D2E3FC;\n",
              "      --hover-bg-color: #434B5C;\n",
              "      --hover-fill-color: #FFFFFF;\n",
              "      --disabled-bg-color: #3B4455;\n",
              "      --disabled-fill-color: #666;\n",
              "  }\n",
              "\n",
              "  .colab-df-quickchart {\n",
              "    background-color: var(--bg-color);\n",
              "    border: none;\n",
              "    border-radius: 50%;\n",
              "    cursor: pointer;\n",
              "    display: none;\n",
              "    fill: var(--fill-color);\n",
              "    height: 32px;\n",
              "    padding: 0;\n",
              "    width: 32px;\n",
              "  }\n",
              "\n",
              "  .colab-df-quickchart:hover {\n",
              "    background-color: var(--hover-bg-color);\n",
              "    box-shadow: 0 1px 2px rgba(60, 64, 67, 0.3), 0 1px 3px 1px rgba(60, 64, 67, 0.15);\n",
              "    fill: var(--button-hover-fill-color);\n",
              "  }\n",
              "\n",
              "  .colab-df-quickchart-complete:disabled,\n",
              "  .colab-df-quickchart-complete:disabled:hover {\n",
              "    background-color: var(--disabled-bg-color);\n",
              "    fill: var(--disabled-fill-color);\n",
              "    box-shadow: none;\n",
              "  }\n",
              "\n",
              "  .colab-df-spinner {\n",
              "    border: 2px solid var(--fill-color);\n",
              "    border-color: transparent;\n",
              "    border-bottom-color: var(--fill-color);\n",
              "    animation:\n",
              "      spin 1s steps(1) infinite;\n",
              "  }\n",
              "\n",
              "  @keyframes spin {\n",
              "    0% {\n",
              "      border-color: transparent;\n",
              "      border-bottom-color: var(--fill-color);\n",
              "      border-left-color: var(--fill-color);\n",
              "    }\n",
              "    20% {\n",
              "      border-color: transparent;\n",
              "      border-left-color: var(--fill-color);\n",
              "      border-top-color: var(--fill-color);\n",
              "    }\n",
              "    30% {\n",
              "      border-color: transparent;\n",
              "      border-left-color: var(--fill-color);\n",
              "      border-top-color: var(--fill-color);\n",
              "      border-right-color: var(--fill-color);\n",
              "    }\n",
              "    40% {\n",
              "      border-color: transparent;\n",
              "      border-right-color: var(--fill-color);\n",
              "      border-top-color: var(--fill-color);\n",
              "    }\n",
              "    60% {\n",
              "      border-color: transparent;\n",
              "      border-right-color: var(--fill-color);\n",
              "    }\n",
              "    80% {\n",
              "      border-color: transparent;\n",
              "      border-right-color: var(--fill-color);\n",
              "      border-bottom-color: var(--fill-color);\n",
              "    }\n",
              "    90% {\n",
              "      border-color: transparent;\n",
              "      border-bottom-color: var(--fill-color);\n",
              "    }\n",
              "  }\n",
              "</style>\n",
              "\n",
              "  <script>\n",
              "    async function quickchart(key) {\n",
              "      const quickchartButtonEl =\n",
              "        document.querySelector('#' + key + ' button');\n",
              "      quickchartButtonEl.disabled = true;  // To prevent multiple clicks.\n",
              "      quickchartButtonEl.classList.add('colab-df-spinner');\n",
              "      try {\n",
              "        const charts = await google.colab.kernel.invokeFunction(\n",
              "            'suggestCharts', [key], {});\n",
              "      } catch (error) {\n",
              "        console.error('Error during call to suggestCharts:', error);\n",
              "      }\n",
              "      quickchartButtonEl.classList.remove('colab-df-spinner');\n",
              "      quickchartButtonEl.classList.add('colab-df-quickchart-complete');\n",
              "    }\n",
              "    (() => {\n",
              "      let quickchartButtonEl =\n",
              "        document.querySelector('#df-69c0f210-d9bf-4466-86a6-e2c076e2db82 button');\n",
              "      quickchartButtonEl.style.display =\n",
              "        google.colab.kernel.accessAllowed ? 'block' : 'none';\n",
              "    })();\n",
              "  </script>\n",
              "</div>\n",
              "\n",
              "    </div>\n",
              "  </div>\n"
            ],
            "application/vnd.google.colaboratory.intrinsic+json": {
              "type": "dataframe",
              "variable_name": "df",
              "summary": "{\n  \"name\": \"df\",\n  \"rows\": 1232,\n  \"fields\": [\n    {\n      \"column\": \"Month\",\n      \"properties\": {\n        \"dtype\": \"category\",\n        \"num_unique_values\": 15,\n        \"samples\": [\n          \"9\",\n          \"3\",\n          \"8\"\n        ],\n        \"semantic_type\": \"\",\n        \"description\": \"\"\n      }\n    },\n    {\n      \"column\": \"Hour\",\n      \"properties\": {\n        \"dtype\": \"number\",\n        \"std\": 6,\n        \"min\": 0,\n        \"max\": 23,\n        \"num_unique_values\": 24,\n        \"samples\": [\n          13,\n          10,\n          3\n        ],\n        \"semantic_type\": \"\",\n        \"description\": \"\"\n      }\n    },\n    {\n      \"column\": \"DayOfWeek\",\n      \"properties\": {\n        \"dtype\": \"category\",\n        \"num_unique_values\": 7,\n        \"samples\": [\n          \"Sunday\",\n          \"Wednesday\",\n          \"Monday\"\n        ],\n        \"semantic_type\": \"\",\n        \"description\": \"\"\n      }\n    },\n    {\n      \"column\": \"Holiday\",\n      \"properties\": {\n        \"dtype\": \"category\",\n        \"num_unique_values\": 2,\n        \"samples\": [\n          \"No\",\n          \"Yes\"\n        ],\n        \"semantic_type\": \"\",\n        \"description\": \"\"\n      }\n    },\n    {\n      \"column\": \"Temperature\",\n      \"properties\": {\n        \"dtype\": \"number\",\n        \"std\": 3.045583359170438,\n        \"min\": 20.007565,\n        \"max\": 29.998671,\n        \"num_unique_values\": 1095,\n        \"samples\": [\n          23.075930575965803,\n          23.751219493408858\n        ],\n        \"semantic_type\": \"\",\n        \"description\": \"\"\n      }\n    },\n    {\n      \"column\": \"Humidity\",\n      \"properties\": {\n        \"dtype\": \"number\",\n        \"std\": 9.08305011137264,\n        \"min\": 30.01597450346074,\n        \"max\": 59.969085,\n        \"num_unique_values\": 1120,\n        \"samples\": [\n          53.97959312557798,\n          42.092687737373296\n        ],\n        \"semantic_type\": \"\",\n        \"description\": \"\"\n      }\n    },\n    {\n      \"column\": \"SquareFootage\",\n      \"properties\": {\n        \"dtype\": \"number\",\n        \"std\": 297.2197453616783,\n        \"min\": 1000.512661,\n        \"max\": 1999.982252,\n        \"num_unique_values\": 1156,\n        \"samples\": [\n          1193.1993700246803,\n          1798.355879296016\n        ],\n        \"semantic_type\": \"\",\n        \"description\": \"\"\n      }\n    },\n    {\n      \"column\": \"Occupancy\",\n      \"properties\": {\n        \"dtype\": \"number\",\n        \"std\": 2,\n        \"min\": -5,\n        \"max\": 9,\n        \"num_unique_values\": 11,\n        \"samples\": [\n          3,\n          7\n        ],\n        \"semantic_type\": \"\",\n        \"description\": \"\"\n      }\n    },\n    {\n      \"column\": \"HVACUsage\",\n      \"properties\": {\n        \"dtype\": \"category\",\n        \"num_unique_values\": 2,\n        \"samples\": [\n          \"Off\",\n          \"On\"\n        ],\n        \"semantic_type\": \"\",\n        \"description\": \"\"\n      }\n    },\n    {\n      \"column\": \"LightingUsage\",\n      \"properties\": {\n        \"dtype\": \"category\",\n        \"num_unique_values\": 2,\n        \"samples\": [\n          \"On\",\n          \"Off\"\n        ],\n        \"semantic_type\": \"\",\n        \"description\": \"\"\n      }\n    },\n    {\n      \"column\": \"RenewableEnergy\",\n      \"properties\": {\n        \"dtype\": \"number\",\n        \"std\": 9.225972971086396,\n        \"min\": 0.006642,\n        \"max\": 29.965327,\n        \"num_unique_values\": 1101,\n        \"samples\": [\n          6.963938172509772,\n          14.227736698069345\n        ],\n        \"semantic_type\": \"\",\n        \"description\": \"\"\n      }\n    },\n    {\n      \"column\": \"EnergyConsumption\",\n      \"properties\": {\n        \"dtype\": \"string\",\n        \"num_unique_values\": 1213,\n        \"samples\": [\n          \"91.74232779785136\",\n          \"72.35976105738673\"\n        ],\n        \"semantic_type\": \"\",\n        \"description\": \"\"\n      }\n    }\n  ]\n}"
            }
          },
          "metadata": {},
          "execution_count": 240
        }
      ]
    },
    {
      "cell_type": "code",
      "source": [
        "df.tail()"
      ],
      "metadata": {
        "colab": {
          "base_uri": "https://localhost:8080/",
          "height": 226
        },
        "id": "T0AW4o8Qy-yR",
        "outputId": "25c410a2-a140-430c-9dcc-f5feb34fa373"
      },
      "execution_count": null,
      "outputs": [
        {
          "output_type": "execute_result",
          "data": {
            "text/plain": [
              "     Month  Hour DayOfWeek Holiday  Temperature   Humidity  SquareFootage  \\\n",
              "1227     9     2  Saturday      No    29.412360  47.368427    1905.249762   \n",
              "1228     6    16  Saturday     Yes    24.019593  59.272447    1274.096723   \n",
              "1229     1     1   Tuesday      No    21.926454  44.605974    1135.054165   \n",
              "1230     3     2    Monday      No    24.581719  32.637069    1295.556323   \n",
              "1231    12    17    Sunday     Yes    22.229281  46.942542    1330.187266   \n",
              "\n",
              "      Occupancy HVACUsage LightingUsage  RenewableEnergy  EnergyConsumption  \n",
              "1227          3        On           Off         9.602456  79.74911905310127  \n",
              "1228          9       Off            On        21.973733  72.93770990438871  \n",
              "1229          5        On            On         4.858261  77.02412225998496  \n",
              "1230          5       Off           Off         1.763935  71.75136050151936  \n",
              "1231          6        On            On        20.657222  72.10855378660037  "
            ],
            "text/html": [
              "\n",
              "  <div id=\"df-07deb5a1-e53b-40dd-a6be-9ea44743014f\" class=\"colab-df-container\">\n",
              "    <div>\n",
              "<style scoped>\n",
              "    .dataframe tbody tr th:only-of-type {\n",
              "        vertical-align: middle;\n",
              "    }\n",
              "\n",
              "    .dataframe tbody tr th {\n",
              "        vertical-align: top;\n",
              "    }\n",
              "\n",
              "    .dataframe thead th {\n",
              "        text-align: right;\n",
              "    }\n",
              "</style>\n",
              "<table border=\"1\" class=\"dataframe\">\n",
              "  <thead>\n",
              "    <tr style=\"text-align: right;\">\n",
              "      <th></th>\n",
              "      <th>Month</th>\n",
              "      <th>Hour</th>\n",
              "      <th>DayOfWeek</th>\n",
              "      <th>Holiday</th>\n",
              "      <th>Temperature</th>\n",
              "      <th>Humidity</th>\n",
              "      <th>SquareFootage</th>\n",
              "      <th>Occupancy</th>\n",
              "      <th>HVACUsage</th>\n",
              "      <th>LightingUsage</th>\n",
              "      <th>RenewableEnergy</th>\n",
              "      <th>EnergyConsumption</th>\n",
              "    </tr>\n",
              "  </thead>\n",
              "  <tbody>\n",
              "    <tr>\n",
              "      <th>1227</th>\n",
              "      <td>9</td>\n",
              "      <td>2</td>\n",
              "      <td>Saturday</td>\n",
              "      <td>No</td>\n",
              "      <td>29.412360</td>\n",
              "      <td>47.368427</td>\n",
              "      <td>1905.249762</td>\n",
              "      <td>3</td>\n",
              "      <td>On</td>\n",
              "      <td>Off</td>\n",
              "      <td>9.602456</td>\n",
              "      <td>79.74911905310127</td>\n",
              "    </tr>\n",
              "    <tr>\n",
              "      <th>1228</th>\n",
              "      <td>6</td>\n",
              "      <td>16</td>\n",
              "      <td>Saturday</td>\n",
              "      <td>Yes</td>\n",
              "      <td>24.019593</td>\n",
              "      <td>59.272447</td>\n",
              "      <td>1274.096723</td>\n",
              "      <td>9</td>\n",
              "      <td>Off</td>\n",
              "      <td>On</td>\n",
              "      <td>21.973733</td>\n",
              "      <td>72.93770990438871</td>\n",
              "    </tr>\n",
              "    <tr>\n",
              "      <th>1229</th>\n",
              "      <td>1</td>\n",
              "      <td>1</td>\n",
              "      <td>Tuesday</td>\n",
              "      <td>No</td>\n",
              "      <td>21.926454</td>\n",
              "      <td>44.605974</td>\n",
              "      <td>1135.054165</td>\n",
              "      <td>5</td>\n",
              "      <td>On</td>\n",
              "      <td>On</td>\n",
              "      <td>4.858261</td>\n",
              "      <td>77.02412225998496</td>\n",
              "    </tr>\n",
              "    <tr>\n",
              "      <th>1230</th>\n",
              "      <td>3</td>\n",
              "      <td>2</td>\n",
              "      <td>Monday</td>\n",
              "      <td>No</td>\n",
              "      <td>24.581719</td>\n",
              "      <td>32.637069</td>\n",
              "      <td>1295.556323</td>\n",
              "      <td>5</td>\n",
              "      <td>Off</td>\n",
              "      <td>Off</td>\n",
              "      <td>1.763935</td>\n",
              "      <td>71.75136050151936</td>\n",
              "    </tr>\n",
              "    <tr>\n",
              "      <th>1231</th>\n",
              "      <td>12</td>\n",
              "      <td>17</td>\n",
              "      <td>Sunday</td>\n",
              "      <td>Yes</td>\n",
              "      <td>22.229281</td>\n",
              "      <td>46.942542</td>\n",
              "      <td>1330.187266</td>\n",
              "      <td>6</td>\n",
              "      <td>On</td>\n",
              "      <td>On</td>\n",
              "      <td>20.657222</td>\n",
              "      <td>72.10855378660037</td>\n",
              "    </tr>\n",
              "  </tbody>\n",
              "</table>\n",
              "</div>\n",
              "    <div class=\"colab-df-buttons\">\n",
              "\n",
              "  <div class=\"colab-df-container\">\n",
              "    <button class=\"colab-df-convert\" onclick=\"convertToInteractive('df-07deb5a1-e53b-40dd-a6be-9ea44743014f')\"\n",
              "            title=\"Convert this dataframe to an interactive table.\"\n",
              "            style=\"display:none;\">\n",
              "\n",
              "  <svg xmlns=\"http://www.w3.org/2000/svg\" height=\"24px\" viewBox=\"0 -960 960 960\">\n",
              "    <path d=\"M120-120v-720h720v720H120Zm60-500h600v-160H180v160Zm220 220h160v-160H400v160Zm0 220h160v-160H400v160ZM180-400h160v-160H180v160Zm440 0h160v-160H620v160ZM180-180h160v-160H180v160Zm440 0h160v-160H620v160Z\"/>\n",
              "  </svg>\n",
              "    </button>\n",
              "\n",
              "  <style>\n",
              "    .colab-df-container {\n",
              "      display:flex;\n",
              "      gap: 12px;\n",
              "    }\n",
              "\n",
              "    .colab-df-convert {\n",
              "      background-color: #E8F0FE;\n",
              "      border: none;\n",
              "      border-radius: 50%;\n",
              "      cursor: pointer;\n",
              "      display: none;\n",
              "      fill: #1967D2;\n",
              "      height: 32px;\n",
              "      padding: 0 0 0 0;\n",
              "      width: 32px;\n",
              "    }\n",
              "\n",
              "    .colab-df-convert:hover {\n",
              "      background-color: #E2EBFA;\n",
              "      box-shadow: 0px 1px 2px rgba(60, 64, 67, 0.3), 0px 1px 3px 1px rgba(60, 64, 67, 0.15);\n",
              "      fill: #174EA6;\n",
              "    }\n",
              "\n",
              "    .colab-df-buttons div {\n",
              "      margin-bottom: 4px;\n",
              "    }\n",
              "\n",
              "    [theme=dark] .colab-df-convert {\n",
              "      background-color: #3B4455;\n",
              "      fill: #D2E3FC;\n",
              "    }\n",
              "\n",
              "    [theme=dark] .colab-df-convert:hover {\n",
              "      background-color: #434B5C;\n",
              "      box-shadow: 0px 1px 3px 1px rgba(0, 0, 0, 0.15);\n",
              "      filter: drop-shadow(0px 1px 2px rgba(0, 0, 0, 0.3));\n",
              "      fill: #FFFFFF;\n",
              "    }\n",
              "  </style>\n",
              "\n",
              "    <script>\n",
              "      const buttonEl =\n",
              "        document.querySelector('#df-07deb5a1-e53b-40dd-a6be-9ea44743014f button.colab-df-convert');\n",
              "      buttonEl.style.display =\n",
              "        google.colab.kernel.accessAllowed ? 'block' : 'none';\n",
              "\n",
              "      async function convertToInteractive(key) {\n",
              "        const element = document.querySelector('#df-07deb5a1-e53b-40dd-a6be-9ea44743014f');\n",
              "        const dataTable =\n",
              "          await google.colab.kernel.invokeFunction('convertToInteractive',\n",
              "                                                    [key], {});\n",
              "        if (!dataTable) return;\n",
              "\n",
              "        const docLinkHtml = 'Like what you see? Visit the ' +\n",
              "          '<a target=\"_blank\" href=https://colab.research.google.com/notebooks/data_table.ipynb>data table notebook</a>'\n",
              "          + ' to learn more about interactive tables.';\n",
              "        element.innerHTML = '';\n",
              "        dataTable['output_type'] = 'display_data';\n",
              "        await google.colab.output.renderOutput(dataTable, element);\n",
              "        const docLink = document.createElement('div');\n",
              "        docLink.innerHTML = docLinkHtml;\n",
              "        element.appendChild(docLink);\n",
              "      }\n",
              "    </script>\n",
              "  </div>\n",
              "\n",
              "\n",
              "<div id=\"df-e5642c67-7061-40e4-a236-d3e18ecfaca2\">\n",
              "  <button class=\"colab-df-quickchart\" onclick=\"quickchart('df-e5642c67-7061-40e4-a236-d3e18ecfaca2')\"\n",
              "            title=\"Suggest charts\"\n",
              "            style=\"display:none;\">\n",
              "\n",
              "<svg xmlns=\"http://www.w3.org/2000/svg\" height=\"24px\"viewBox=\"0 0 24 24\"\n",
              "     width=\"24px\">\n",
              "    <g>\n",
              "        <path d=\"M19 3H5c-1.1 0-2 .9-2 2v14c0 1.1.9 2 2 2h14c1.1 0 2-.9 2-2V5c0-1.1-.9-2-2-2zM9 17H7v-7h2v7zm4 0h-2V7h2v10zm4 0h-2v-4h2v4z\"/>\n",
              "    </g>\n",
              "</svg>\n",
              "  </button>\n",
              "\n",
              "<style>\n",
              "  .colab-df-quickchart {\n",
              "      --bg-color: #E8F0FE;\n",
              "      --fill-color: #1967D2;\n",
              "      --hover-bg-color: #E2EBFA;\n",
              "      --hover-fill-color: #174EA6;\n",
              "      --disabled-fill-color: #AAA;\n",
              "      --disabled-bg-color: #DDD;\n",
              "  }\n",
              "\n",
              "  [theme=dark] .colab-df-quickchart {\n",
              "      --bg-color: #3B4455;\n",
              "      --fill-color: #D2E3FC;\n",
              "      --hover-bg-color: #434B5C;\n",
              "      --hover-fill-color: #FFFFFF;\n",
              "      --disabled-bg-color: #3B4455;\n",
              "      --disabled-fill-color: #666;\n",
              "  }\n",
              "\n",
              "  .colab-df-quickchart {\n",
              "    background-color: var(--bg-color);\n",
              "    border: none;\n",
              "    border-radius: 50%;\n",
              "    cursor: pointer;\n",
              "    display: none;\n",
              "    fill: var(--fill-color);\n",
              "    height: 32px;\n",
              "    padding: 0;\n",
              "    width: 32px;\n",
              "  }\n",
              "\n",
              "  .colab-df-quickchart:hover {\n",
              "    background-color: var(--hover-bg-color);\n",
              "    box-shadow: 0 1px 2px rgba(60, 64, 67, 0.3), 0 1px 3px 1px rgba(60, 64, 67, 0.15);\n",
              "    fill: var(--button-hover-fill-color);\n",
              "  }\n",
              "\n",
              "  .colab-df-quickchart-complete:disabled,\n",
              "  .colab-df-quickchart-complete:disabled:hover {\n",
              "    background-color: var(--disabled-bg-color);\n",
              "    fill: var(--disabled-fill-color);\n",
              "    box-shadow: none;\n",
              "  }\n",
              "\n",
              "  .colab-df-spinner {\n",
              "    border: 2px solid var(--fill-color);\n",
              "    border-color: transparent;\n",
              "    border-bottom-color: var(--fill-color);\n",
              "    animation:\n",
              "      spin 1s steps(1) infinite;\n",
              "  }\n",
              "\n",
              "  @keyframes spin {\n",
              "    0% {\n",
              "      border-color: transparent;\n",
              "      border-bottom-color: var(--fill-color);\n",
              "      border-left-color: var(--fill-color);\n",
              "    }\n",
              "    20% {\n",
              "      border-color: transparent;\n",
              "      border-left-color: var(--fill-color);\n",
              "      border-top-color: var(--fill-color);\n",
              "    }\n",
              "    30% {\n",
              "      border-color: transparent;\n",
              "      border-left-color: var(--fill-color);\n",
              "      border-top-color: var(--fill-color);\n",
              "      border-right-color: var(--fill-color);\n",
              "    }\n",
              "    40% {\n",
              "      border-color: transparent;\n",
              "      border-right-color: var(--fill-color);\n",
              "      border-top-color: var(--fill-color);\n",
              "    }\n",
              "    60% {\n",
              "      border-color: transparent;\n",
              "      border-right-color: var(--fill-color);\n",
              "    }\n",
              "    80% {\n",
              "      border-color: transparent;\n",
              "      border-right-color: var(--fill-color);\n",
              "      border-bottom-color: var(--fill-color);\n",
              "    }\n",
              "    90% {\n",
              "      border-color: transparent;\n",
              "      border-bottom-color: var(--fill-color);\n",
              "    }\n",
              "  }\n",
              "</style>\n",
              "\n",
              "  <script>\n",
              "    async function quickchart(key) {\n",
              "      const quickchartButtonEl =\n",
              "        document.querySelector('#' + key + ' button');\n",
              "      quickchartButtonEl.disabled = true;  // To prevent multiple clicks.\n",
              "      quickchartButtonEl.classList.add('colab-df-spinner');\n",
              "      try {\n",
              "        const charts = await google.colab.kernel.invokeFunction(\n",
              "            'suggestCharts', [key], {});\n",
              "      } catch (error) {\n",
              "        console.error('Error during call to suggestCharts:', error);\n",
              "      }\n",
              "      quickchartButtonEl.classList.remove('colab-df-spinner');\n",
              "      quickchartButtonEl.classList.add('colab-df-quickchart-complete');\n",
              "    }\n",
              "    (() => {\n",
              "      let quickchartButtonEl =\n",
              "        document.querySelector('#df-e5642c67-7061-40e4-a236-d3e18ecfaca2 button');\n",
              "      quickchartButtonEl.style.display =\n",
              "        google.colab.kernel.accessAllowed ? 'block' : 'none';\n",
              "    })();\n",
              "  </script>\n",
              "</div>\n",
              "\n",
              "    </div>\n",
              "  </div>\n"
            ],
            "application/vnd.google.colaboratory.intrinsic+json": {
              "type": "dataframe",
              "summary": "{\n  \"name\": \"df\",\n  \"rows\": 5,\n  \"fields\": [\n    {\n      \"column\": \"Month\",\n      \"properties\": {\n        \"dtype\": \"string\",\n        \"num_unique_values\": 5,\n        \"samples\": [\n          \"6\",\n          \"12\",\n          \"1\"\n        ],\n        \"semantic_type\": \"\",\n        \"description\": \"\"\n      }\n    },\n    {\n      \"column\": \"Hour\",\n      \"properties\": {\n        \"dtype\": \"number\",\n        \"std\": 8,\n        \"min\": 1,\n        \"max\": 17,\n        \"num_unique_values\": 4,\n        \"samples\": [\n          16,\n          17,\n          2\n        ],\n        \"semantic_type\": \"\",\n        \"description\": \"\"\n      }\n    },\n    {\n      \"column\": \"DayOfWeek\",\n      \"properties\": {\n        \"dtype\": \"string\",\n        \"num_unique_values\": 4,\n        \"samples\": [\n          \"Tuesday\",\n          \"Sunday\",\n          \"Saturday\"\n        ],\n        \"semantic_type\": \"\",\n        \"description\": \"\"\n      }\n    },\n    {\n      \"column\": \"Holiday\",\n      \"properties\": {\n        \"dtype\": \"category\",\n        \"num_unique_values\": 2,\n        \"samples\": [\n          \"Yes\",\n          \"No\"\n        ],\n        \"semantic_type\": \"\",\n        \"description\": \"\"\n      }\n    },\n    {\n      \"column\": \"Temperature\",\n      \"properties\": {\n        \"dtype\": \"number\",\n        \"std\": 3.0052532276975765,\n        \"min\": 21.926454263540705,\n        \"max\": 29.41235951305905,\n        \"num_unique_values\": 5,\n        \"samples\": [\n          24.01959342103952,\n          22.229281156299947\n        ],\n        \"semantic_type\": \"\",\n        \"description\": \"\"\n      }\n    },\n    {\n      \"column\": \"Humidity\",\n      \"properties\": {\n        \"dtype\": \"number\",\n        \"std\": 9.477518626031998,\n        \"min\": 32.63706933971487,\n        \"max\": 59.27244672656602,\n        \"num_unique_values\": 5,\n        \"samples\": [\n          59.27244672656602,\n          46.94254209962643\n        ],\n        \"semantic_type\": \"\",\n        \"description\": \"\"\n      }\n    },\n    {\n      \"column\": \"SquareFootage\",\n      \"properties\": {\n        \"dtype\": \"number\",\n        \"std\": 298.4924662181437,\n        \"min\": 1135.054164941908,\n        \"max\": 1905.249761938711,\n        \"num_unique_values\": 5,\n        \"samples\": [\n          1274.096723182566,\n          1330.1872661191778\n        ],\n        \"semantic_type\": \"\",\n        \"description\": \"\"\n      }\n    },\n    {\n      \"column\": \"Occupancy\",\n      \"properties\": {\n        \"dtype\": \"number\",\n        \"std\": 2,\n        \"min\": 3,\n        \"max\": 9,\n        \"num_unique_values\": 4,\n        \"samples\": [\n          9,\n          6\n        ],\n        \"semantic_type\": \"\",\n        \"description\": \"\"\n      }\n    },\n    {\n      \"column\": \"HVACUsage\",\n      \"properties\": {\n        \"dtype\": \"category\",\n        \"num_unique_values\": 2,\n        \"samples\": [\n          \"Off\",\n          \"On\"\n        ],\n        \"semantic_type\": \"\",\n        \"description\": \"\"\n      }\n    },\n    {\n      \"column\": \"LightingUsage\",\n      \"properties\": {\n        \"dtype\": \"category\",\n        \"num_unique_values\": 2,\n        \"samples\": [\n          \"On\",\n          \"Off\"\n        ],\n        \"semantic_type\": \"\",\n        \"description\": \"\"\n      }\n    },\n    {\n      \"column\": \"RenewableEnergy\",\n      \"properties\": {\n        \"dtype\": \"number\",\n        \"std\": 9.160930768329658,\n        \"min\": 1.7639347486210075,\n        \"max\": 21.97373315929452,\n        \"num_unique_values\": 5,\n        \"samples\": [\n          21.97373315929452,\n          20.65722236081236\n        ],\n        \"semantic_type\": \"\",\n        \"description\": \"\"\n      }\n    },\n    {\n      \"column\": \"EnergyConsumption\",\n      \"properties\": {\n        \"dtype\": \"string\",\n        \"num_unique_values\": 5,\n        \"samples\": [\n          \"72.93770990438871\",\n          \"72.10855378660037\"\n        ],\n        \"semantic_type\": \"\",\n        \"description\": \"\"\n      }\n    }\n  ]\n}"
            }
          },
          "metadata": {},
          "execution_count": 241
        }
      ]
    },
    {
      "cell_type": "markdown",
      "source": [
        "The dataset has been imported successfully, proven by the successful head and tail checking. This dataset has an objective as follows:\n",
        "\n",
        "Goal: Predict the amount of energy consumed by a building with solar panel!\n",
        "\n",
        "- **Month**: The month of the year when the data was recorded.\n",
        "- **Hour**: The hour of the day when the data was recorded.\n",
        "- **DayOfWeek**: The day of the week when the data was recorded.\n",
        "- **Holiday**: Indicates whether the day was a holiday (Yes/No).\n",
        "- **Temperature**: The average daily temperature in Celsius\n",
        "- **Humidity**: The average daily humidity level (%).\n",
        "- **SquareFootage**: The area of the building being monitored in square meters.\n",
        "- **Occupancy**: The total number of people occupying the building.\n",
        "- **HVACUsage**: Indicates whether the HVAC system was in use (On/Off).\n",
        "- **LightingUsage**: Indicates whether the lighting system was in use (On/Off).\n",
        "- **RenewableEnergy**: The amount of renewable energy generated at the time of data collection.\n",
        "- **EnergyConsumption**: The amount of energy consumed at the time of data collection."
      ],
      "metadata": {
        "id": "cFyF4lDxzBVp"
      }
    },
    {
      "cell_type": "markdown",
      "source": [
        "### Check the number of rows and columns\n",
        "Understanding the number of rows and columns is necessary because we can understand how many data points do we have (if we have sufficient amount of them or not) and understanding the dimensionality of our dataset."
      ],
      "metadata": {
        "id": "XTTYObnAz4DP"
      }
    },
    {
      "cell_type": "code",
      "source": [
        "'''\n",
        "The df.shape syntax will return 2 arguments,\n",
        "the first index showing the number of rows, and the second showing the number of columns.\n",
        "Example: [10, 24] means the data has 10 rows and 24 columns.\n",
        "For better readability, I will call the df.shape[0] for rows and df.shape[1] for columns.\n",
        "'''\n",
        "print(f\"# of rows: \", df.shape[0])\n",
        "print(f\"# of columns: \", df.shape[1])"
      ],
      "metadata": {
        "colab": {
          "base_uri": "https://localhost:8080/"
        },
        "id": "iXj-2Pae0EG5",
        "outputId": "5419f6df-8678-4a05-d5ab-4b3e06789aff"
      },
      "execution_count": null,
      "outputs": [
        {
          "output_type": "stream",
          "name": "stdout",
          "text": [
            "# of rows:  1232\n",
            "# of columns:  12\n"
          ]
        }
      ]
    },
    {
      "cell_type": "markdown",
      "source": [
        "The dataset has 1232 rows and 12 columns."
      ],
      "metadata": {
        "id": "znr4fxUu0x9k"
      }
    },
    {
      "cell_type": "markdown",
      "source": [
        "### Check the data information\n",
        "By using df.info(), we are able to obtain information such as the column names, non-null count for each column, and the datatype. It's like killing two birds with one stone -- understanding multiple information of the dataset at once."
      ],
      "metadata": {
        "id": "y0nl58Q10-Lv"
      }
    },
    {
      "cell_type": "code",
      "source": [
        "# Check dataset information\n",
        "df.info()"
      ],
      "metadata": {
        "colab": {
          "base_uri": "https://localhost:8080/"
        },
        "id": "80cwvIPF09R_",
        "outputId": "9b959c48-f5bc-48bc-8ccb-22ccb65fce6d"
      },
      "execution_count": null,
      "outputs": [
        {
          "output_type": "stream",
          "name": "stdout",
          "text": [
            "<class 'pandas.core.frame.DataFrame'>\n",
            "RangeIndex: 1232 entries, 0 to 1231\n",
            "Data columns (total 12 columns):\n",
            " #   Column             Non-Null Count  Dtype  \n",
            "---  ------             --------------  -----  \n",
            " 0   Month              1232 non-null   object \n",
            " 1   Hour               1232 non-null   int64  \n",
            " 2   DayOfWeek          1232 non-null   object \n",
            " 3   Holiday            1232 non-null   object \n",
            " 4   Temperature        1232 non-null   float64\n",
            " 5   Humidity           1232 non-null   float64\n",
            " 6   SquareFootage      1232 non-null   float64\n",
            " 7   Occupancy          1232 non-null   int64  \n",
            " 8   HVACUsage          1232 non-null   object \n",
            " 9   LightingUsage      1232 non-null   object \n",
            " 10  RenewableEnergy    1232 non-null   float64\n",
            " 11  EnergyConsumption  1232 non-null   object \n",
            "dtypes: float64(4), int64(2), object(6)\n",
            "memory usage: 115.6+ KB\n"
          ]
        }
      ]
    },
    {
      "cell_type": "markdown",
      "source": [
        "From the imported data, we can understand that there are some numerical (int and float) and categorical (object) variables present. To distinguish them easily, let's **divide them into num** (for numerical var) and **cat** (for categorical var) so we can do **EDA and preprocessing according to the datatype**.\n",
        "\n",
        "From the datatype, I noticed this abnormality. From df.head(), **Month and EnergyConsumption are written in numbers**, so their **datatype should be int instead of object**. (FIX) 🚨\n",
        "\n",
        "Aside from that, all columns have 1232 non-null counts. As our data has 1232 rows, this means that there is **no null present in the data**."
      ],
      "metadata": {
        "id": "ZJ709ifzzaNF"
      }
    },
    {
      "cell_type": "code",
      "source": [
        "# Initializing empty lists to store the variables name\n",
        "num = [] # numerical\n",
        "cat = [] # categorical\n",
        "\n",
        "# Dividing the variables into the corresponding list\n",
        "for i in df.columns:\n",
        "    if df[i].dtype == 'object':\n",
        "        cat.append(i)\n",
        "    else:\n",
        "        num.append(i)\n",
        "\n",
        "# Checking cardinality first\n",
        "for i in cat:\n",
        "  print(f\"Column {i}\")\n",
        "  print(df[i].value_counts())\n",
        "  print(\"\")"
      ],
      "metadata": {
        "colab": {
          "base_uri": "https://localhost:8080/"
        },
        "id": "LRJwGMR6oIQo",
        "outputId": "aa2e6eb0-a994-4a80-e6f1-c76634f69407"
      },
      "execution_count": null,
      "outputs": [
        {
          "output_type": "stream",
          "name": "stdout",
          "text": [
            "Column Month\n",
            "Month\n",
            "1            189\n",
            "4            119\n",
            "10           115\n",
            "3            100\n",
            "12            99\n",
            "6             95\n",
            "11            93\n",
            "8             90\n",
            "7             88\n",
            "5             84\n",
            "9             83\n",
            "2             64\n",
            "Sep            7\n",
            "July           4\n",
            "September      2\n",
            "Name: count, dtype: int64\n",
            "\n",
            "Column DayOfWeek\n",
            "DayOfWeek\n",
            "Sunday       192\n",
            "Saturday     184\n",
            "Thursday     182\n",
            "Monday       169\n",
            "Friday       169\n",
            "Wednesday    168\n",
            "Tuesday      168\n",
            "Name: count, dtype: int64\n",
            "\n",
            "Column Holiday\n",
            "Holiday\n",
            "No     675\n",
            "Yes    557\n",
            "Name: count, dtype: int64\n",
            "\n",
            "Column HVACUsage\n",
            "HVACUsage\n",
            "Off    630\n",
            "On     602\n",
            "Name: count, dtype: int64\n",
            "\n",
            "Column LightingUsage\n",
            "LightingUsage\n",
            "On     619\n",
            "Off    613\n",
            "Name: count, dtype: int64\n",
            "\n",
            "Column EnergyConsumption\n",
            "EnergyConsumption\n",
            "53.263278            11\n",
            "99.20112              8\n",
            "nan                   3\n",
            "87.41463127071623     1\n",
            "86.95102003760138     1\n",
            "                     ..\n",
            "81.97148867957229     1\n",
            "79.33483356260274     1\n",
            "80.0038474890762      1\n",
            "66.31211986951728     1\n",
            "73.44487473165232     1\n",
            "Name: count, Length: 1213, dtype: int64\n",
            "\n"
          ]
        }
      ]
    },
    {
      "cell_type": "markdown",
      "source": [
        "### Fixing the Month & EnergyConsumption\n",
        "Since these 2 are recognized as object, while they are supposed to be numerical (given their nature), let's change the datatype.\n",
        "\n",
        "However before typecasting, we must understand that some anomalies present in the data:\n",
        "- In Month, 7 values are recognized as \"Sep\", 4 values as \"July\", and 2 values as \"September\". We must change \"Sep\" and \"September\" to 9 and \"July\" to 7 first.\n",
        "- In EnergyConsumption, there are 3 values recognized as nan. The number of null is very small so we will drop the null."
      ],
      "metadata": {
        "id": "t8UKUJEM3N-1"
      }
    },
    {
      "cell_type": "code",
      "source": [
        "# Fix month\n",
        "def fix_month(x):\n",
        "  if x in ['Sep', 'September']:\n",
        "    return 9\n",
        "  elif x in ['July']:\n",
        "    return 7\n",
        "  else:\n",
        "    return x\n",
        "\n",
        "df['Month'] = df['Month'].apply(fix_month)"
      ],
      "metadata": {
        "id": "thbpOhVUo868"
      },
      "execution_count": null,
      "outputs": []
    },
    {
      "cell_type": "code",
      "source": [
        "# Fix EnergyConsumption\n",
        "df = df[df['EnergyConsumption'] != 'nan'] # special treatment because the nan is not np.nan but literal string"
      ],
      "metadata": {
        "id": "GHm8VOGIpJX-"
      },
      "execution_count": null,
      "outputs": []
    },
    {
      "cell_type": "code",
      "source": [
        "df.shape"
      ],
      "metadata": {
        "colab": {
          "base_uri": "https://localhost:8080/"
        },
        "id": "Ax2wMFyMpVpk",
        "outputId": "5c28a997-c54e-493e-d18c-199547677dd4"
      },
      "execution_count": null,
      "outputs": [
        {
          "output_type": "execute_result",
          "data": {
            "text/plain": [
              "(1229, 12)"
            ]
          },
          "metadata": {},
          "execution_count": 247
        }
      ]
    },
    {
      "cell_type": "markdown",
      "source": [
        "The three nan rows have been removed and now we have 1229 data left."
      ],
      "metadata": {
        "id": "Y5WAl5XKpuev"
      }
    },
    {
      "cell_type": "code",
      "source": [
        "# Rechecking cardinality\n",
        "for i in cat:\n",
        "  print(f\"Column {i}\")\n",
        "  print(df[i].value_counts())\n",
        "  print(\"\")"
      ],
      "metadata": {
        "colab": {
          "base_uri": "https://localhost:8080/"
        },
        "id": "f_5GM5m1pOfj",
        "outputId": "16b0b2fa-b2ea-4555-f80b-8d5e3d1def33"
      },
      "execution_count": null,
      "outputs": [
        {
          "output_type": "stream",
          "name": "stdout",
          "text": [
            "Column Month\n",
            "Month\n",
            "1     189\n",
            "4     119\n",
            "10    115\n",
            "3      99\n",
            "12     99\n",
            "6      95\n",
            "11     92\n",
            "8      89\n",
            "7      88\n",
            "5      84\n",
            "9      83\n",
            "2      64\n",
            "9       9\n",
            "7       4\n",
            "Name: count, dtype: int64\n",
            "\n",
            "Column DayOfWeek\n",
            "DayOfWeek\n",
            "Sunday       192\n",
            "Saturday     183\n",
            "Thursday     182\n",
            "Friday       169\n",
            "Tuesday      168\n",
            "Monday       168\n",
            "Wednesday    167\n",
            "Name: count, dtype: int64\n",
            "\n",
            "Column Holiday\n",
            "Holiday\n",
            "No     673\n",
            "Yes    556\n",
            "Name: count, dtype: int64\n",
            "\n",
            "Column HVACUsage\n",
            "HVACUsage\n",
            "Off    628\n",
            "On     601\n",
            "Name: count, dtype: int64\n",
            "\n",
            "Column LightingUsage\n",
            "LightingUsage\n",
            "On     617\n",
            "Off    612\n",
            "Name: count, dtype: int64\n",
            "\n",
            "Column EnergyConsumption\n",
            "EnergyConsumption\n",
            "53.263278            11\n",
            "99.20112              8\n",
            "87.41463127071623     1\n",
            "86.95102003760138     1\n",
            "82.01743618687475     1\n",
            "                     ..\n",
            "81.97148867957229     1\n",
            "79.33483356260274     1\n",
            "80.0038474890762      1\n",
            "66.31211986951728     1\n",
            "73.44487473165232     1\n",
            "Name: count, Length: 1212, dtype: int64\n",
            "\n"
          ]
        }
      ]
    },
    {
      "cell_type": "code",
      "source": [
        "# Change the datatype from object to numeric,\n",
        "# if errors present, coerce (force change)\n",
        "df['Month'] = pd.to_numeric(df['Month'], errors='coerce')\n",
        "df['EnergyConsumption'] = pd.to_numeric(df['EnergyConsumption'], errors='coerce')\n",
        "\n",
        "# Check the changes\n",
        "df.info()"
      ],
      "metadata": {
        "colab": {
          "base_uri": "https://localhost:8080/"
        },
        "id": "XCTr4k-53cet",
        "outputId": "6ad331b4-5cd2-4296-9a48-e868de902f78"
      },
      "execution_count": null,
      "outputs": [
        {
          "output_type": "stream",
          "name": "stdout",
          "text": [
            "<class 'pandas.core.frame.DataFrame'>\n",
            "Index: 1229 entries, 0 to 1231\n",
            "Data columns (total 12 columns):\n",
            " #   Column             Non-Null Count  Dtype  \n",
            "---  ------             --------------  -----  \n",
            " 0   Month              1229 non-null   int64  \n",
            " 1   Hour               1229 non-null   int64  \n",
            " 2   DayOfWeek          1229 non-null   object \n",
            " 3   Holiday            1229 non-null   object \n",
            " 4   Temperature        1229 non-null   float64\n",
            " 5   Humidity           1229 non-null   float64\n",
            " 6   SquareFootage      1229 non-null   float64\n",
            " 7   Occupancy          1229 non-null   int64  \n",
            " 8   HVACUsage          1229 non-null   object \n",
            " 9   LightingUsage      1229 non-null   object \n",
            " 10  RenewableEnergy    1229 non-null   float64\n",
            " 11  EnergyConsumption  1229 non-null   float64\n",
            "dtypes: float64(5), int64(3), object(4)\n",
            "memory usage: 124.8+ KB\n"
          ]
        }
      ]
    },
    {
      "cell_type": "markdown",
      "source": [
        "The Month and EnergyConsumption datatype have been changed from object to float. Now that we have all numerical variables ready, we can divide the data to categorical and numerical variables."
      ],
      "metadata": {
        "id": "26qgCQeD4eIt"
      }
    },
    {
      "cell_type": "markdown",
      "source": [
        "### Dividing data to cat & num\n",
        "This is done for easier EDA and preprocessing, as categorical and numerical variables have to be treated differently in these processes."
      ],
      "metadata": {
        "id": "fa-qYd9g7K3I"
      }
    },
    {
      "cell_type": "code",
      "source": [
        "# Initializing empty lists again to store the variables name after preprocessing\n",
        "num = [] # numerical\n",
        "cat = [] # categorical\n",
        "\n",
        "# Dividing the variables into the corresponding list\n",
        "for i in df.columns:\n",
        "    if df[i].dtype == 'object':\n",
        "        cat.append(i)\n",
        "    else:\n",
        "        num.append(i)"
      ],
      "metadata": {
        "id": "dpdukhim63P1"
      },
      "execution_count": null,
      "outputs": []
    },
    {
      "cell_type": "code",
      "source": [
        "cat"
      ],
      "metadata": {
        "colab": {
          "base_uri": "https://localhost:8080/"
        },
        "id": "sD2WerJV7BiF",
        "outputId": "931a8852-ff2e-4a82-ad3d-ea389d2461fd"
      },
      "execution_count": null,
      "outputs": [
        {
          "output_type": "execute_result",
          "data": {
            "text/plain": [
              "['DayOfWeek', 'Holiday', 'HVACUsage', 'LightingUsage']"
            ]
          },
          "metadata": {},
          "execution_count": 251
        }
      ]
    },
    {
      "cell_type": "code",
      "source": [
        "num"
      ],
      "metadata": {
        "colab": {
          "base_uri": "https://localhost:8080/"
        },
        "id": "I5RJA1Te7CuQ",
        "outputId": "80af6aa7-d48c-4100-8eda-12d2459a3127"
      },
      "execution_count": null,
      "outputs": [
        {
          "output_type": "execute_result",
          "data": {
            "text/plain": [
              "['Month',\n",
              " 'Hour',\n",
              " 'Temperature',\n",
              " 'Humidity',\n",
              " 'SquareFootage',\n",
              " 'Occupancy',\n",
              " 'RenewableEnergy',\n",
              " 'EnergyConsumption']"
            ]
          },
          "metadata": {},
          "execution_count": 252
        }
      ]
    },
    {
      "cell_type": "markdown",
      "source": [
        "We have divided the variables into cat & num lists, there are 4 categorical data and 8 numerical data."
      ],
      "metadata": {
        "id": "w1lGZJF87EZm"
      }
    },
    {
      "cell_type": "markdown",
      "source": [
        "### Check duplicated data\n",
        "Duplicated data may cause redundancy in the number of data points, so it should be removed if duplicates are present."
      ],
      "metadata": {
        "id": "erHuAY14_DDG"
      }
    },
    {
      "cell_type": "code",
      "source": [
        "# Check duplicated data\n",
        "sum(df.duplicated())"
      ],
      "metadata": {
        "colab": {
          "base_uri": "https://localhost:8080/"
        },
        "id": "6EMzJjsBzKrm",
        "outputId": "41b70ce5-c225-4415-e639-980ea24183c4"
      },
      "execution_count": null,
      "outputs": [
        {
          "output_type": "execute_result",
          "data": {
            "text/plain": [
              "0"
            ]
          },
          "metadata": {},
          "execution_count": 253
        }
      ]
    },
    {
      "cell_type": "markdown",
      "source": [
        "The result is 0 which means our data does not have any duplicated value, so no fixing method is needed."
      ],
      "metadata": {
        "id": "I3YE_v0b_O4M"
      }
    },
    {
      "cell_type": "markdown",
      "source": [
        "### Check the numerical statistics\n",
        "Check the statistics first to understand more about the numerical variables."
      ],
      "metadata": {
        "id": "jn5Kqcox6hTs"
      }
    },
    {
      "cell_type": "code",
      "source": [
        "# Check the numerical statistics\n",
        "df.describe()"
      ],
      "metadata": {
        "colab": {
          "base_uri": "https://localhost:8080/",
          "height": 320
        },
        "id": "xmhMl6Hi1nQM",
        "outputId": "26a31564-0378-47f8-b368-63d7468c7a33"
      },
      "execution_count": null,
      "outputs": [
        {
          "output_type": "execute_result",
          "data": {
            "text/plain": [
              "             Month         Hour  Temperature     Humidity  SquareFootage  \\\n",
              "count  1229.000000  1229.000000  1229.000000  1229.000000    1229.000000   \n",
              "mean      6.195281    11.190399    24.887455    45.745003    1511.046316   \n",
              "std       3.624601     6.938624     3.049206     9.071996     297.313153   \n",
              "min       1.000000     0.000000    20.007565    30.015975    1000.512661   \n",
              "25%       3.000000     5.000000    22.368436    38.023509    1258.096515   \n",
              "50%       6.000000    11.000000    24.712931    46.127626    1504.392672   \n",
              "75%       9.000000    17.000000    27.308422    53.295957    1773.015808   \n",
              "max      12.000000    23.000000    29.998671    59.969085    1999.982252   \n",
              "\n",
              "         Occupancy  RenewableEnergy  EnergyConsumption  \n",
              "count  1229.000000      1229.000000        1229.000000  \n",
              "mean      4.610252        15.331282          76.633910  \n",
              "std       2.905167         9.224475           9.350648  \n",
              "min      -5.000000         0.006642          53.263278  \n",
              "25%       2.000000         7.639176          70.483886  \n",
              "50%       5.000000        15.548955          76.433003  \n",
              "75%       7.000000        23.116765          83.148943  \n",
              "max       9.000000        29.965327          99.201120  "
            ],
            "text/html": [
              "\n",
              "  <div id=\"df-c7e76681-3972-4dff-b140-a84feddad7c1\" class=\"colab-df-container\">\n",
              "    <div>\n",
              "<style scoped>\n",
              "    .dataframe tbody tr th:only-of-type {\n",
              "        vertical-align: middle;\n",
              "    }\n",
              "\n",
              "    .dataframe tbody tr th {\n",
              "        vertical-align: top;\n",
              "    }\n",
              "\n",
              "    .dataframe thead th {\n",
              "        text-align: right;\n",
              "    }\n",
              "</style>\n",
              "<table border=\"1\" class=\"dataframe\">\n",
              "  <thead>\n",
              "    <tr style=\"text-align: right;\">\n",
              "      <th></th>\n",
              "      <th>Month</th>\n",
              "      <th>Hour</th>\n",
              "      <th>Temperature</th>\n",
              "      <th>Humidity</th>\n",
              "      <th>SquareFootage</th>\n",
              "      <th>Occupancy</th>\n",
              "      <th>RenewableEnergy</th>\n",
              "      <th>EnergyConsumption</th>\n",
              "    </tr>\n",
              "  </thead>\n",
              "  <tbody>\n",
              "    <tr>\n",
              "      <th>count</th>\n",
              "      <td>1229.000000</td>\n",
              "      <td>1229.000000</td>\n",
              "      <td>1229.000000</td>\n",
              "      <td>1229.000000</td>\n",
              "      <td>1229.000000</td>\n",
              "      <td>1229.000000</td>\n",
              "      <td>1229.000000</td>\n",
              "      <td>1229.000000</td>\n",
              "    </tr>\n",
              "    <tr>\n",
              "      <th>mean</th>\n",
              "      <td>6.195281</td>\n",
              "      <td>11.190399</td>\n",
              "      <td>24.887455</td>\n",
              "      <td>45.745003</td>\n",
              "      <td>1511.046316</td>\n",
              "      <td>4.610252</td>\n",
              "      <td>15.331282</td>\n",
              "      <td>76.633910</td>\n",
              "    </tr>\n",
              "    <tr>\n",
              "      <th>std</th>\n",
              "      <td>3.624601</td>\n",
              "      <td>6.938624</td>\n",
              "      <td>3.049206</td>\n",
              "      <td>9.071996</td>\n",
              "      <td>297.313153</td>\n",
              "      <td>2.905167</td>\n",
              "      <td>9.224475</td>\n",
              "      <td>9.350648</td>\n",
              "    </tr>\n",
              "    <tr>\n",
              "      <th>min</th>\n",
              "      <td>1.000000</td>\n",
              "      <td>0.000000</td>\n",
              "      <td>20.007565</td>\n",
              "      <td>30.015975</td>\n",
              "      <td>1000.512661</td>\n",
              "      <td>-5.000000</td>\n",
              "      <td>0.006642</td>\n",
              "      <td>53.263278</td>\n",
              "    </tr>\n",
              "    <tr>\n",
              "      <th>25%</th>\n",
              "      <td>3.000000</td>\n",
              "      <td>5.000000</td>\n",
              "      <td>22.368436</td>\n",
              "      <td>38.023509</td>\n",
              "      <td>1258.096515</td>\n",
              "      <td>2.000000</td>\n",
              "      <td>7.639176</td>\n",
              "      <td>70.483886</td>\n",
              "    </tr>\n",
              "    <tr>\n",
              "      <th>50%</th>\n",
              "      <td>6.000000</td>\n",
              "      <td>11.000000</td>\n",
              "      <td>24.712931</td>\n",
              "      <td>46.127626</td>\n",
              "      <td>1504.392672</td>\n",
              "      <td>5.000000</td>\n",
              "      <td>15.548955</td>\n",
              "      <td>76.433003</td>\n",
              "    </tr>\n",
              "    <tr>\n",
              "      <th>75%</th>\n",
              "      <td>9.000000</td>\n",
              "      <td>17.000000</td>\n",
              "      <td>27.308422</td>\n",
              "      <td>53.295957</td>\n",
              "      <td>1773.015808</td>\n",
              "      <td>7.000000</td>\n",
              "      <td>23.116765</td>\n",
              "      <td>83.148943</td>\n",
              "    </tr>\n",
              "    <tr>\n",
              "      <th>max</th>\n",
              "      <td>12.000000</td>\n",
              "      <td>23.000000</td>\n",
              "      <td>29.998671</td>\n",
              "      <td>59.969085</td>\n",
              "      <td>1999.982252</td>\n",
              "      <td>9.000000</td>\n",
              "      <td>29.965327</td>\n",
              "      <td>99.201120</td>\n",
              "    </tr>\n",
              "  </tbody>\n",
              "</table>\n",
              "</div>\n",
              "    <div class=\"colab-df-buttons\">\n",
              "\n",
              "  <div class=\"colab-df-container\">\n",
              "    <button class=\"colab-df-convert\" onclick=\"convertToInteractive('df-c7e76681-3972-4dff-b140-a84feddad7c1')\"\n",
              "            title=\"Convert this dataframe to an interactive table.\"\n",
              "            style=\"display:none;\">\n",
              "\n",
              "  <svg xmlns=\"http://www.w3.org/2000/svg\" height=\"24px\" viewBox=\"0 -960 960 960\">\n",
              "    <path d=\"M120-120v-720h720v720H120Zm60-500h600v-160H180v160Zm220 220h160v-160H400v160Zm0 220h160v-160H400v160ZM180-400h160v-160H180v160Zm440 0h160v-160H620v160ZM180-180h160v-160H180v160Zm440 0h160v-160H620v160Z\"/>\n",
              "  </svg>\n",
              "    </button>\n",
              "\n",
              "  <style>\n",
              "    .colab-df-container {\n",
              "      display:flex;\n",
              "      gap: 12px;\n",
              "    }\n",
              "\n",
              "    .colab-df-convert {\n",
              "      background-color: #E8F0FE;\n",
              "      border: none;\n",
              "      border-radius: 50%;\n",
              "      cursor: pointer;\n",
              "      display: none;\n",
              "      fill: #1967D2;\n",
              "      height: 32px;\n",
              "      padding: 0 0 0 0;\n",
              "      width: 32px;\n",
              "    }\n",
              "\n",
              "    .colab-df-convert:hover {\n",
              "      background-color: #E2EBFA;\n",
              "      box-shadow: 0px 1px 2px rgba(60, 64, 67, 0.3), 0px 1px 3px 1px rgba(60, 64, 67, 0.15);\n",
              "      fill: #174EA6;\n",
              "    }\n",
              "\n",
              "    .colab-df-buttons div {\n",
              "      margin-bottom: 4px;\n",
              "    }\n",
              "\n",
              "    [theme=dark] .colab-df-convert {\n",
              "      background-color: #3B4455;\n",
              "      fill: #D2E3FC;\n",
              "    }\n",
              "\n",
              "    [theme=dark] .colab-df-convert:hover {\n",
              "      background-color: #434B5C;\n",
              "      box-shadow: 0px 1px 3px 1px rgba(0, 0, 0, 0.15);\n",
              "      filter: drop-shadow(0px 1px 2px rgba(0, 0, 0, 0.3));\n",
              "      fill: #FFFFFF;\n",
              "    }\n",
              "  </style>\n",
              "\n",
              "    <script>\n",
              "      const buttonEl =\n",
              "        document.querySelector('#df-c7e76681-3972-4dff-b140-a84feddad7c1 button.colab-df-convert');\n",
              "      buttonEl.style.display =\n",
              "        google.colab.kernel.accessAllowed ? 'block' : 'none';\n",
              "\n",
              "      async function convertToInteractive(key) {\n",
              "        const element = document.querySelector('#df-c7e76681-3972-4dff-b140-a84feddad7c1');\n",
              "        const dataTable =\n",
              "          await google.colab.kernel.invokeFunction('convertToInteractive',\n",
              "                                                    [key], {});\n",
              "        if (!dataTable) return;\n",
              "\n",
              "        const docLinkHtml = 'Like what you see? Visit the ' +\n",
              "          '<a target=\"_blank\" href=https://colab.research.google.com/notebooks/data_table.ipynb>data table notebook</a>'\n",
              "          + ' to learn more about interactive tables.';\n",
              "        element.innerHTML = '';\n",
              "        dataTable['output_type'] = 'display_data';\n",
              "        await google.colab.output.renderOutput(dataTable, element);\n",
              "        const docLink = document.createElement('div');\n",
              "        docLink.innerHTML = docLinkHtml;\n",
              "        element.appendChild(docLink);\n",
              "      }\n",
              "    </script>\n",
              "  </div>\n",
              "\n",
              "\n",
              "<div id=\"df-71423d42-44d9-40e2-9a6a-a59c5fb95c9c\">\n",
              "  <button class=\"colab-df-quickchart\" onclick=\"quickchart('df-71423d42-44d9-40e2-9a6a-a59c5fb95c9c')\"\n",
              "            title=\"Suggest charts\"\n",
              "            style=\"display:none;\">\n",
              "\n",
              "<svg xmlns=\"http://www.w3.org/2000/svg\" height=\"24px\"viewBox=\"0 0 24 24\"\n",
              "     width=\"24px\">\n",
              "    <g>\n",
              "        <path d=\"M19 3H5c-1.1 0-2 .9-2 2v14c0 1.1.9 2 2 2h14c1.1 0 2-.9 2-2V5c0-1.1-.9-2-2-2zM9 17H7v-7h2v7zm4 0h-2V7h2v10zm4 0h-2v-4h2v4z\"/>\n",
              "    </g>\n",
              "</svg>\n",
              "  </button>\n",
              "\n",
              "<style>\n",
              "  .colab-df-quickchart {\n",
              "      --bg-color: #E8F0FE;\n",
              "      --fill-color: #1967D2;\n",
              "      --hover-bg-color: #E2EBFA;\n",
              "      --hover-fill-color: #174EA6;\n",
              "      --disabled-fill-color: #AAA;\n",
              "      --disabled-bg-color: #DDD;\n",
              "  }\n",
              "\n",
              "  [theme=dark] .colab-df-quickchart {\n",
              "      --bg-color: #3B4455;\n",
              "      --fill-color: #D2E3FC;\n",
              "      --hover-bg-color: #434B5C;\n",
              "      --hover-fill-color: #FFFFFF;\n",
              "      --disabled-bg-color: #3B4455;\n",
              "      --disabled-fill-color: #666;\n",
              "  }\n",
              "\n",
              "  .colab-df-quickchart {\n",
              "    background-color: var(--bg-color);\n",
              "    border: none;\n",
              "    border-radius: 50%;\n",
              "    cursor: pointer;\n",
              "    display: none;\n",
              "    fill: var(--fill-color);\n",
              "    height: 32px;\n",
              "    padding: 0;\n",
              "    width: 32px;\n",
              "  }\n",
              "\n",
              "  .colab-df-quickchart:hover {\n",
              "    background-color: var(--hover-bg-color);\n",
              "    box-shadow: 0 1px 2px rgba(60, 64, 67, 0.3), 0 1px 3px 1px rgba(60, 64, 67, 0.15);\n",
              "    fill: var(--button-hover-fill-color);\n",
              "  }\n",
              "\n",
              "  .colab-df-quickchart-complete:disabled,\n",
              "  .colab-df-quickchart-complete:disabled:hover {\n",
              "    background-color: var(--disabled-bg-color);\n",
              "    fill: var(--disabled-fill-color);\n",
              "    box-shadow: none;\n",
              "  }\n",
              "\n",
              "  .colab-df-spinner {\n",
              "    border: 2px solid var(--fill-color);\n",
              "    border-color: transparent;\n",
              "    border-bottom-color: var(--fill-color);\n",
              "    animation:\n",
              "      spin 1s steps(1) infinite;\n",
              "  }\n",
              "\n",
              "  @keyframes spin {\n",
              "    0% {\n",
              "      border-color: transparent;\n",
              "      border-bottom-color: var(--fill-color);\n",
              "      border-left-color: var(--fill-color);\n",
              "    }\n",
              "    20% {\n",
              "      border-color: transparent;\n",
              "      border-left-color: var(--fill-color);\n",
              "      border-top-color: var(--fill-color);\n",
              "    }\n",
              "    30% {\n",
              "      border-color: transparent;\n",
              "      border-left-color: var(--fill-color);\n",
              "      border-top-color: var(--fill-color);\n",
              "      border-right-color: var(--fill-color);\n",
              "    }\n",
              "    40% {\n",
              "      border-color: transparent;\n",
              "      border-right-color: var(--fill-color);\n",
              "      border-top-color: var(--fill-color);\n",
              "    }\n",
              "    60% {\n",
              "      border-color: transparent;\n",
              "      border-right-color: var(--fill-color);\n",
              "    }\n",
              "    80% {\n",
              "      border-color: transparent;\n",
              "      border-right-color: var(--fill-color);\n",
              "      border-bottom-color: var(--fill-color);\n",
              "    }\n",
              "    90% {\n",
              "      border-color: transparent;\n",
              "      border-bottom-color: var(--fill-color);\n",
              "    }\n",
              "  }\n",
              "</style>\n",
              "\n",
              "  <script>\n",
              "    async function quickchart(key) {\n",
              "      const quickchartButtonEl =\n",
              "        document.querySelector('#' + key + ' button');\n",
              "      quickchartButtonEl.disabled = true;  // To prevent multiple clicks.\n",
              "      quickchartButtonEl.classList.add('colab-df-spinner');\n",
              "      try {\n",
              "        const charts = await google.colab.kernel.invokeFunction(\n",
              "            'suggestCharts', [key], {});\n",
              "      } catch (error) {\n",
              "        console.error('Error during call to suggestCharts:', error);\n",
              "      }\n",
              "      quickchartButtonEl.classList.remove('colab-df-spinner');\n",
              "      quickchartButtonEl.classList.add('colab-df-quickchart-complete');\n",
              "    }\n",
              "    (() => {\n",
              "      let quickchartButtonEl =\n",
              "        document.querySelector('#df-71423d42-44d9-40e2-9a6a-a59c5fb95c9c button');\n",
              "      quickchartButtonEl.style.display =\n",
              "        google.colab.kernel.accessAllowed ? 'block' : 'none';\n",
              "    })();\n",
              "  </script>\n",
              "</div>\n",
              "\n",
              "    </div>\n",
              "  </div>\n"
            ],
            "application/vnd.google.colaboratory.intrinsic+json": {
              "type": "dataframe",
              "summary": "{\n  \"name\": \"df\",\n  \"rows\": 8,\n  \"fields\": [\n    {\n      \"column\": \"Month\",\n      \"properties\": {\n        \"dtype\": \"number\",\n        \"std\": 432.46935528625,\n        \"min\": 1.0,\n        \"max\": 1229.0,\n        \"num_unique_values\": 8,\n        \"samples\": [\n          6.195280716029292,\n          6.0,\n          1229.0\n        ],\n        \"semantic_type\": \"\",\n        \"description\": \"\"\n      }\n    },\n    {\n      \"column\": \"Hour\",\n      \"properties\": {\n        \"dtype\": \"number\",\n        \"std\": 430.83145749255186,\n        \"min\": 0.0,\n        \"max\": 1229.0,\n        \"num_unique_values\": 8,\n        \"samples\": [\n          11.19039869812856,\n          11.0,\n          1229.0\n        ],\n        \"semantic_type\": \"\",\n        \"description\": \"\"\n      }\n    },\n    {\n      \"column\": \"Temperature\",\n      \"properties\": {\n        \"dtype\": \"number\",\n        \"std\": 426.9019180088017,\n        \"min\": 3.04920619150583,\n        \"max\": 1229.0,\n        \"num_unique_values\": 8,\n        \"samples\": [\n          24.887455176149498,\n          24.71293074728705,\n          1229.0\n        ],\n        \"semantic_type\": \"\",\n        \"description\": \"\"\n      }\n    },\n    {\n      \"column\": \"Humidity\",\n      \"properties\": {\n        \"dtype\": \"number\",\n        \"std\": 420.5511538763882,\n        \"min\": 9.07199622990636,\n        \"max\": 1229.0,\n        \"num_unique_values\": 8,\n        \"samples\": [\n          45.745002855921115,\n          46.12762624090053,\n          1229.0\n        ],\n        \"semantic_type\": \"\",\n        \"description\": \"\"\n      }\n    },\n    {\n      \"column\": \"SquareFootage\",\n      \"properties\": {\n        \"dtype\": \"number\",\n        \"std\": 520.7343464861782,\n        \"min\": 297.3131530100048,\n        \"max\": 1999.982252,\n        \"num_unique_values\": 8,\n        \"samples\": [\n          1511.0463158719756,\n          1504.3926724162768,\n          1229.0\n        ],\n        \"semantic_type\": \"\",\n        \"description\": \"\"\n      }\n    },\n    {\n      \"column\": \"Occupancy\",\n      \"properties\": {\n        \"dtype\": \"number\",\n        \"std\": 433.2482919642759,\n        \"min\": -5.0,\n        \"max\": 1229.0,\n        \"num_unique_values\": 8,\n        \"samples\": [\n          4.610252237591538,\n          5.0,\n          1229.0\n        ],\n        \"semantic_type\": \"\",\n        \"description\": \"\"\n      }\n    },\n    {\n      \"column\": \"RenewableEnergy\",\n      \"properties\": {\n        \"dtype\": \"number\",\n        \"std\": 429.52410903300785,\n        \"min\": 0.006642,\n        \"max\": 1229.0,\n        \"num_unique_values\": 8,\n        \"samples\": [\n          15.331282228148574,\n          15.54895474188881,\n          1229.0\n        ],\n        \"semantic_type\": \"\",\n        \"description\": \"\"\n      }\n    },\n    {\n      \"column\": \"EnergyConsumption\",\n      \"properties\": {\n        \"dtype\": \"number\",\n        \"std\": 411.7225490622289,\n        \"min\": 9.350647983642473,\n        \"max\": 1229.0,\n        \"num_unique_values\": 8,\n        \"samples\": [\n          76.63390986210536,\n          76.43300328777627,\n          1229.0\n        ],\n        \"semantic_type\": \"\",\n        \"description\": \"\"\n      }\n    }\n  ]\n}"
            }
          },
          "metadata": {},
          "execution_count": 254
        }
      ]
    },
    {
      "cell_type": "markdown",
      "source": [
        "- The count is 1229 for every column because we have 1229 rows of data.\n",
        "- **Month** (month of recording): the data spans from 1 (January) to 12 (December), so the data makes sense as we have 12 months in a year.\n",
        "- **Hour** (hour of recording): the data spans from 00.00 to 23.00 which seems normal for hours, as one day spans from 00.00 to 23.59.\n",
        "- **Temperature** (avg in C): the data spans from 20°C\n",
        "to 29.9°C which is normal for room temperature.\n",
        "- **Humidity** (avg in %): humidity from 30% to 60% is considered normal ([source](https://www.sensitivechoice.com/resource/indoor-humidity-levels/)), so the data that falls within 30% to 59% is okay.\n",
        "- **SquareFootage**: the building area that is measured ranges from 1000 to 2000 square foot.\n",
        "- **Occupancy**: there is a problem with this variable. We can see that the **minimum is -5**, is it possible for number of persons to be in negative value? No! So we will treat this as outlier and **cap it, so the minimum is 0** (no person occupying the room). 🚨\n",
        "- **RenewableEnergy**: the amount of energy generated ranges around 0 to 30 (no unit is given so assuming the unit is joule).\n",
        "- **EnergyConsumption**: the amount of energy used ranges around 53 to 99 (no unit is given so assuming the unit is joule). The energy consumption is higher than the renewable energy generated."
      ],
      "metadata": {
        "id": "lKCfWdDm17D-"
      }
    },
    {
      "cell_type": "markdown",
      "source": [
        "### Fix Occupancy\n",
        "As occupancy has the minimum of -5, and it is impossible to have negative value of person available in the room, so we will change all data points with Occupancy value lower than 0 to 0."
      ],
      "metadata": {
        "id": "NRkbLUPjD_3H"
      }
    },
    {
      "cell_type": "code",
      "source": [
        "# Fix occupancy using winsorization\n",
        "df['Occupancy'] = np.where(df['Occupancy'] < 0, 0, df['Occupancy'])\n",
        "df.describe()"
      ],
      "metadata": {
        "colab": {
          "base_uri": "https://localhost:8080/",
          "height": 320
        },
        "id": "K6ZZQ4Q-ELto",
        "outputId": "5f0c4b61-a6ce-4bf6-99fc-e3e98f69f1d5"
      },
      "execution_count": null,
      "outputs": [
        {
          "output_type": "execute_result",
          "data": {
            "text/plain": [
              "             Month         Hour  Temperature     Humidity  SquareFootage  \\\n",
              "count  1229.000000  1229.000000  1229.000000  1229.000000    1229.000000   \n",
              "mean      6.195281    11.190399    24.887455    45.745003    1511.046316   \n",
              "std       3.624601     6.938624     3.049206     9.071996     297.313153   \n",
              "min       1.000000     0.000000    20.007565    30.015975    1000.512661   \n",
              "25%       3.000000     5.000000    22.368436    38.023509    1258.096515   \n",
              "50%       6.000000    11.000000    24.712931    46.127626    1504.392672   \n",
              "75%       9.000000    17.000000    27.308422    53.295957    1773.015808   \n",
              "max      12.000000    23.000000    29.998671    59.969085    1999.982252   \n",
              "\n",
              "         Occupancy  RenewableEnergy  EnergyConsumption  \n",
              "count  1229.000000      1229.000000        1229.000000  \n",
              "mean      4.614321        15.331282          76.633910  \n",
              "std       2.895181         9.224475           9.350648  \n",
              "min       0.000000         0.006642          53.263278  \n",
              "25%       2.000000         7.639176          70.483886  \n",
              "50%       5.000000        15.548955          76.433003  \n",
              "75%       7.000000        23.116765          83.148943  \n",
              "max       9.000000        29.965327          99.201120  "
            ],
            "text/html": [
              "\n",
              "  <div id=\"df-bdf201e6-9592-4678-82e5-a200d680d650\" class=\"colab-df-container\">\n",
              "    <div>\n",
              "<style scoped>\n",
              "    .dataframe tbody tr th:only-of-type {\n",
              "        vertical-align: middle;\n",
              "    }\n",
              "\n",
              "    .dataframe tbody tr th {\n",
              "        vertical-align: top;\n",
              "    }\n",
              "\n",
              "    .dataframe thead th {\n",
              "        text-align: right;\n",
              "    }\n",
              "</style>\n",
              "<table border=\"1\" class=\"dataframe\">\n",
              "  <thead>\n",
              "    <tr style=\"text-align: right;\">\n",
              "      <th></th>\n",
              "      <th>Month</th>\n",
              "      <th>Hour</th>\n",
              "      <th>Temperature</th>\n",
              "      <th>Humidity</th>\n",
              "      <th>SquareFootage</th>\n",
              "      <th>Occupancy</th>\n",
              "      <th>RenewableEnergy</th>\n",
              "      <th>EnergyConsumption</th>\n",
              "    </tr>\n",
              "  </thead>\n",
              "  <tbody>\n",
              "    <tr>\n",
              "      <th>count</th>\n",
              "      <td>1229.000000</td>\n",
              "      <td>1229.000000</td>\n",
              "      <td>1229.000000</td>\n",
              "      <td>1229.000000</td>\n",
              "      <td>1229.000000</td>\n",
              "      <td>1229.000000</td>\n",
              "      <td>1229.000000</td>\n",
              "      <td>1229.000000</td>\n",
              "    </tr>\n",
              "    <tr>\n",
              "      <th>mean</th>\n",
              "      <td>6.195281</td>\n",
              "      <td>11.190399</td>\n",
              "      <td>24.887455</td>\n",
              "      <td>45.745003</td>\n",
              "      <td>1511.046316</td>\n",
              "      <td>4.614321</td>\n",
              "      <td>15.331282</td>\n",
              "      <td>76.633910</td>\n",
              "    </tr>\n",
              "    <tr>\n",
              "      <th>std</th>\n",
              "      <td>3.624601</td>\n",
              "      <td>6.938624</td>\n",
              "      <td>3.049206</td>\n",
              "      <td>9.071996</td>\n",
              "      <td>297.313153</td>\n",
              "      <td>2.895181</td>\n",
              "      <td>9.224475</td>\n",
              "      <td>9.350648</td>\n",
              "    </tr>\n",
              "    <tr>\n",
              "      <th>min</th>\n",
              "      <td>1.000000</td>\n",
              "      <td>0.000000</td>\n",
              "      <td>20.007565</td>\n",
              "      <td>30.015975</td>\n",
              "      <td>1000.512661</td>\n",
              "      <td>0.000000</td>\n",
              "      <td>0.006642</td>\n",
              "      <td>53.263278</td>\n",
              "    </tr>\n",
              "    <tr>\n",
              "      <th>25%</th>\n",
              "      <td>3.000000</td>\n",
              "      <td>5.000000</td>\n",
              "      <td>22.368436</td>\n",
              "      <td>38.023509</td>\n",
              "      <td>1258.096515</td>\n",
              "      <td>2.000000</td>\n",
              "      <td>7.639176</td>\n",
              "      <td>70.483886</td>\n",
              "    </tr>\n",
              "    <tr>\n",
              "      <th>50%</th>\n",
              "      <td>6.000000</td>\n",
              "      <td>11.000000</td>\n",
              "      <td>24.712931</td>\n",
              "      <td>46.127626</td>\n",
              "      <td>1504.392672</td>\n",
              "      <td>5.000000</td>\n",
              "      <td>15.548955</td>\n",
              "      <td>76.433003</td>\n",
              "    </tr>\n",
              "    <tr>\n",
              "      <th>75%</th>\n",
              "      <td>9.000000</td>\n",
              "      <td>17.000000</td>\n",
              "      <td>27.308422</td>\n",
              "      <td>53.295957</td>\n",
              "      <td>1773.015808</td>\n",
              "      <td>7.000000</td>\n",
              "      <td>23.116765</td>\n",
              "      <td>83.148943</td>\n",
              "    </tr>\n",
              "    <tr>\n",
              "      <th>max</th>\n",
              "      <td>12.000000</td>\n",
              "      <td>23.000000</td>\n",
              "      <td>29.998671</td>\n",
              "      <td>59.969085</td>\n",
              "      <td>1999.982252</td>\n",
              "      <td>9.000000</td>\n",
              "      <td>29.965327</td>\n",
              "      <td>99.201120</td>\n",
              "    </tr>\n",
              "  </tbody>\n",
              "</table>\n",
              "</div>\n",
              "    <div class=\"colab-df-buttons\">\n",
              "\n",
              "  <div class=\"colab-df-container\">\n",
              "    <button class=\"colab-df-convert\" onclick=\"convertToInteractive('df-bdf201e6-9592-4678-82e5-a200d680d650')\"\n",
              "            title=\"Convert this dataframe to an interactive table.\"\n",
              "            style=\"display:none;\">\n",
              "\n",
              "  <svg xmlns=\"http://www.w3.org/2000/svg\" height=\"24px\" viewBox=\"0 -960 960 960\">\n",
              "    <path d=\"M120-120v-720h720v720H120Zm60-500h600v-160H180v160Zm220 220h160v-160H400v160Zm0 220h160v-160H400v160ZM180-400h160v-160H180v160Zm440 0h160v-160H620v160ZM180-180h160v-160H180v160Zm440 0h160v-160H620v160Z\"/>\n",
              "  </svg>\n",
              "    </button>\n",
              "\n",
              "  <style>\n",
              "    .colab-df-container {\n",
              "      display:flex;\n",
              "      gap: 12px;\n",
              "    }\n",
              "\n",
              "    .colab-df-convert {\n",
              "      background-color: #E8F0FE;\n",
              "      border: none;\n",
              "      border-radius: 50%;\n",
              "      cursor: pointer;\n",
              "      display: none;\n",
              "      fill: #1967D2;\n",
              "      height: 32px;\n",
              "      padding: 0 0 0 0;\n",
              "      width: 32px;\n",
              "    }\n",
              "\n",
              "    .colab-df-convert:hover {\n",
              "      background-color: #E2EBFA;\n",
              "      box-shadow: 0px 1px 2px rgba(60, 64, 67, 0.3), 0px 1px 3px 1px rgba(60, 64, 67, 0.15);\n",
              "      fill: #174EA6;\n",
              "    }\n",
              "\n",
              "    .colab-df-buttons div {\n",
              "      margin-bottom: 4px;\n",
              "    }\n",
              "\n",
              "    [theme=dark] .colab-df-convert {\n",
              "      background-color: #3B4455;\n",
              "      fill: #D2E3FC;\n",
              "    }\n",
              "\n",
              "    [theme=dark] .colab-df-convert:hover {\n",
              "      background-color: #434B5C;\n",
              "      box-shadow: 0px 1px 3px 1px rgba(0, 0, 0, 0.15);\n",
              "      filter: drop-shadow(0px 1px 2px rgba(0, 0, 0, 0.3));\n",
              "      fill: #FFFFFF;\n",
              "    }\n",
              "  </style>\n",
              "\n",
              "    <script>\n",
              "      const buttonEl =\n",
              "        document.querySelector('#df-bdf201e6-9592-4678-82e5-a200d680d650 button.colab-df-convert');\n",
              "      buttonEl.style.display =\n",
              "        google.colab.kernel.accessAllowed ? 'block' : 'none';\n",
              "\n",
              "      async function convertToInteractive(key) {\n",
              "        const element = document.querySelector('#df-bdf201e6-9592-4678-82e5-a200d680d650');\n",
              "        const dataTable =\n",
              "          await google.colab.kernel.invokeFunction('convertToInteractive',\n",
              "                                                    [key], {});\n",
              "        if (!dataTable) return;\n",
              "\n",
              "        const docLinkHtml = 'Like what you see? Visit the ' +\n",
              "          '<a target=\"_blank\" href=https://colab.research.google.com/notebooks/data_table.ipynb>data table notebook</a>'\n",
              "          + ' to learn more about interactive tables.';\n",
              "        element.innerHTML = '';\n",
              "        dataTable['output_type'] = 'display_data';\n",
              "        await google.colab.output.renderOutput(dataTable, element);\n",
              "        const docLink = document.createElement('div');\n",
              "        docLink.innerHTML = docLinkHtml;\n",
              "        element.appendChild(docLink);\n",
              "      }\n",
              "    </script>\n",
              "  </div>\n",
              "\n",
              "\n",
              "<div id=\"df-50977972-5408-49d5-aec0-13e916a07b9e\">\n",
              "  <button class=\"colab-df-quickchart\" onclick=\"quickchart('df-50977972-5408-49d5-aec0-13e916a07b9e')\"\n",
              "            title=\"Suggest charts\"\n",
              "            style=\"display:none;\">\n",
              "\n",
              "<svg xmlns=\"http://www.w3.org/2000/svg\" height=\"24px\"viewBox=\"0 0 24 24\"\n",
              "     width=\"24px\">\n",
              "    <g>\n",
              "        <path d=\"M19 3H5c-1.1 0-2 .9-2 2v14c0 1.1.9 2 2 2h14c1.1 0 2-.9 2-2V5c0-1.1-.9-2-2-2zM9 17H7v-7h2v7zm4 0h-2V7h2v10zm4 0h-2v-4h2v4z\"/>\n",
              "    </g>\n",
              "</svg>\n",
              "  </button>\n",
              "\n",
              "<style>\n",
              "  .colab-df-quickchart {\n",
              "      --bg-color: #E8F0FE;\n",
              "      --fill-color: #1967D2;\n",
              "      --hover-bg-color: #E2EBFA;\n",
              "      --hover-fill-color: #174EA6;\n",
              "      --disabled-fill-color: #AAA;\n",
              "      --disabled-bg-color: #DDD;\n",
              "  }\n",
              "\n",
              "  [theme=dark] .colab-df-quickchart {\n",
              "      --bg-color: #3B4455;\n",
              "      --fill-color: #D2E3FC;\n",
              "      --hover-bg-color: #434B5C;\n",
              "      --hover-fill-color: #FFFFFF;\n",
              "      --disabled-bg-color: #3B4455;\n",
              "      --disabled-fill-color: #666;\n",
              "  }\n",
              "\n",
              "  .colab-df-quickchart {\n",
              "    background-color: var(--bg-color);\n",
              "    border: none;\n",
              "    border-radius: 50%;\n",
              "    cursor: pointer;\n",
              "    display: none;\n",
              "    fill: var(--fill-color);\n",
              "    height: 32px;\n",
              "    padding: 0;\n",
              "    width: 32px;\n",
              "  }\n",
              "\n",
              "  .colab-df-quickchart:hover {\n",
              "    background-color: var(--hover-bg-color);\n",
              "    box-shadow: 0 1px 2px rgba(60, 64, 67, 0.3), 0 1px 3px 1px rgba(60, 64, 67, 0.15);\n",
              "    fill: var(--button-hover-fill-color);\n",
              "  }\n",
              "\n",
              "  .colab-df-quickchart-complete:disabled,\n",
              "  .colab-df-quickchart-complete:disabled:hover {\n",
              "    background-color: var(--disabled-bg-color);\n",
              "    fill: var(--disabled-fill-color);\n",
              "    box-shadow: none;\n",
              "  }\n",
              "\n",
              "  .colab-df-spinner {\n",
              "    border: 2px solid var(--fill-color);\n",
              "    border-color: transparent;\n",
              "    border-bottom-color: var(--fill-color);\n",
              "    animation:\n",
              "      spin 1s steps(1) infinite;\n",
              "  }\n",
              "\n",
              "  @keyframes spin {\n",
              "    0% {\n",
              "      border-color: transparent;\n",
              "      border-bottom-color: var(--fill-color);\n",
              "      border-left-color: var(--fill-color);\n",
              "    }\n",
              "    20% {\n",
              "      border-color: transparent;\n",
              "      border-left-color: var(--fill-color);\n",
              "      border-top-color: var(--fill-color);\n",
              "    }\n",
              "    30% {\n",
              "      border-color: transparent;\n",
              "      border-left-color: var(--fill-color);\n",
              "      border-top-color: var(--fill-color);\n",
              "      border-right-color: var(--fill-color);\n",
              "    }\n",
              "    40% {\n",
              "      border-color: transparent;\n",
              "      border-right-color: var(--fill-color);\n",
              "      border-top-color: var(--fill-color);\n",
              "    }\n",
              "    60% {\n",
              "      border-color: transparent;\n",
              "      border-right-color: var(--fill-color);\n",
              "    }\n",
              "    80% {\n",
              "      border-color: transparent;\n",
              "      border-right-color: var(--fill-color);\n",
              "      border-bottom-color: var(--fill-color);\n",
              "    }\n",
              "    90% {\n",
              "      border-color: transparent;\n",
              "      border-bottom-color: var(--fill-color);\n",
              "    }\n",
              "  }\n",
              "</style>\n",
              "\n",
              "  <script>\n",
              "    async function quickchart(key) {\n",
              "      const quickchartButtonEl =\n",
              "        document.querySelector('#' + key + ' button');\n",
              "      quickchartButtonEl.disabled = true;  // To prevent multiple clicks.\n",
              "      quickchartButtonEl.classList.add('colab-df-spinner');\n",
              "      try {\n",
              "        const charts = await google.colab.kernel.invokeFunction(\n",
              "            'suggestCharts', [key], {});\n",
              "      } catch (error) {\n",
              "        console.error('Error during call to suggestCharts:', error);\n",
              "      }\n",
              "      quickchartButtonEl.classList.remove('colab-df-spinner');\n",
              "      quickchartButtonEl.classList.add('colab-df-quickchart-complete');\n",
              "    }\n",
              "    (() => {\n",
              "      let quickchartButtonEl =\n",
              "        document.querySelector('#df-50977972-5408-49d5-aec0-13e916a07b9e button');\n",
              "      quickchartButtonEl.style.display =\n",
              "        google.colab.kernel.accessAllowed ? 'block' : 'none';\n",
              "    })();\n",
              "  </script>\n",
              "</div>\n",
              "\n",
              "    </div>\n",
              "  </div>\n"
            ],
            "application/vnd.google.colaboratory.intrinsic+json": {
              "type": "dataframe",
              "summary": "{\n  \"name\": \"df\",\n  \"rows\": 8,\n  \"fields\": [\n    {\n      \"column\": \"Month\",\n      \"properties\": {\n        \"dtype\": \"number\",\n        \"std\": 432.46935528625,\n        \"min\": 1.0,\n        \"max\": 1229.0,\n        \"num_unique_values\": 8,\n        \"samples\": [\n          6.195280716029292,\n          6.0,\n          1229.0\n        ],\n        \"semantic_type\": \"\",\n        \"description\": \"\"\n      }\n    },\n    {\n      \"column\": \"Hour\",\n      \"properties\": {\n        \"dtype\": \"number\",\n        \"std\": 430.83145749255186,\n        \"min\": 0.0,\n        \"max\": 1229.0,\n        \"num_unique_values\": 8,\n        \"samples\": [\n          11.19039869812856,\n          11.0,\n          1229.0\n        ],\n        \"semantic_type\": \"\",\n        \"description\": \"\"\n      }\n    },\n    {\n      \"column\": \"Temperature\",\n      \"properties\": {\n        \"dtype\": \"number\",\n        \"std\": 426.9019180088017,\n        \"min\": 3.04920619150583,\n        \"max\": 1229.0,\n        \"num_unique_values\": 8,\n        \"samples\": [\n          24.887455176149498,\n          24.71293074728705,\n          1229.0\n        ],\n        \"semantic_type\": \"\",\n        \"description\": \"\"\n      }\n    },\n    {\n      \"column\": \"Humidity\",\n      \"properties\": {\n        \"dtype\": \"number\",\n        \"std\": 420.5511538763882,\n        \"min\": 9.07199622990636,\n        \"max\": 1229.0,\n        \"num_unique_values\": 8,\n        \"samples\": [\n          45.745002855921115,\n          46.12762624090053,\n          1229.0\n        ],\n        \"semantic_type\": \"\",\n        \"description\": \"\"\n      }\n    },\n    {\n      \"column\": \"SquareFootage\",\n      \"properties\": {\n        \"dtype\": \"number\",\n        \"std\": 520.7343464861782,\n        \"min\": 297.3131530100048,\n        \"max\": 1999.982252,\n        \"num_unique_values\": 8,\n        \"samples\": [\n          1511.0463158719756,\n          1504.3926724162768,\n          1229.0\n        ],\n        \"semantic_type\": \"\",\n        \"description\": \"\"\n      }\n    },\n    {\n      \"column\": \"Occupancy\",\n      \"properties\": {\n        \"dtype\": \"number\",\n        \"std\": 432.98534301405743,\n        \"min\": 0.0,\n        \"max\": 1229.0,\n        \"num_unique_values\": 8,\n        \"samples\": [\n          4.614320585842148,\n          5.0,\n          1229.0\n        ],\n        \"semantic_type\": \"\",\n        \"description\": \"\"\n      }\n    },\n    {\n      \"column\": \"RenewableEnergy\",\n      \"properties\": {\n        \"dtype\": \"number\",\n        \"std\": 429.52410903300785,\n        \"min\": 0.006642,\n        \"max\": 1229.0,\n        \"num_unique_values\": 8,\n        \"samples\": [\n          15.331282228148574,\n          15.54895474188881,\n          1229.0\n        ],\n        \"semantic_type\": \"\",\n        \"description\": \"\"\n      }\n    },\n    {\n      \"column\": \"EnergyConsumption\",\n      \"properties\": {\n        \"dtype\": \"number\",\n        \"std\": 411.7225490622289,\n        \"min\": 9.350647983642473,\n        \"max\": 1229.0,\n        \"num_unique_values\": 8,\n        \"samples\": [\n          76.63390986210536,\n          76.43300328777627,\n          1229.0\n        ],\n        \"semantic_type\": \"\",\n        \"description\": \"\"\n      }\n    }\n  ]\n}"
            }
          },
          "metadata": {},
          "execution_count": 255
        }
      ]
    },
    {
      "cell_type": "markdown",
      "source": [
        "Now, the minimum number of person in the room has changed to 0 (no person is available in the room). This is possible, compared to before with negative value!"
      ],
      "metadata": {
        "id": "JMdMITRgEUk9"
      }
    },
    {
      "cell_type": "markdown",
      "source": [
        "### Check the categorical data distribution\n",
        "For categorical data, let's check the cardinality or the unique values present in each variable and see how our data diverse!"
      ],
      "metadata": {
        "id": "boFtoRGU_S6d"
      }
    },
    {
      "cell_type": "code",
      "source": [
        "# Checking cardinality\n",
        "for i in cat:\n",
        "  print(f\"Column {i}\")\n",
        "  print(df[i].value_counts())\n",
        "  print(\"\")"
      ],
      "metadata": {
        "colab": {
          "base_uri": "https://localhost:8080/"
        },
        "id": "thGj1NJT_qA6",
        "outputId": "c722a0fc-d3be-4fc3-a688-629dd191211e"
      },
      "execution_count": null,
      "outputs": [
        {
          "output_type": "stream",
          "name": "stdout",
          "text": [
            "Column DayOfWeek\n",
            "DayOfWeek\n",
            "Sunday       192\n",
            "Saturday     183\n",
            "Thursday     182\n",
            "Friday       169\n",
            "Tuesday      168\n",
            "Monday       168\n",
            "Wednesday    167\n",
            "Name: count, dtype: int64\n",
            "\n",
            "Column Holiday\n",
            "Holiday\n",
            "No     673\n",
            "Yes    556\n",
            "Name: count, dtype: int64\n",
            "\n",
            "Column HVACUsage\n",
            "HVACUsage\n",
            "Off    628\n",
            "On     601\n",
            "Name: count, dtype: int64\n",
            "\n",
            "Column LightingUsage\n",
            "LightingUsage\n",
            "On     617\n",
            "Off    612\n",
            "Name: count, dtype: int64\n",
            "\n"
          ]
        }
      ]
    },
    {
      "cell_type": "markdown",
      "source": [
        "- The day distribution is quite even, with Sunday and Saturday slightly dominating, which means the data recording is done quite mostly in the weekends.\n",
        "- There are 673 data points recorded on a working day and 556 on holiday.\n",
        "- There are 628 data points recorded when the HVAC is not in use and 601 when HVAC is in use.\n",
        "- There are 617 data points recorded when the Lighting is not in use and 612 when Lighting is in use.\n",
        "\n",
        "**Conclusion**: the distribution of the categorical data does not differ from one value to another, as we can see, each value in each variable has almost the same amount. However, the result from our model may differ because of the combination of both numerical and categorical variables, even when the categorical variables seem like they are almost the same in distribution."
      ],
      "metadata": {
        "id": "_3k5I7-0_0u6"
      }
    },
    {
      "cell_type": "markdown",
      "source": [
        "### Categorical data encoding\n",
        "Computers or machines cannot learn from categorical data -- which means that we have to convert everything to numbers so the model can understand them!\n",
        "- **DayOfWeek**: **One-Hot Encoding** will be applied because this column has 7 different values, but we cannot assume if they have special numerical relationship to the target variable (meaning that if the day of week is greater (ex: Sunday > Wednesday), the result of energy consumption will be greater as well), so label encoding won't be suitable. Frequency encoding is not suitable either because each value has almost the same frequency.\n",
        "- **Holiday**: **Label Encoding** will be applied with 0: No and 1: Yes\n",
        "- **HVACUsage**: **Label Encoding** will be applied with 0: Off and 1: On\n",
        "- **LightingUsage**: **Label Encoding** will be applied with 0: Off and 1: On\\\n",
        "Using Label Encoding for the latter 3 variables is suitable because they are binary (either 0 or 1).\n",
        "\n",
        "---\n",
        "\n",
        "**Update**: I decided to use One Hot Encoding for all categorical variables, because the loss plot converges better with One Hot Encoding. I assume this happens because One Hot Encoding doesn't assume a numerical relationship between the x and y variable, so it is more \"neutral\". Perhaps I was mistaken in concluding how x affects y, so it results in poor convergence with label encoding.\n"
      ],
      "metadata": {
        "id": "Cjso3uufTaMX"
      }
    },
    {
      "cell_type": "code",
      "source": [
        "# One hot encoding\n",
        "to_encode = ['DayOfWeek', 'Holiday', 'HVACUsage', 'LightingUsage']\n",
        "ohe = OneHotEncoder(sparse_output=False)\n",
        "encoder_ohe = ohe.fit_transform(df[to_encode])\n",
        "encoded_df = pd.DataFrame(encoder_ohe, columns=(ohe.get_feature_names_out(to_encode)), index=df.index)\n",
        "df = pd.concat([df, encoded_df], axis=1)\n",
        "df = df.drop(to_encode, axis = 1)\n",
        "\n",
        "# Check the new data after OHE\n",
        "df.head()"
      ],
      "metadata": {
        "colab": {
          "base_uri": "https://localhost:8080/",
          "height": 255
        },
        "id": "MYcwdFu6U6qJ",
        "outputId": "eca02cc5-8564-4546-82c7-708b20fce3de"
      },
      "execution_count": null,
      "outputs": [
        {
          "output_type": "execute_result",
          "data": {
            "text/plain": [
              "   Month  Hour  Temperature   Humidity  SquareFootage  Occupancy  \\\n",
              "0      8     3    24.492063  59.969085    1403.454805          7   \n",
              "1      1     8    26.312114  51.408711    1220.547133          8   \n",
              "2      1    19    20.516186  40.918500    1114.230124          8   \n",
              "3      7     3    20.879426  46.859237    1096.207227          7   \n",
              "4     10    17    23.015216  48.998158    1999.982252          1   \n",
              "\n",
              "   RenewableEnergy  EnergyConsumption  DayOfWeek_Friday  DayOfWeek_Monday  \\\n",
              "0        29.965327          82.057358               0.0               0.0   \n",
              "1         5.986875          83.889177               0.0               0.0   \n",
              "2        20.489098          66.202098               0.0               0.0   \n",
              "3        21.321157          66.439179               0.0               0.0   \n",
              "4         3.966075          76.902272               0.0               0.0   \n",
              "\n",
              "   ...  DayOfWeek_Sunday  DayOfWeek_Thursday  DayOfWeek_Tuesday  \\\n",
              "0  ...               1.0                 0.0                0.0   \n",
              "1  ...               0.0                 0.0                0.0   \n",
              "2  ...               1.0                 0.0                0.0   \n",
              "3  ...               0.0                 0.0                0.0   \n",
              "4  ...               0.0                 0.0                0.0   \n",
              "\n",
              "   DayOfWeek_Wednesday  Holiday_No  Holiday_Yes  HVACUsage_Off  HVACUsage_On  \\\n",
              "0                  0.0         0.0          1.0            0.0           1.0   \n",
              "1                  1.0         1.0          0.0            0.0           1.0   \n",
              "2                  0.0         0.0          1.0            1.0           0.0   \n",
              "3                  1.0         0.0          1.0            1.0           0.0   \n",
              "4                  0.0         1.0          0.0            1.0           0.0   \n",
              "\n",
              "   LightingUsage_Off  LightingUsage_On  \n",
              "0                1.0               0.0  \n",
              "1                1.0               0.0  \n",
              "2                0.0               1.0  \n",
              "3                0.0               1.0  \n",
              "4                1.0               0.0  \n",
              "\n",
              "[5 rows x 21 columns]"
            ],
            "text/html": [
              "\n",
              "  <div id=\"df-eaff5019-0685-46dc-99e0-5c22d7771e3d\" class=\"colab-df-container\">\n",
              "    <div>\n",
              "<style scoped>\n",
              "    .dataframe tbody tr th:only-of-type {\n",
              "        vertical-align: middle;\n",
              "    }\n",
              "\n",
              "    .dataframe tbody tr th {\n",
              "        vertical-align: top;\n",
              "    }\n",
              "\n",
              "    .dataframe thead th {\n",
              "        text-align: right;\n",
              "    }\n",
              "</style>\n",
              "<table border=\"1\" class=\"dataframe\">\n",
              "  <thead>\n",
              "    <tr style=\"text-align: right;\">\n",
              "      <th></th>\n",
              "      <th>Month</th>\n",
              "      <th>Hour</th>\n",
              "      <th>Temperature</th>\n",
              "      <th>Humidity</th>\n",
              "      <th>SquareFootage</th>\n",
              "      <th>Occupancy</th>\n",
              "      <th>RenewableEnergy</th>\n",
              "      <th>EnergyConsumption</th>\n",
              "      <th>DayOfWeek_Friday</th>\n",
              "      <th>DayOfWeek_Monday</th>\n",
              "      <th>...</th>\n",
              "      <th>DayOfWeek_Sunday</th>\n",
              "      <th>DayOfWeek_Thursday</th>\n",
              "      <th>DayOfWeek_Tuesday</th>\n",
              "      <th>DayOfWeek_Wednesday</th>\n",
              "      <th>Holiday_No</th>\n",
              "      <th>Holiday_Yes</th>\n",
              "      <th>HVACUsage_Off</th>\n",
              "      <th>HVACUsage_On</th>\n",
              "      <th>LightingUsage_Off</th>\n",
              "      <th>LightingUsage_On</th>\n",
              "    </tr>\n",
              "  </thead>\n",
              "  <tbody>\n",
              "    <tr>\n",
              "      <th>0</th>\n",
              "      <td>8</td>\n",
              "      <td>3</td>\n",
              "      <td>24.492063</td>\n",
              "      <td>59.969085</td>\n",
              "      <td>1403.454805</td>\n",
              "      <td>7</td>\n",
              "      <td>29.965327</td>\n",
              "      <td>82.057358</td>\n",
              "      <td>0.0</td>\n",
              "      <td>0.0</td>\n",
              "      <td>...</td>\n",
              "      <td>1.0</td>\n",
              "      <td>0.0</td>\n",
              "      <td>0.0</td>\n",
              "      <td>0.0</td>\n",
              "      <td>0.0</td>\n",
              "      <td>1.0</td>\n",
              "      <td>0.0</td>\n",
              "      <td>1.0</td>\n",
              "      <td>1.0</td>\n",
              "      <td>0.0</td>\n",
              "    </tr>\n",
              "    <tr>\n",
              "      <th>1</th>\n",
              "      <td>1</td>\n",
              "      <td>8</td>\n",
              "      <td>26.312114</td>\n",
              "      <td>51.408711</td>\n",
              "      <td>1220.547133</td>\n",
              "      <td>8</td>\n",
              "      <td>5.986875</td>\n",
              "      <td>83.889177</td>\n",
              "      <td>0.0</td>\n",
              "      <td>0.0</td>\n",
              "      <td>...</td>\n",
              "      <td>0.0</td>\n",
              "      <td>0.0</td>\n",
              "      <td>0.0</td>\n",
              "      <td>1.0</td>\n",
              "      <td>1.0</td>\n",
              "      <td>0.0</td>\n",
              "      <td>0.0</td>\n",
              "      <td>1.0</td>\n",
              "      <td>1.0</td>\n",
              "      <td>0.0</td>\n",
              "    </tr>\n",
              "    <tr>\n",
              "      <th>2</th>\n",
              "      <td>1</td>\n",
              "      <td>19</td>\n",
              "      <td>20.516186</td>\n",
              "      <td>40.918500</td>\n",
              "      <td>1114.230124</td>\n",
              "      <td>8</td>\n",
              "      <td>20.489098</td>\n",
              "      <td>66.202098</td>\n",
              "      <td>0.0</td>\n",
              "      <td>0.0</td>\n",
              "      <td>...</td>\n",
              "      <td>1.0</td>\n",
              "      <td>0.0</td>\n",
              "      <td>0.0</td>\n",
              "      <td>0.0</td>\n",
              "      <td>0.0</td>\n",
              "      <td>1.0</td>\n",
              "      <td>1.0</td>\n",
              "      <td>0.0</td>\n",
              "      <td>0.0</td>\n",
              "      <td>1.0</td>\n",
              "    </tr>\n",
              "    <tr>\n",
              "      <th>3</th>\n",
              "      <td>7</td>\n",
              "      <td>3</td>\n",
              "      <td>20.879426</td>\n",
              "      <td>46.859237</td>\n",
              "      <td>1096.207227</td>\n",
              "      <td>7</td>\n",
              "      <td>21.321157</td>\n",
              "      <td>66.439179</td>\n",
              "      <td>0.0</td>\n",
              "      <td>0.0</td>\n",
              "      <td>...</td>\n",
              "      <td>0.0</td>\n",
              "      <td>0.0</td>\n",
              "      <td>0.0</td>\n",
              "      <td>1.0</td>\n",
              "      <td>0.0</td>\n",
              "      <td>1.0</td>\n",
              "      <td>1.0</td>\n",
              "      <td>0.0</td>\n",
              "      <td>0.0</td>\n",
              "      <td>1.0</td>\n",
              "    </tr>\n",
              "    <tr>\n",
              "      <th>4</th>\n",
              "      <td>10</td>\n",
              "      <td>17</td>\n",
              "      <td>23.015216</td>\n",
              "      <td>48.998158</td>\n",
              "      <td>1999.982252</td>\n",
              "      <td>1</td>\n",
              "      <td>3.966075</td>\n",
              "      <td>76.902272</td>\n",
              "      <td>0.0</td>\n",
              "      <td>0.0</td>\n",
              "      <td>...</td>\n",
              "      <td>0.0</td>\n",
              "      <td>0.0</td>\n",
              "      <td>0.0</td>\n",
              "      <td>0.0</td>\n",
              "      <td>1.0</td>\n",
              "      <td>0.0</td>\n",
              "      <td>1.0</td>\n",
              "      <td>0.0</td>\n",
              "      <td>1.0</td>\n",
              "      <td>0.0</td>\n",
              "    </tr>\n",
              "  </tbody>\n",
              "</table>\n",
              "<p>5 rows × 21 columns</p>\n",
              "</div>\n",
              "    <div class=\"colab-df-buttons\">\n",
              "\n",
              "  <div class=\"colab-df-container\">\n",
              "    <button class=\"colab-df-convert\" onclick=\"convertToInteractive('df-eaff5019-0685-46dc-99e0-5c22d7771e3d')\"\n",
              "            title=\"Convert this dataframe to an interactive table.\"\n",
              "            style=\"display:none;\">\n",
              "\n",
              "  <svg xmlns=\"http://www.w3.org/2000/svg\" height=\"24px\" viewBox=\"0 -960 960 960\">\n",
              "    <path d=\"M120-120v-720h720v720H120Zm60-500h600v-160H180v160Zm220 220h160v-160H400v160Zm0 220h160v-160H400v160ZM180-400h160v-160H180v160Zm440 0h160v-160H620v160ZM180-180h160v-160H180v160Zm440 0h160v-160H620v160Z\"/>\n",
              "  </svg>\n",
              "    </button>\n",
              "\n",
              "  <style>\n",
              "    .colab-df-container {\n",
              "      display:flex;\n",
              "      gap: 12px;\n",
              "    }\n",
              "\n",
              "    .colab-df-convert {\n",
              "      background-color: #E8F0FE;\n",
              "      border: none;\n",
              "      border-radius: 50%;\n",
              "      cursor: pointer;\n",
              "      display: none;\n",
              "      fill: #1967D2;\n",
              "      height: 32px;\n",
              "      padding: 0 0 0 0;\n",
              "      width: 32px;\n",
              "    }\n",
              "\n",
              "    .colab-df-convert:hover {\n",
              "      background-color: #E2EBFA;\n",
              "      box-shadow: 0px 1px 2px rgba(60, 64, 67, 0.3), 0px 1px 3px 1px rgba(60, 64, 67, 0.15);\n",
              "      fill: #174EA6;\n",
              "    }\n",
              "\n",
              "    .colab-df-buttons div {\n",
              "      margin-bottom: 4px;\n",
              "    }\n",
              "\n",
              "    [theme=dark] .colab-df-convert {\n",
              "      background-color: #3B4455;\n",
              "      fill: #D2E3FC;\n",
              "    }\n",
              "\n",
              "    [theme=dark] .colab-df-convert:hover {\n",
              "      background-color: #434B5C;\n",
              "      box-shadow: 0px 1px 3px 1px rgba(0, 0, 0, 0.15);\n",
              "      filter: drop-shadow(0px 1px 2px rgba(0, 0, 0, 0.3));\n",
              "      fill: #FFFFFF;\n",
              "    }\n",
              "  </style>\n",
              "\n",
              "    <script>\n",
              "      const buttonEl =\n",
              "        document.querySelector('#df-eaff5019-0685-46dc-99e0-5c22d7771e3d button.colab-df-convert');\n",
              "      buttonEl.style.display =\n",
              "        google.colab.kernel.accessAllowed ? 'block' : 'none';\n",
              "\n",
              "      async function convertToInteractive(key) {\n",
              "        const element = document.querySelector('#df-eaff5019-0685-46dc-99e0-5c22d7771e3d');\n",
              "        const dataTable =\n",
              "          await google.colab.kernel.invokeFunction('convertToInteractive',\n",
              "                                                    [key], {});\n",
              "        if (!dataTable) return;\n",
              "\n",
              "        const docLinkHtml = 'Like what you see? Visit the ' +\n",
              "          '<a target=\"_blank\" href=https://colab.research.google.com/notebooks/data_table.ipynb>data table notebook</a>'\n",
              "          + ' to learn more about interactive tables.';\n",
              "        element.innerHTML = '';\n",
              "        dataTable['output_type'] = 'display_data';\n",
              "        await google.colab.output.renderOutput(dataTable, element);\n",
              "        const docLink = document.createElement('div');\n",
              "        docLink.innerHTML = docLinkHtml;\n",
              "        element.appendChild(docLink);\n",
              "      }\n",
              "    </script>\n",
              "  </div>\n",
              "\n",
              "\n",
              "<div id=\"df-4d34a096-3bfb-4ca9-9aa3-5ec5a047fca6\">\n",
              "  <button class=\"colab-df-quickchart\" onclick=\"quickchart('df-4d34a096-3bfb-4ca9-9aa3-5ec5a047fca6')\"\n",
              "            title=\"Suggest charts\"\n",
              "            style=\"display:none;\">\n",
              "\n",
              "<svg xmlns=\"http://www.w3.org/2000/svg\" height=\"24px\"viewBox=\"0 0 24 24\"\n",
              "     width=\"24px\">\n",
              "    <g>\n",
              "        <path d=\"M19 3H5c-1.1 0-2 .9-2 2v14c0 1.1.9 2 2 2h14c1.1 0 2-.9 2-2V5c0-1.1-.9-2-2-2zM9 17H7v-7h2v7zm4 0h-2V7h2v10zm4 0h-2v-4h2v4z\"/>\n",
              "    </g>\n",
              "</svg>\n",
              "  </button>\n",
              "\n",
              "<style>\n",
              "  .colab-df-quickchart {\n",
              "      --bg-color: #E8F0FE;\n",
              "      --fill-color: #1967D2;\n",
              "      --hover-bg-color: #E2EBFA;\n",
              "      --hover-fill-color: #174EA6;\n",
              "      --disabled-fill-color: #AAA;\n",
              "      --disabled-bg-color: #DDD;\n",
              "  }\n",
              "\n",
              "  [theme=dark] .colab-df-quickchart {\n",
              "      --bg-color: #3B4455;\n",
              "      --fill-color: #D2E3FC;\n",
              "      --hover-bg-color: #434B5C;\n",
              "      --hover-fill-color: #FFFFFF;\n",
              "      --disabled-bg-color: #3B4455;\n",
              "      --disabled-fill-color: #666;\n",
              "  }\n",
              "\n",
              "  .colab-df-quickchart {\n",
              "    background-color: var(--bg-color);\n",
              "    border: none;\n",
              "    border-radius: 50%;\n",
              "    cursor: pointer;\n",
              "    display: none;\n",
              "    fill: var(--fill-color);\n",
              "    height: 32px;\n",
              "    padding: 0;\n",
              "    width: 32px;\n",
              "  }\n",
              "\n",
              "  .colab-df-quickchart:hover {\n",
              "    background-color: var(--hover-bg-color);\n",
              "    box-shadow: 0 1px 2px rgba(60, 64, 67, 0.3), 0 1px 3px 1px rgba(60, 64, 67, 0.15);\n",
              "    fill: var(--button-hover-fill-color);\n",
              "  }\n",
              "\n",
              "  .colab-df-quickchart-complete:disabled,\n",
              "  .colab-df-quickchart-complete:disabled:hover {\n",
              "    background-color: var(--disabled-bg-color);\n",
              "    fill: var(--disabled-fill-color);\n",
              "    box-shadow: none;\n",
              "  }\n",
              "\n",
              "  .colab-df-spinner {\n",
              "    border: 2px solid var(--fill-color);\n",
              "    border-color: transparent;\n",
              "    border-bottom-color: var(--fill-color);\n",
              "    animation:\n",
              "      spin 1s steps(1) infinite;\n",
              "  }\n",
              "\n",
              "  @keyframes spin {\n",
              "    0% {\n",
              "      border-color: transparent;\n",
              "      border-bottom-color: var(--fill-color);\n",
              "      border-left-color: var(--fill-color);\n",
              "    }\n",
              "    20% {\n",
              "      border-color: transparent;\n",
              "      border-left-color: var(--fill-color);\n",
              "      border-top-color: var(--fill-color);\n",
              "    }\n",
              "    30% {\n",
              "      border-color: transparent;\n",
              "      border-left-color: var(--fill-color);\n",
              "      border-top-color: var(--fill-color);\n",
              "      border-right-color: var(--fill-color);\n",
              "    }\n",
              "    40% {\n",
              "      border-color: transparent;\n",
              "      border-right-color: var(--fill-color);\n",
              "      border-top-color: var(--fill-color);\n",
              "    }\n",
              "    60% {\n",
              "      border-color: transparent;\n",
              "      border-right-color: var(--fill-color);\n",
              "    }\n",
              "    80% {\n",
              "      border-color: transparent;\n",
              "      border-right-color: var(--fill-color);\n",
              "      border-bottom-color: var(--fill-color);\n",
              "    }\n",
              "    90% {\n",
              "      border-color: transparent;\n",
              "      border-bottom-color: var(--fill-color);\n",
              "    }\n",
              "  }\n",
              "</style>\n",
              "\n",
              "  <script>\n",
              "    async function quickchart(key) {\n",
              "      const quickchartButtonEl =\n",
              "        document.querySelector('#' + key + ' button');\n",
              "      quickchartButtonEl.disabled = true;  // To prevent multiple clicks.\n",
              "      quickchartButtonEl.classList.add('colab-df-spinner');\n",
              "      try {\n",
              "        const charts = await google.colab.kernel.invokeFunction(\n",
              "            'suggestCharts', [key], {});\n",
              "      } catch (error) {\n",
              "        console.error('Error during call to suggestCharts:', error);\n",
              "      }\n",
              "      quickchartButtonEl.classList.remove('colab-df-spinner');\n",
              "      quickchartButtonEl.classList.add('colab-df-quickchart-complete');\n",
              "    }\n",
              "    (() => {\n",
              "      let quickchartButtonEl =\n",
              "        document.querySelector('#df-4d34a096-3bfb-4ca9-9aa3-5ec5a047fca6 button');\n",
              "      quickchartButtonEl.style.display =\n",
              "        google.colab.kernel.accessAllowed ? 'block' : 'none';\n",
              "    })();\n",
              "  </script>\n",
              "</div>\n",
              "\n",
              "    </div>\n",
              "  </div>\n"
            ],
            "application/vnd.google.colaboratory.intrinsic+json": {
              "type": "dataframe",
              "variable_name": "df"
            }
          },
          "metadata": {},
          "execution_count": 257
        }
      ]
    },
    {
      "cell_type": "code",
      "source": [
        "# # Label Encoding\n",
        "# def label_encode(x):\n",
        "#   if x in ['No', 'Off']:\n",
        "#     return 0\n",
        "#   elif x in ['Yes', 'On']:\n",
        "#     return 1\n",
        "\n",
        "# df['Holiday'] = df['Holiday'].apply(label_encode)\n",
        "# df['HVACUsage'] = df['HVACUsage'].apply(label_encode)\n",
        "# df['LightingUsage'] = df['LightingUsage'].apply(label_encode)\n",
        "\n",
        "# # Check the new data after LE\n",
        "# df.head()"
      ],
      "metadata": {
        "id": "VbfxJFs2Vj5i"
      },
      "execution_count": null,
      "outputs": []
    },
    {
      "cell_type": "markdown",
      "source": [
        "### Check the numerical data distribution\n",
        "We can check the numerical data distribution using histogram and boxplots. This is to understand if our data skewed in any way or if it has any outliers. Visualizing it will help us to clearly see the anomalies, instead of just looking at the statistics as what is done above."
      ],
      "metadata": {
        "id": "qPfZKEZzBRHs"
      }
    },
    {
      "cell_type": "code",
      "source": [
        "plt.figure(figsize=(16, 4 * len(num)))\n",
        "\n",
        "for i, col in enumerate(num):\n",
        "    plt.subplot(len(num), 2, 2*i + 1)\n",
        "    sns.histplot(df[col], kde=True)\n",
        "    plt.title(f'Distribution of {col}')\n",
        "\n",
        "    plt.subplot(len(num), 2, 2*i + 2)\n",
        "    sns.boxplot(x=df[col])\n",
        "    plt.title(f'Boxplot of {col}')\n",
        "\n",
        "plt.tight_layout()\n",
        "plt.show()"
      ],
      "metadata": {
        "colab": {
          "base_uri": "https://localhost:8080/",
          "height": 1639
        },
        "id": "88HtLnFOBfmx",
        "outputId": "40dfca7b-c3e0-4201-ec7d-5cca728c5958"
      },
      "execution_count": null,
      "outputs": [
        {
          "output_type": "display_data",
          "data": {
            "text/plain": [
              "<Figure size 1600x3200 with 16 Axes>"
            ],
            "image/png": "[encoded data removed]"
          },
          "metadata": {}
        }
      ]
    },
    {
      "cell_type": "markdown",
      "source": [
        "From the histogram and boxplots above,\n",
        "- **No outliers are present**, there is no dots or cross symbols in the boxplot for every variable. Yay!\n",
        "- **Month**: Slightly right-skewed due to the peak in January, but no abnormalities.\n",
        "- **Hour**: Nicely distributed with the even bars.\n",
        "- **Temperature**: Few peaks on the left & right side (lowest and highest temperature), but still normal.\n",
        "- **Humidity**: Slight peak on the right (skewed a little), but still normal.\n",
        "- **SquareFootage**: Distribution is OK, but the value ranges from 1000-2000 sqft, which is very different compared to the other variables whose range falls below 100. Can be treated with scaling.\n",
        "- **Occupancy**: Uneven histogram distribution, slightly left-skewed on the boxplot. May benefit from scaling.\n",
        "- **RenewableEnergy**: Wavy histogram but the boxplot shows no abnormalities.\n",
        "- **EnergyConsumption** (target variable): **normally distibuted** (bell-shaped), and this is good for model that assumes normality in the prediction such as linear regression."
      ],
      "metadata": {
        "id": "bdcDsJETCbhT"
      }
    },
    {
      "cell_type": "markdown",
      "source": [
        "### Check skew in numbers\n",
        "We cannot rely solely in our eyes to see the skewness, so asking help from statistics may come in handy this time to confirm our current assumptions on the data distribution."
      ],
      "metadata": {
        "id": "uwZJT4xjHG3m"
      }
    },
    {
      "cell_type": "code",
      "source": [
        "# Check skewness\n",
        "num_col = df[num]\n",
        "num_col.skew()"
      ],
      "metadata": {
        "colab": {
          "base_uri": "https://localhost:8080/",
          "height": 335
        },
        "id": "IlD9iYb_HR1I",
        "outputId": "8f1f7009-87ae-4074-9241-1981128f12b1"
      },
      "execution_count": null,
      "outputs": [
        {
          "output_type": "execute_result",
          "data": {
            "text/plain": [
              "Month                0.045244\n",
              "Hour                 0.030769\n",
              "Temperature          0.079179\n",
              "Humidity            -0.073103\n",
              "SquareFootage       -0.032496\n",
              "Occupancy           -0.058345\n",
              "RenewableEnergy     -0.047726\n",
              "EnergyConsumption   -0.030749\n",
              "dtype: float64"
            ],
            "text/html": [
              "<div>\n",
              "<style scoped>\n",
              "    .dataframe tbody tr th:only-of-type {\n",
              "        vertical-align: middle;\n",
              "    }\n",
              "\n",
              "    .dataframe tbody tr th {\n",
              "        vertical-align: top;\n",
              "    }\n",
              "\n",
              "    .dataframe thead th {\n",
              "        text-align: right;\n",
              "    }\n",
              "</style>\n",
              "<table border=\"1\" class=\"dataframe\">\n",
              "  <thead>\n",
              "    <tr style=\"text-align: right;\">\n",
              "      <th></th>\n",
              "      <th>0</th>\n",
              "    </tr>\n",
              "  </thead>\n",
              "  <tbody>\n",
              "    <tr>\n",
              "      <th>Month</th>\n",
              "      <td>0.045244</td>\n",
              "    </tr>\n",
              "    <tr>\n",
              "      <th>Hour</th>\n",
              "      <td>0.030769</td>\n",
              "    </tr>\n",
              "    <tr>\n",
              "      <th>Temperature</th>\n",
              "      <td>0.079179</td>\n",
              "    </tr>\n",
              "    <tr>\n",
              "      <th>Humidity</th>\n",
              "      <td>-0.073103</td>\n",
              "    </tr>\n",
              "    <tr>\n",
              "      <th>SquareFootage</th>\n",
              "      <td>-0.032496</td>\n",
              "    </tr>\n",
              "    <tr>\n",
              "      <th>Occupancy</th>\n",
              "      <td>-0.058345</td>\n",
              "    </tr>\n",
              "    <tr>\n",
              "      <th>RenewableEnergy</th>\n",
              "      <td>-0.047726</td>\n",
              "    </tr>\n",
              "    <tr>\n",
              "      <th>EnergyConsumption</th>\n",
              "      <td>-0.030749</td>\n",
              "    </tr>\n",
              "  </tbody>\n",
              "</table>\n",
              "</div><br><label><b>dtype:</b> float64</label>"
            ]
          },
          "metadata": {},
          "execution_count": 260
        }
      ]
    },
    {
      "cell_type": "markdown",
      "source": [
        "The data skewness is very small, all of them falls at either 0.0x or -0.0x (where x is a random integer). We can safely assume that our data is not skewed and we can do scaling only to make the data falls within the same range. No wonder it's quite hard to interpret the skewness only with our eyes, because the data is not too skewed."
      ],
      "metadata": {
        "id": "nQLk7FWdICMN"
      }
    },
    {
      "cell_type": "markdown",
      "source": [
        "### Train Test Split\n",
        "After the preprocessing steps are done, what's left is to split the data to train, test, and val data (70/20/10) and perform our final scaling process. First, we need to separate the X and y variables. The X variables will be the input to our model, and it will be all variables except for EnergyConsumption. EnergyConsumption will be our target or y variable."
      ],
      "metadata": {
        "id": "A-jQBtvJSlTp"
      }
    },
    {
      "cell_type": "code",
      "source": [
        "# Splitting X and y\n",
        "X = df.drop('EnergyConsumption', axis=1)\n",
        "y = df['EnergyConsumption']"
      ],
      "metadata": {
        "id": "XYCsMkVtTANz"
      },
      "execution_count": null,
      "outputs": []
    },
    {
      "cell_type": "code",
      "source": [
        "# Train test split\n",
        "X_train, X_test, y_train, y_test = train_test_split(X, y, test_size=0.2, random_state=SEED_VALUE)\n",
        "\n",
        "# Train val split\n",
        "'''\n",
        "Now, our train data is 80% of the whole set. We want to split them to 70% train and 10% val.\n",
        "10%/80% is 12.5% -> so the test_size (or val size in this case) is 0.125, so the val data is 10% of the\n",
        "full dataset, not 10% of the splitted train dataset.\n",
        "'''\n",
        "X_train, X_val, y_train, y_val = train_test_split(X_train, y_train, test_size=0.125, random_state=SEED_VALUE)\n",
        "\n",
        "# Check sizes\n",
        "print(f\"Train size: {len(X_train)}\")\n",
        "print(f\"Test size: {len(X_test)}\")\n",
        "print(f\"Val size: {len(X_val)}\")"
      ],
      "metadata": {
        "colab": {
          "base_uri": "https://localhost:8080/"
        },
        "id": "HevI9Youn1oy",
        "outputId": "bdcdd606-6cb2-4d51-e07c-d3d1cc0b55f7"
      },
      "execution_count": null,
      "outputs": [
        {
          "output_type": "stream",
          "name": "stdout",
          "text": [
            "Train size: 860\n",
            "Test size: 246\n",
            "Val size: 123\n"
          ]
        }
      ]
    },
    {
      "cell_type": "code",
      "source": [
        "# Check the total data\n",
        "total = len(X_train) + len(X_test) + len(X_val)\n",
        "print(\"Total data: \", total)\n",
        "print(\"Train: \", 0.7*total)\n",
        "print(\"Test: \", 0.2*total)\n",
        "print(\"Val: \", 0.1*total)"
      ],
      "metadata": {
        "colab": {
          "base_uri": "https://localhost:8080/"
        },
        "id": "qromTHpRX8Sm",
        "outputId": "0b6d1959-1dff-49d8-8094-6f864d09cf52"
      },
      "execution_count": null,
      "outputs": [
        {
          "output_type": "stream",
          "name": "stdout",
          "text": [
            "Total data:  1229\n",
            "Train:  860.3\n",
            "Test:  245.8\n",
            "Val:  122.9\n"
          ]
        }
      ]
    },
    {
      "cell_type": "code",
      "source": [
        "X_train.shape[1]"
      ],
      "metadata": {
        "colab": {
          "base_uri": "https://localhost:8080/"
        },
        "id": "6Llc1e06dRbA",
        "outputId": "0de359c0-4658-4e19-c110-496fadd6fb2f"
      },
      "execution_count": null,
      "outputs": [
        {
          "output_type": "execute_result",
          "data": {
            "text/plain": [
              "20"
            ]
          },
          "metadata": {},
          "execution_count": 264
        }
      ]
    },
    {
      "cell_type": "markdown",
      "source": [
        "Our data has been split into train, test, and val data and no data is lost during the splitting process because from 1229 rows, we can still maintain the total length of train, test, and val to 1229 rows as well. We have 17 train data columns, which will be our input dimension."
      ],
      "metadata": {
        "id": "V0gJjKUjYBkQ"
      }
    },
    {
      "cell_type": "markdown",
      "source": [
        "### Scaling\n",
        "Since the data is not skewed and close to normal distribution, we will perform **StandardScaler** that will scale the data so the mean is 0 and the std is 1. Scaling is needed even though there is no skewness or outlier, because the model can benefit if the data points fall within a similar range.\n",
        "\n",
        "For the y variable, I will use **MinMaxScaler**. I actually have tried to scale it using StandardScaler, however the result dissatisfies me -- the loss is so high at 0.9 to 1.0. When using MinMaxScaler, the **loss is way better** as attached below. And because MinMaxScaler will convert the answer to 0 to 1, I will be using **Sigmoid activation function for the output layer** (even though Sigmoid is usually used for binary classification, but since I applied MinMaxScaler where the output is 0 to 1, Sigmoid also produces the same range, so this can ensure that the model's prediction matches the scaler).\n",
        "\n",
        "p.s.: Scaling is done after splitting the data so there won't be data leakage -- the scaler will learn from train data only, and the learning will be applied to test and val.\n",
        "\n",
        "---\n",
        "\n",
        "Scaling will be done for Month, Hour, Occupancy, Temperature, Humidity, SquareFootage, RenewableEnergy, and EnergyConsumption, because their values differ greatly compared to one another, so it is better to get our numerical variables within the same range.\n",
        "\n",
        "I will make 2 separate scalers for X and y variables. Why? Because I want to use the scaler_y to inverse transform my y variable later, and I will need a separated, isolated scaler for y_variable. And I will keep a copy of the unscaled y test because it will be used to measure the model's performance, compared to the actual values."
      ],
      "metadata": {
        "id": "m5Bw-7tVJkFP"
      }
    },
    {
      "cell_type": "code",
      "source": [
        "y_unscaled = y_test.copy()\n",
        "y_unscaled"
      ],
      "metadata": {
        "colab": {
          "base_uri": "https://localhost:8080/",
          "height": 458
        },
        "id": "nES9ysc206OT",
        "outputId": "6f38627d-8b76-4aca-f8e6-54d717dbf0bd"
      },
      "execution_count": null,
      "outputs": [
        {
          "output_type": "execute_result",
          "data": {
            "text/plain": [
              "382    91.233133\n",
              "770    83.932539\n",
              "834    62.902567\n",
              "814    75.369438\n",
              "97     69.758303\n",
              "         ...    \n",
              "43     63.298668\n",
              "300    70.689785\n",
              "897    86.669094\n",
              "974    67.069184\n",
              "842    68.521495\n",
              "Name: EnergyConsumption, Length: 246, dtype: float64"
            ],
            "text/html": [
              "<div>\n",
              "<style scoped>\n",
              "    .dataframe tbody tr th:only-of-type {\n",
              "        vertical-align: middle;\n",
              "    }\n",
              "\n",
              "    .dataframe tbody tr th {\n",
              "        vertical-align: top;\n",
              "    }\n",
              "\n",
              "    .dataframe thead th {\n",
              "        text-align: right;\n",
              "    }\n",
              "</style>\n",
              "<table border=\"1\" class=\"dataframe\">\n",
              "  <thead>\n",
              "    <tr style=\"text-align: right;\">\n",
              "      <th></th>\n",
              "      <th>EnergyConsumption</th>\n",
              "    </tr>\n",
              "  </thead>\n",
              "  <tbody>\n",
              "    <tr>\n",
              "      <th>382</th>\n",
              "      <td>91.233133</td>\n",
              "    </tr>\n",
              "    <tr>\n",
              "      <th>770</th>\n",
              "      <td>83.932539</td>\n",
              "    </tr>\n",
              "    <tr>\n",
              "      <th>834</th>\n",
              "      <td>62.902567</td>\n",
              "    </tr>\n",
              "    <tr>\n",
              "      <th>814</th>\n",
              "      <td>75.369438</td>\n",
              "    </tr>\n",
              "    <tr>\n",
              "      <th>97</th>\n",
              "      <td>69.758303</td>\n",
              "    </tr>\n",
              "    <tr>\n",
              "      <th>...</th>\n",
              "      <td>...</td>\n",
              "    </tr>\n",
              "    <tr>\n",
              "      <th>43</th>\n",
              "      <td>63.298668</td>\n",
              "    </tr>\n",
              "    <tr>\n",
              "      <th>300</th>\n",
              "      <td>70.689785</td>\n",
              "    </tr>\n",
              "    <tr>\n",
              "      <th>897</th>\n",
              "      <td>86.669094</td>\n",
              "    </tr>\n",
              "    <tr>\n",
              "      <th>974</th>\n",
              "      <td>67.069184</td>\n",
              "    </tr>\n",
              "    <tr>\n",
              "      <th>842</th>\n",
              "      <td>68.521495</td>\n",
              "    </tr>\n",
              "  </tbody>\n",
              "</table>\n",
              "<p>246 rows × 1 columns</p>\n",
              "</div><br><label><b>dtype:</b> float64</label>"
            ]
          },
          "metadata": {},
          "execution_count": 265
        }
      ]
    },
    {
      "cell_type": "code",
      "source": [
        "# Scaler\n",
        "scaler_X = StandardScaler()\n",
        "scaler_y = MinMaxScaler()\n",
        "\n",
        "# Select columns to scale for X\n",
        "columns_to_scale_X = ['Month', 'Hour', 'Occupancy', 'Temperature', 'Humidity', 'SquareFootage', 'RenewableEnergy']\n",
        "\n",
        "# Scale X\n",
        "X_train[columns_to_scale_X] = scaler_X.fit_transform(X_train[columns_to_scale_X])\n",
        "X_test[columns_to_scale_X] = scaler_X.transform(X_test[columns_to_scale_X])\n",
        "X_val[columns_to_scale_X] = scaler_X.transform(X_val[columns_to_scale_X])\n",
        "\n",
        "# Scale y\n",
        "y_train = scaler_y.fit_transform(y_train.values.reshape(-1, 1))\n",
        "y_test = scaler_y.transform(y_test.values.reshape(-1, 1))\n",
        "y_val = scaler_y.transform(y_val.values.reshape(-1, 1))\n",
        "\n",
        "# Check data\n",
        "X_train.head()"
      ],
      "metadata": {
        "id": "cYGfiSwaKFGL",
        "colab": {
          "base_uri": "https://localhost:8080/",
          "height": 226
        },
        "outputId": "a963be4b-54a7-4ae7-87e3-bbd0e55ff12f"
      },
      "execution_count": null,
      "outputs": [
        {
          "output_type": "execute_result",
          "data": {
            "text/plain": [
              "         Month      Hour  Temperature  Humidity  SquareFootage  Occupancy  \\\n",
              "286  -0.592795  0.075441     1.642867 -1.223356       1.064313   0.867405   \n",
              "815  -0.869411 -1.088307    -1.207309  0.814460       0.599162   0.516856   \n",
              "490   0.513670  0.075441     0.354930  0.207992       1.469294  -0.885340   \n",
              "1002  1.066902 -0.942838     1.642867 -1.176822      -0.910352   0.166307   \n",
              "421  -0.316179 -0.506433    -1.061488 -1.401659       1.290935   0.867405   \n",
              "\n",
              "      RenewableEnergy  DayOfWeek_Friday  DayOfWeek_Monday  DayOfWeek_Saturday  \\\n",
              "286         -0.292765               0.0               1.0                 0.0   \n",
              "815          0.832408               0.0               0.0                 0.0   \n",
              "490         -0.874065               0.0               1.0                 0.0   \n",
              "1002         0.135130               1.0               0.0                 0.0   \n",
              "421          0.221016               0.0               0.0                 0.0   \n",
              "\n",
              "      DayOfWeek_Sunday  DayOfWeek_Thursday  DayOfWeek_Tuesday  \\\n",
              "286                0.0                 0.0                0.0   \n",
              "815                0.0                 1.0                0.0   \n",
              "490                0.0                 0.0                0.0   \n",
              "1002               0.0                 0.0                0.0   \n",
              "421                0.0                 0.0                1.0   \n",
              "\n",
              "      DayOfWeek_Wednesday  Holiday_No  Holiday_Yes  HVACUsage_Off  \\\n",
              "286                   0.0         1.0          0.0            0.0   \n",
              "815                   0.0         0.0          1.0            1.0   \n",
              "490                   0.0         1.0          0.0            0.0   \n",
              "1002                  0.0         0.0          1.0            0.0   \n",
              "421                   0.0         0.0          1.0            1.0   \n",
              "\n",
              "      HVACUsage_On  LightingUsage_Off  LightingUsage_On  \n",
              "286            1.0                0.0               1.0  \n",
              "815            0.0                1.0               0.0  \n",
              "490            1.0                0.0               1.0  \n",
              "1002           1.0                0.0               1.0  \n",
              "421            0.0                1.0               0.0  "
            ],
            "text/html": [
              "\n",
              "  <div id=\"df-2c69bccc-b2c2-4657-830d-aaa5a3e02bc9\" class=\"colab-df-container\">\n",
              "    <div>\n",
              "<style scoped>\n",
              "    .dataframe tbody tr th:only-of-type {\n",
              "        vertical-align: middle;\n",
              "    }\n",
              "\n",
              "    .dataframe tbody tr th {\n",
              "        vertical-align: top;\n",
              "    }\n",
              "\n",
              "    .dataframe thead th {\n",
              "        text-align: right;\n",
              "    }\n",
              "</style>\n",
              "<table border=\"1\" class=\"dataframe\">\n",
              "  <thead>\n",
              "    <tr style=\"text-align: right;\">\n",
              "      <th></th>\n",
              "      <th>Month</th>\n",
              "      <th>Hour</th>\n",
              "      <th>Temperature</th>\n",
              "      <th>Humidity</th>\n",
              "      <th>SquareFootage</th>\n",
              "      <th>Occupancy</th>\n",
              "      <th>RenewableEnergy</th>\n",
              "      <th>DayOfWeek_Friday</th>\n",
              "      <th>DayOfWeek_Monday</th>\n",
              "      <th>DayOfWeek_Saturday</th>\n",
              "      <th>DayOfWeek_Sunday</th>\n",
              "      <th>DayOfWeek_Thursday</th>\n",
              "      <th>DayOfWeek_Tuesday</th>\n",
              "      <th>DayOfWeek_Wednesday</th>\n",
              "      <th>Holiday_No</th>\n",
              "      <th>Holiday_Yes</th>\n",
              "      <th>HVACUsage_Off</th>\n",
              "      <th>HVACUsage_On</th>\n",
              "      <th>LightingUsage_Off</th>\n",
              "      <th>LightingUsage_On</th>\n",
              "    </tr>\n",
              "  </thead>\n",
              "  <tbody>\n",
              "    <tr>\n",
              "      <th>286</th>\n",
              "      <td>-0.592795</td>\n",
              "      <td>0.075441</td>\n",
              "      <td>1.642867</td>\n",
              "      <td>-1.223356</td>\n",
              "      <td>1.064313</td>\n",
              "      <td>0.867405</td>\n",
              "      <td>-0.292765</td>\n",
              "      <td>0.0</td>\n",
              "      <td>1.0</td>\n",
              "      <td>0.0</td>\n",
              "      <td>0.0</td>\n",
              "      <td>0.0</td>\n",
              "      <td>0.0</td>\n",
              "      <td>0.0</td>\n",
              "      <td>1.0</td>\n",
              "      <td>0.0</td>\n",
              "      <td>0.0</td>\n",
              "      <td>1.0</td>\n",
              "      <td>0.0</td>\n",
              "      <td>1.0</td>\n",
              "    </tr>\n",
              "    <tr>\n",
              "      <th>815</th>\n",
              "      <td>-0.869411</td>\n",
              "      <td>-1.088307</td>\n",
              "      <td>-1.207309</td>\n",
              "      <td>0.814460</td>\n",
              "      <td>0.599162</td>\n",
              "      <td>0.516856</td>\n",
              "      <td>0.832408</td>\n",
              "      <td>0.0</td>\n",
              "      <td>0.0</td>\n",
              "      <td>0.0</td>\n",
              "      <td>0.0</td>\n",
              "      <td>1.0</td>\n",
              "      <td>0.0</td>\n",
              "      <td>0.0</td>\n",
              "      <td>0.0</td>\n",
              "      <td>1.0</td>\n",
              "      <td>1.0</td>\n",
              "      <td>0.0</td>\n",
              "      <td>1.0</td>\n",
              "      <td>0.0</td>\n",
              "    </tr>\n",
              "    <tr>\n",
              "      <th>490</th>\n",
              "      <td>0.513670</td>\n",
              "      <td>0.075441</td>\n",
              "      <td>0.354930</td>\n",
              "      <td>0.207992</td>\n",
              "      <td>1.469294</td>\n",
              "      <td>-0.885340</td>\n",
              "      <td>-0.874065</td>\n",
              "      <td>0.0</td>\n",
              "      <td>1.0</td>\n",
              "      <td>0.0</td>\n",
              "      <td>0.0</td>\n",
              "      <td>0.0</td>\n",
              "      <td>0.0</td>\n",
              "      <td>0.0</td>\n",
              "      <td>1.0</td>\n",
              "      <td>0.0</td>\n",
              "      <td>0.0</td>\n",
              "      <td>1.0</td>\n",
              "      <td>0.0</td>\n",
              "      <td>1.0</td>\n",
              "    </tr>\n",
              "    <tr>\n",
              "      <th>1002</th>\n",
              "      <td>1.066902</td>\n",
              "      <td>-0.942838</td>\n",
              "      <td>1.642867</td>\n",
              "      <td>-1.176822</td>\n",
              "      <td>-0.910352</td>\n",
              "      <td>0.166307</td>\n",
              "      <td>0.135130</td>\n",
              "      <td>1.0</td>\n",
              "      <td>0.0</td>\n",
              "      <td>0.0</td>\n",
              "      <td>0.0</td>\n",
              "      <td>0.0</td>\n",
              "      <td>0.0</td>\n",
              "      <td>0.0</td>\n",
              "      <td>0.0</td>\n",
              "      <td>1.0</td>\n",
              "      <td>0.0</td>\n",
              "      <td>1.0</td>\n",
              "      <td>0.0</td>\n",
              "      <td>1.0</td>\n",
              "    </tr>\n",
              "    <tr>\n",
              "      <th>421</th>\n",
              "      <td>-0.316179</td>\n",
              "      <td>-0.506433</td>\n",
              "      <td>-1.061488</td>\n",
              "      <td>-1.401659</td>\n",
              "      <td>1.290935</td>\n",
              "      <td>0.867405</td>\n",
              "      <td>0.221016</td>\n",
              "      <td>0.0</td>\n",
              "      <td>0.0</td>\n",
              "      <td>0.0</td>\n",
              "      <td>0.0</td>\n",
              "      <td>0.0</td>\n",
              "      <td>1.0</td>\n",
              "      <td>0.0</td>\n",
              "      <td>0.0</td>\n",
              "      <td>1.0</td>\n",
              "      <td>1.0</td>\n",
              "      <td>0.0</td>\n",
              "      <td>1.0</td>\n",
              "      <td>0.0</td>\n",
              "    </tr>\n",
              "  </tbody>\n",
              "</table>\n",
              "</div>\n",
              "    <div class=\"colab-df-buttons\">\n",
              "\n",
              "  <div class=\"colab-df-container\">\n",
              "    <button class=\"colab-df-convert\" onclick=\"convertToInteractive('df-2c69bccc-b2c2-4657-830d-aaa5a3e02bc9')\"\n",
              "            title=\"Convert this dataframe to an interactive table.\"\n",
              "            style=\"display:none;\">\n",
              "\n",
              "  <svg xmlns=\"http://www.w3.org/2000/svg\" height=\"24px\" viewBox=\"0 -960 960 960\">\n",
              "    <path d=\"M120-120v-720h720v720H120Zm60-500h600v-160H180v160Zm220 220h160v-160H400v160Zm0 220h160v-160H400v160ZM180-400h160v-160H180v160Zm440 0h160v-160H620v160ZM180-180h160v-160H180v160Zm440 0h160v-160H620v160Z\"/>\n",
              "  </svg>\n",
              "    </button>\n",
              "\n",
              "  <style>\n",
              "    .colab-df-container {\n",
              "      display:flex;\n",
              "      gap: 12px;\n",
              "    }\n",
              "\n",
              "    .colab-df-convert {\n",
              "      background-color: #E8F0FE;\n",
              "      border: none;\n",
              "      border-radius: 50%;\n",
              "      cursor: pointer;\n",
              "      display: none;\n",
              "      fill: #1967D2;\n",
              "      height: 32px;\n",
              "      padding: 0 0 0 0;\n",
              "      width: 32px;\n",
              "    }\n",
              "\n",
              "    .colab-df-convert:hover {\n",
              "      background-color: #E2EBFA;\n",
              "      box-shadow: 0px 1px 2px rgba(60, 64, 67, 0.3), 0px 1px 3px 1px rgba(60, 64, 67, 0.15);\n",
              "      fill: #174EA6;\n",
              "    }\n",
              "\n",
              "    .colab-df-buttons div {\n",
              "      margin-bottom: 4px;\n",
              "    }\n",
              "\n",
              "    [theme=dark] .colab-df-convert {\n",
              "      background-color: #3B4455;\n",
              "      fill: #D2E3FC;\n",
              "    }\n",
              "\n",
              "    [theme=dark] .colab-df-convert:hover {\n",
              "      background-color: #434B5C;\n",
              "      box-shadow: 0px 1px 3px 1px rgba(0, 0, 0, 0.15);\n",
              "      filter: drop-shadow(0px 1px 2px rgba(0, 0, 0, 0.3));\n",
              "      fill: #FFFFFF;\n",
              "    }\n",
              "  </style>\n",
              "\n",
              "    <script>\n",
              "      const buttonEl =\n",
              "        document.querySelector('#df-2c69bccc-b2c2-4657-830d-aaa5a3e02bc9 button.colab-df-convert');\n",
              "      buttonEl.style.display =\n",
              "        google.colab.kernel.accessAllowed ? 'block' : 'none';\n",
              "\n",
              "      async function convertToInteractive(key) {\n",
              "        const element = document.querySelector('#df-2c69bccc-b2c2-4657-830d-aaa5a3e02bc9');\n",
              "        const dataTable =\n",
              "          await google.colab.kernel.invokeFunction('convertToInteractive',\n",
              "                                                    [key], {});\n",
              "        if (!dataTable) return;\n",
              "\n",
              "        const docLinkHtml = 'Like what you see? Visit the ' +\n",
              "          '<a target=\"_blank\" href=https://colab.research.google.com/notebooks/data_table.ipynb>data table notebook</a>'\n",
              "          + ' to learn more about interactive tables.';\n",
              "        element.innerHTML = '';\n",
              "        dataTable['output_type'] = 'display_data';\n",
              "        await google.colab.output.renderOutput(dataTable, element);\n",
              "        const docLink = document.createElement('div');\n",
              "        docLink.innerHTML = docLinkHtml;\n",
              "        element.appendChild(docLink);\n",
              "      }\n",
              "    </script>\n",
              "  </div>\n",
              "\n",
              "\n",
              "<div id=\"df-b6904c84-cf6e-4c68-ae21-3aab5c036fa4\">\n",
              "  <button class=\"colab-df-quickchart\" onclick=\"quickchart('df-b6904c84-cf6e-4c68-ae21-3aab5c036fa4')\"\n",
              "            title=\"Suggest charts\"\n",
              "            style=\"display:none;\">\n",
              "\n",
              "<svg xmlns=\"http://www.w3.org/2000/svg\" height=\"24px\"viewBox=\"0 0 24 24\"\n",
              "     width=\"24px\">\n",
              "    <g>\n",
              "        <path d=\"M19 3H5c-1.1 0-2 .9-2 2v14c0 1.1.9 2 2 2h14c1.1 0 2-.9 2-2V5c0-1.1-.9-2-2-2zM9 17H7v-7h2v7zm4 0h-2V7h2v10zm4 0h-2v-4h2v4z\"/>\n",
              "    </g>\n",
              "</svg>\n",
              "  </button>\n",
              "\n",
              "<style>\n",
              "  .colab-df-quickchart {\n",
              "      --bg-color: #E8F0FE;\n",
              "      --fill-color: #1967D2;\n",
              "      --hover-bg-color: #E2EBFA;\n",
              "      --hover-fill-color: #174EA6;\n",
              "      --disabled-fill-color: #AAA;\n",
              "      --disabled-bg-color: #DDD;\n",
              "  }\n",
              "\n",
              "  [theme=dark] .colab-df-quickchart {\n",
              "      --bg-color: #3B4455;\n",
              "      --fill-color: #D2E3FC;\n",
              "      --hover-bg-color: #434B5C;\n",
              "      --hover-fill-color: #FFFFFF;\n",
              "      --disabled-bg-color: #3B4455;\n",
              "      --disabled-fill-color: #666;\n",
              "  }\n",
              "\n",
              "  .colab-df-quickchart {\n",
              "    background-color: var(--bg-color);\n",
              "    border: none;\n",
              "    border-radius: 50%;\n",
              "    cursor: pointer;\n",
              "    display: none;\n",
              "    fill: var(--fill-color);\n",
              "    height: 32px;\n",
              "    padding: 0;\n",
              "    width: 32px;\n",
              "  }\n",
              "\n",
              "  .colab-df-quickchart:hover {\n",
              "    background-color: var(--hover-bg-color);\n",
              "    box-shadow: 0 1px 2px rgba(60, 64, 67, 0.3), 0 1px 3px 1px rgba(60, 64, 67, 0.15);\n",
              "    fill: var(--button-hover-fill-color);\n",
              "  }\n",
              "\n",
              "  .colab-df-quickchart-complete:disabled,\n",
              "  .colab-df-quickchart-complete:disabled:hover {\n",
              "    background-color: var(--disabled-bg-color);\n",
              "    fill: var(--disabled-fill-color);\n",
              "    box-shadow: none;\n",
              "  }\n",
              "\n",
              "  .colab-df-spinner {\n",
              "    border: 2px solid var(--fill-color);\n",
              "    border-color: transparent;\n",
              "    border-bottom-color: var(--fill-color);\n",
              "    animation:\n",
              "      spin 1s steps(1) infinite;\n",
              "  }\n",
              "\n",
              "  @keyframes spin {\n",
              "    0% {\n",
              "      border-color: transparent;\n",
              "      border-bottom-color: var(--fill-color);\n",
              "      border-left-color: var(--fill-color);\n",
              "    }\n",
              "    20% {\n",
              "      border-color: transparent;\n",
              "      border-left-color: var(--fill-color);\n",
              "      border-top-color: var(--fill-color);\n",
              "    }\n",
              "    30% {\n",
              "      border-color: transparent;\n",
              "      border-left-color: var(--fill-color);\n",
              "      border-top-color: var(--fill-color);\n",
              "      border-right-color: var(--fill-color);\n",
              "    }\n",
              "    40% {\n",
              "      border-color: transparent;\n",
              "      border-right-color: var(--fill-color);\n",
              "      border-top-color: var(--fill-color);\n",
              "    }\n",
              "    60% {\n",
              "      border-color: transparent;\n",
              "      border-right-color: var(--fill-color);\n",
              "    }\n",
              "    80% {\n",
              "      border-color: transparent;\n",
              "      border-right-color: var(--fill-color);\n",
              "      border-bottom-color: var(--fill-color);\n",
              "    }\n",
              "    90% {\n",
              "      border-color: transparent;\n",
              "      border-bottom-color: var(--fill-color);\n",
              "    }\n",
              "  }\n",
              "</style>\n",
              "\n",
              "  <script>\n",
              "    async function quickchart(key) {\n",
              "      const quickchartButtonEl =\n",
              "        document.querySelector('#' + key + ' button');\n",
              "      quickchartButtonEl.disabled = true;  // To prevent multiple clicks.\n",
              "      quickchartButtonEl.classList.add('colab-df-spinner');\n",
              "      try {\n",
              "        const charts = await google.colab.kernel.invokeFunction(\n",
              "            'suggestCharts', [key], {});\n",
              "      } catch (error) {\n",
              "        console.error('Error during call to suggestCharts:', error);\n",
              "      }\n",
              "      quickchartButtonEl.classList.remove('colab-df-spinner');\n",
              "      quickchartButtonEl.classList.add('colab-df-quickchart-complete');\n",
              "    }\n",
              "    (() => {\n",
              "      let quickchartButtonEl =\n",
              "        document.querySelector('#df-b6904c84-cf6e-4c68-ae21-3aab5c036fa4 button');\n",
              "      quickchartButtonEl.style.display =\n",
              "        google.colab.kernel.accessAllowed ? 'block' : 'none';\n",
              "    })();\n",
              "  </script>\n",
              "</div>\n",
              "\n",
              "    </div>\n",
              "  </div>\n"
            ],
            "application/vnd.google.colaboratory.intrinsic+json": {
              "type": "dataframe",
              "variable_name": "X_train",
              "summary": "{\n  \"name\": \"X_train\",\n  \"rows\": 860,\n  \"fields\": [\n    {\n      \"column\": \"Month\",\n      \"properties\": {\n        \"dtype\": \"number\",\n        \"std\": 1.0005819028714766,\n        \"min\": -1.422643201047668,\n        \"max\": 1.620134253600973,\n        \"num_unique_values\": 12,\n        \"samples\": [\n          1.620134253600973,\n          1.3435181213601874,\n          -0.5927948043253113\n        ],\n        \"semantic_type\": \"\",\n        \"description\": \"\"\n      }\n    },\n    {\n      \"column\": \"Hour\",\n      \"properties\": {\n        \"dtype\": \"number\",\n        \"std\": 1.000581902871475,\n        \"min\": -1.6701800622565206,\n        \"max\": 1.6755928394483588,\n        \"num_unique_values\": 24,\n        \"samples\": [\n          -0.797369740072639,\n          0.6573141302338302,\n          0.07544058211124254\n        ],\n        \"semantic_type\": \"\",\n        \"description\": \"\"\n      }\n    },\n    {\n      \"column\": \"Temperature\",\n      \"properties\": {\n        \"dtype\": \"number\",\n        \"std\": 1.0005819028714729,\n        \"min\": -1.6091826425616438,\n        \"max\": 1.6428666224681698,\n        \"num_unique_values\": 761,\n        \"samples\": [\n          1.6035682603871433,\n          -0.2452515999442702,\n          -0.6112570770067579\n        ],\n        \"semantic_type\": \"\",\n        \"description\": \"\"\n      }\n    },\n    {\n      \"column\": \"Humidity\",\n      \"properties\": {\n        \"dtype\": \"number\",\n        \"std\": 1.0005819028714735,\n        \"min\": -1.7297753117738734,\n        \"max\": 1.5437564721160664,\n        \"num_unique_values\": 781,\n        \"samples\": [\n          -0.7320757517192336,\n          -0.2916719283959158,\n          0.60820566505876\n        ],\n        \"semantic_type\": \"\",\n        \"description\": \"\"\n      }\n    },\n    {\n      \"column\": \"SquareFootage\",\n      \"properties\": {\n        \"dtype\": \"number\",\n        \"std\": 1.0005819028714742,\n        \"min\": -1.7101965640322827,\n        \"max\": 1.648390383079741,\n        \"num_unique_values\": 809,\n        \"samples\": [\n          -1.3466184141606095,\n          -0.8139658068372011,\n          0.048803956675412916\n        ],\n        \"semantic_type\": \"\",\n        \"description\": \"\"\n      }\n    },\n    {\n      \"column\": \"Occupancy\",\n      \"properties\": {\n        \"dtype\": \"number\",\n        \"std\": 1.0005819028714762,\n        \"min\": -1.586437878622904,\n        \"max\": 1.5685028152469,\n        \"num_unique_values\": 10,\n        \"samples\": [\n          -0.18424201468076887,\n          0.5168559172902987,\n          1.5685028152469\n        ],\n        \"semantic_type\": \"\",\n        \"description\": \"\"\n      }\n    },\n    {\n      \"column\": \"RenewableEnergy\",\n      \"properties\": {\n        \"dtype\": \"number\",\n        \"std\": 1.000581902871474,\n        \"min\": -1.6949195722945656,\n        \"max\": 1.5787570991320978,\n        \"num_unique_values\": 775,\n        \"samples\": [\n          0.4189091463863573,\n          0.7064547457965968,\n          -0.7741552902065315\n        ],\n        \"semantic_type\": \"\",\n        \"description\": \"\"\n      }\n    },\n    {\n      \"column\": \"DayOfWeek_Friday\",\n      \"properties\": {\n        \"dtype\": \"number\",\n        \"std\": 0.3354722416667774,\n        \"min\": 0.0,\n        \"max\": 1.0,\n        \"num_unique_values\": 2,\n        \"samples\": [\n          1.0,\n          0.0\n        ],\n        \"semantic_type\": \"\",\n        \"description\": \"\"\n      }\n    },\n    {\n      \"column\": \"DayOfWeek_Monday\",\n      \"properties\": {\n        \"dtype\": \"number\",\n        \"std\": 0.34549103071610376,\n        \"min\": 0.0,\n        \"max\": 1.0,\n        \"num_unique_values\": 2,\n        \"samples\": [\n          0.0,\n          1.0\n        ],\n        \"semantic_type\": \"\",\n        \"description\": \"\"\n      }\n    },\n    {\n      \"column\": \"DayOfWeek_Saturday\",\n      \"properties\": {\n        \"dtype\": \"number\",\n        \"std\": 0.3672504481691322,\n        \"min\": 0.0,\n        \"max\": 1.0,\n        \"num_unique_values\": 2,\n        \"samples\": [\n          1.0,\n          0.0\n        ],\n        \"semantic_type\": \"\",\n        \"description\": \"\"\n      }\n    },\n    {\n      \"column\": \"DayOfWeek_Sunday\",\n      \"properties\": {\n        \"dtype\": \"number\",\n        \"std\": 0.35265729216137853,\n        \"min\": 0.0,\n        \"max\": 1.0,\n        \"num_unique_values\": 2,\n        \"samples\": [\n          1.0,\n          0.0\n        ],\n        \"semantic_type\": \"\",\n        \"description\": \"\"\n      }\n    },\n    {\n      \"column\": \"DayOfWeek_Thursday\",\n      \"properties\": {\n        \"dtype\": \"number\",\n        \"std\": 0.361782219154609,\n        \"min\": 0.0,\n        \"max\": 1.0,\n        \"num_unique_values\": 2,\n        \"samples\": [\n          1.0,\n          0.0\n        ],\n        \"semantic_type\": \"\",\n        \"description\": \"\"\n      }\n    },\n    {\n      \"column\": \"DayOfWeek_Tuesday\",\n      \"properties\": {\n        \"dtype\": \"number\",\n        \"std\": 0.34179810836593616,\n        \"min\": 0.0,\n        \"max\": 1.0,\n        \"num_unique_values\": 2,\n        \"samples\": [\n          1.0,\n          0.0\n        ],\n        \"semantic_type\": \"\",\n        \"description\": \"\"\n      }\n    },\n    {\n      \"column\": \"DayOfWeek_Wednesday\",\n      \"properties\": {\n        \"dtype\": \"number\",\n        \"std\": 0.34426839017953703,\n        \"min\": 0.0,\n        \"max\": 1.0,\n        \"num_unique_values\": 2,\n        \"samples\": [\n          1.0,\n          0.0\n        ],\n        \"semantic_type\": \"\",\n        \"description\": \"\"\n      }\n    },\n    {\n      \"column\": \"Holiday_No\",\n      \"properties\": {\n        \"dtype\": \"number\",\n        \"std\": 0.49822898848776753,\n        \"min\": 0.0,\n        \"max\": 1.0,\n        \"num_unique_values\": 2,\n        \"samples\": [\n          0.0,\n          1.0\n        ],\n        \"semantic_type\": \"\",\n        \"description\": \"\"\n      }\n    },\n    {\n      \"column\": \"Holiday_Yes\",\n      \"properties\": {\n        \"dtype\": \"number\",\n        \"std\": 0.49822898848776753,\n        \"min\": 0.0,\n        \"max\": 1.0,\n        \"num_unique_values\": 2,\n        \"samples\": [\n          1.0,\n          0.0\n        ],\n        \"semantic_type\": \"\",\n        \"description\": \"\"\n      }\n    },\n    {\n      \"column\": \"HVACUsage_Off\",\n      \"properties\": {\n        \"dtype\": \"number\",\n        \"std\": 0.5002787754666856,\n        \"min\": 0.0,\n        \"max\": 1.0,\n        \"num_unique_values\": 2,\n        \"samples\": [\n          1.0,\n          0.0\n        ],\n        \"semantic_type\": \"\",\n        \"description\": \"\"\n      }\n    },\n    {\n      \"column\": \"HVACUsage_On\",\n      \"properties\": {\n        \"dtype\": \"number\",\n        \"std\": 0.5002787754666856,\n        \"min\": 0.0,\n        \"max\": 1.0,\n        \"num_unique_values\": 2,\n        \"samples\": [\n          0.0,\n          1.0\n        ],\n        \"semantic_type\": \"\",\n        \"description\": \"\"\n      }\n    },\n    {\n      \"column\": \"LightingUsage_Off\",\n      \"properties\": {\n        \"dtype\": \"number\",\n        \"std\": 0.5002043603269022,\n        \"min\": 0.0,\n        \"max\": 1.0,\n        \"num_unique_values\": 2,\n        \"samples\": [\n          1.0,\n          0.0\n        ],\n        \"semantic_type\": \"\",\n        \"description\": \"\"\n      }\n    },\n    {\n      \"column\": \"LightingUsage_On\",\n      \"properties\": {\n        \"dtype\": \"number\",\n        \"std\": 0.5002043603269022,\n        \"min\": 0.0,\n        \"max\": 1.0,\n        \"num_unique_values\": 2,\n        \"samples\": [\n          0.0,\n          1.0\n        ],\n        \"semantic_type\": \"\",\n        \"description\": \"\"\n      }\n    }\n  ]\n}"
            }
          },
          "metadata": {},
          "execution_count": 266
        }
      ]
    },
    {
      "cell_type": "code",
      "source": [
        "X_test.head()"
      ],
      "metadata": {
        "colab": {
          "base_uri": "https://localhost:8080/",
          "height": 226
        },
        "id": "8qjlF-ANb0LH",
        "outputId": "c8ece696-848d-4238-eee9-05285e40318a"
      },
      "execution_count": null,
      "outputs": [
        {
          "output_type": "execute_result",
          "data": {
            "text/plain": [
              "        Month      Hour  Temperature  Humidity  SquareFootage  Occupancy  \\\n",
              "382  0.237054 -1.233775     0.333384 -0.202801       1.239572   0.166307   \n",
              "770  0.237054 -1.379243     0.646722  1.543756      -1.560509  -0.184242   \n",
              "834 -1.422643 -0.942838    -1.530503 -0.072163       0.679227   1.217954   \n",
              "814 -1.422643  0.802783    -1.312613 -1.117415       0.108551   1.217954   \n",
              "97  -0.039563  0.220909    -0.198703  0.598611       0.823436   1.568503   \n",
              "\n",
              "     RenewableEnergy  DayOfWeek_Friday  DayOfWeek_Monday  DayOfWeek_Saturday  \\\n",
              "382        -1.694920               0.0               0.0                 0.0   \n",
              "770         1.578757               1.0               0.0                 0.0   \n",
              "834         1.281030               0.0               0.0                 0.0   \n",
              "814        -1.526645               0.0               0.0                 0.0   \n",
              "97          0.424817               0.0               0.0                 0.0   \n",
              "\n",
              "     DayOfWeek_Sunday  DayOfWeek_Thursday  DayOfWeek_Tuesday  \\\n",
              "382               1.0                 0.0                0.0   \n",
              "770               0.0                 0.0                0.0   \n",
              "834               1.0                 0.0                0.0   \n",
              "814               1.0                 0.0                0.0   \n",
              "97                0.0                 1.0                0.0   \n",
              "\n",
              "     DayOfWeek_Wednesday  Holiday_No  Holiday_Yes  HVACUsage_Off  \\\n",
              "382                  0.0         0.0          1.0            1.0   \n",
              "770                  0.0         1.0          0.0            1.0   \n",
              "834                  0.0         0.0          1.0            1.0   \n",
              "814                  0.0         0.0          1.0            1.0   \n",
              "97                   0.0         1.0          0.0            1.0   \n",
              "\n",
              "     HVACUsage_On  LightingUsage_Off  LightingUsage_On  \n",
              "382           0.0                0.0               1.0  \n",
              "770           0.0                0.0               1.0  \n",
              "834           0.0                1.0               0.0  \n",
              "814           0.0                0.0               1.0  \n",
              "97            0.0                0.0               1.0  "
            ],
            "text/html": [
              "\n",
              "  <div id=\"df-9d43dac5-d608-4a1f-b027-42b2f316ccbb\" class=\"colab-df-container\">\n",
              "    <div>\n",
              "<style scoped>\n",
              "    .dataframe tbody tr th:only-of-type {\n",
              "        vertical-align: middle;\n",
              "    }\n",
              "\n",
              "    .dataframe tbody tr th {\n",
              "        vertical-align: top;\n",
              "    }\n",
              "\n",
              "    .dataframe thead th {\n",
              "        text-align: right;\n",
              "    }\n",
              "</style>\n",
              "<table border=\"1\" class=\"dataframe\">\n",
              "  <thead>\n",
              "    <tr style=\"text-align: right;\">\n",
              "      <th></th>\n",
              "      <th>Month</th>\n",
              "      <th>Hour</th>\n",
              "      <th>Temperature</th>\n",
              "      <th>Humidity</th>\n",
              "      <th>SquareFootage</th>\n",
              "      <th>Occupancy</th>\n",
              "      <th>RenewableEnergy</th>\n",
              "      <th>DayOfWeek_Friday</th>\n",
              "      <th>DayOfWeek_Monday</th>\n",
              "      <th>DayOfWeek_Saturday</th>\n",
              "      <th>DayOfWeek_Sunday</th>\n",
              "      <th>DayOfWeek_Thursday</th>\n",
              "      <th>DayOfWeek_Tuesday</th>\n",
              "      <th>DayOfWeek_Wednesday</th>\n",
              "      <th>Holiday_No</th>\n",
              "      <th>Holiday_Yes</th>\n",
              "      <th>HVACUsage_Off</th>\n",
              "      <th>HVACUsage_On</th>\n",
              "      <th>LightingUsage_Off</th>\n",
              "      <th>LightingUsage_On</th>\n",
              "    </tr>\n",
              "  </thead>\n",
              "  <tbody>\n",
              "    <tr>\n",
              "      <th>382</th>\n",
              "      <td>0.237054</td>\n",
              "      <td>-1.233775</td>\n",
              "      <td>0.333384</td>\n",
              "      <td>-0.202801</td>\n",
              "      <td>1.239572</td>\n",
              "      <td>0.166307</td>\n",
              "      <td>-1.694920</td>\n",
              "      <td>0.0</td>\n",
              "      <td>0.0</td>\n",
              "      <td>0.0</td>\n",
              "      <td>1.0</td>\n",
              "      <td>0.0</td>\n",
              "      <td>0.0</td>\n",
              "      <td>0.0</td>\n",
              "      <td>0.0</td>\n",
              "      <td>1.0</td>\n",
              "      <td>1.0</td>\n",
              "      <td>0.0</td>\n",
              "      <td>0.0</td>\n",
              "      <td>1.0</td>\n",
              "    </tr>\n",
              "    <tr>\n",
              "      <th>770</th>\n",
              "      <td>0.237054</td>\n",
              "      <td>-1.379243</td>\n",
              "      <td>0.646722</td>\n",
              "      <td>1.543756</td>\n",
              "      <td>-1.560509</td>\n",
              "      <td>-0.184242</td>\n",
              "      <td>1.578757</td>\n",
              "      <td>1.0</td>\n",
              "      <td>0.0</td>\n",
              "      <td>0.0</td>\n",
              "      <td>0.0</td>\n",
              "      <td>0.0</td>\n",
              "      <td>0.0</td>\n",
              "      <td>0.0</td>\n",
              "      <td>1.0</td>\n",
              "      <td>0.0</td>\n",
              "      <td>1.0</td>\n",
              "      <td>0.0</td>\n",
              "      <td>0.0</td>\n",
              "      <td>1.0</td>\n",
              "    </tr>\n",
              "    <tr>\n",
              "      <th>834</th>\n",
              "      <td>-1.422643</td>\n",
              "      <td>-0.942838</td>\n",
              "      <td>-1.530503</td>\n",
              "      <td>-0.072163</td>\n",
              "      <td>0.679227</td>\n",
              "      <td>1.217954</td>\n",
              "      <td>1.281030</td>\n",
              "      <td>0.0</td>\n",
              "      <td>0.0</td>\n",
              "      <td>0.0</td>\n",
              "      <td>1.0</td>\n",
              "      <td>0.0</td>\n",
              "      <td>0.0</td>\n",
              "      <td>0.0</td>\n",
              "      <td>0.0</td>\n",
              "      <td>1.0</td>\n",
              "      <td>1.0</td>\n",
              "      <td>0.0</td>\n",
              "      <td>1.0</td>\n",
              "      <td>0.0</td>\n",
              "    </tr>\n",
              "    <tr>\n",
              "      <th>814</th>\n",
              "      <td>-1.422643</td>\n",
              "      <td>0.802783</td>\n",
              "      <td>-1.312613</td>\n",
              "      <td>-1.117415</td>\n",
              "      <td>0.108551</td>\n",
              "      <td>1.217954</td>\n",
              "      <td>-1.526645</td>\n",
              "      <td>0.0</td>\n",
              "      <td>0.0</td>\n",
              "      <td>0.0</td>\n",
              "      <td>1.0</td>\n",
              "      <td>0.0</td>\n",
              "      <td>0.0</td>\n",
              "      <td>0.0</td>\n",
              "      <td>0.0</td>\n",
              "      <td>1.0</td>\n",
              "      <td>1.0</td>\n",
              "      <td>0.0</td>\n",
              "      <td>0.0</td>\n",
              "      <td>1.0</td>\n",
              "    </tr>\n",
              "    <tr>\n",
              "      <th>97</th>\n",
              "      <td>-0.039563</td>\n",
              "      <td>0.220909</td>\n",
              "      <td>-0.198703</td>\n",
              "      <td>0.598611</td>\n",
              "      <td>0.823436</td>\n",
              "      <td>1.568503</td>\n",
              "      <td>0.424817</td>\n",
              "      <td>0.0</td>\n",
              "      <td>0.0</td>\n",
              "      <td>0.0</td>\n",
              "      <td>0.0</td>\n",
              "      <td>1.0</td>\n",
              "      <td>0.0</td>\n",
              "      <td>0.0</td>\n",
              "      <td>1.0</td>\n",
              "      <td>0.0</td>\n",
              "      <td>1.0</td>\n",
              "      <td>0.0</td>\n",
              "      <td>0.0</td>\n",
              "      <td>1.0</td>\n",
              "    </tr>\n",
              "  </tbody>\n",
              "</table>\n",
              "</div>\n",
              "    <div class=\"colab-df-buttons\">\n",
              "\n",
              "  <div class=\"colab-df-container\">\n",
              "    <button class=\"colab-df-convert\" onclick=\"convertToInteractive('df-9d43dac5-d608-4a1f-b027-42b2f316ccbb')\"\n",
              "            title=\"Convert this dataframe to an interactive table.\"\n",
              "            style=\"display:none;\">\n",
              "\n",
              "  <svg xmlns=\"http://www.w3.org/2000/svg\" height=\"24px\" viewBox=\"0 -960 960 960\">\n",
              "    <path d=\"M120-120v-720h720v720H120Zm60-500h600v-160H180v160Zm220 220h160v-160H400v160Zm0 220h160v-160H400v160ZM180-400h160v-160H180v160Zm440 0h160v-160H620v160ZM180-180h160v-160H180v160Zm440 0h160v-160H620v160Z\"/>\n",
              "  </svg>\n",
              "    </button>\n",
              "\n",
              "  <style>\n",
              "    .colab-df-container {\n",
              "      display:flex;\n",
              "      gap: 12px;\n",
              "    }\n",
              "\n",
              "    .colab-df-convert {\n",
              "      background-color: #E8F0FE;\n",
              "      border: none;\n",
              "      border-radius: 50%;\n",
              "      cursor: pointer;\n",
              "      display: none;\n",
              "      fill: #1967D2;\n",
              "      height: 32px;\n",
              "      padding: 0 0 0 0;\n",
              "      width: 32px;\n",
              "    }\n",
              "\n",
              "    .colab-df-convert:hover {\n",
              "      background-color: #E2EBFA;\n",
              "      box-shadow: 0px 1px 2px rgba(60, 64, 67, 0.3), 0px 1px 3px 1px rgba(60, 64, 67, 0.15);\n",
              "      fill: #174EA6;\n",
              "    }\n",
              "\n",
              "    .colab-df-buttons div {\n",
              "      margin-bottom: 4px;\n",
              "    }\n",
              "\n",
              "    [theme=dark] .colab-df-convert {\n",
              "      background-color: #3B4455;\n",
              "      fill: #D2E3FC;\n",
              "    }\n",
              "\n",
              "    [theme=dark] .colab-df-convert:hover {\n",
              "      background-color: #434B5C;\n",
              "      box-shadow: 0px 1px 3px 1px rgba(0, 0, 0, 0.15);\n",
              "      filter: drop-shadow(0px 1px 2px rgba(0, 0, 0, 0.3));\n",
              "      fill: #FFFFFF;\n",
              "    }\n",
              "  </style>\n",
              "\n",
              "    <script>\n",
              "      const buttonEl =\n",
              "        document.querySelector('#df-9d43dac5-d608-4a1f-b027-42b2f316ccbb button.colab-df-convert');\n",
              "      buttonEl.style.display =\n",
              "        google.colab.kernel.accessAllowed ? 'block' : 'none';\n",
              "\n",
              "      async function convertToInteractive(key) {\n",
              "        const element = document.querySelector('#df-9d43dac5-d608-4a1f-b027-42b2f316ccbb');\n",
              "        const dataTable =\n",
              "          await google.colab.kernel.invokeFunction('convertToInteractive',\n",
              "                                                    [key], {});\n",
              "        if (!dataTable) return;\n",
              "\n",
              "        const docLinkHtml = 'Like what you see? Visit the ' +\n",
              "          '<a target=\"_blank\" href=https://colab.research.google.com/notebooks/data_table.ipynb>data table notebook</a>'\n",
              "          + ' to learn more about interactive tables.';\n",
              "        element.innerHTML = '';\n",
              "        dataTable['output_type'] = 'display_data';\n",
              "        await google.colab.output.renderOutput(dataTable, element);\n",
              "        const docLink = document.createElement('div');\n",
              "        docLink.innerHTML = docLinkHtml;\n",
              "        element.appendChild(docLink);\n",
              "      }\n",
              "    </script>\n",
              "  </div>\n",
              "\n",
              "\n",
              "<div id=\"df-f4747a15-e25a-427e-93a4-ed481f404724\">\n",
              "  <button class=\"colab-df-quickchart\" onclick=\"quickchart('df-f4747a15-e25a-427e-93a4-ed481f404724')\"\n",
              "            title=\"Suggest charts\"\n",
              "            style=\"display:none;\">\n",
              "\n",
              "<svg xmlns=\"http://www.w3.org/2000/svg\" height=\"24px\"viewBox=\"0 0 24 24\"\n",
              "     width=\"24px\">\n",
              "    <g>\n",
              "        <path d=\"M19 3H5c-1.1 0-2 .9-2 2v14c0 1.1.9 2 2 2h14c1.1 0 2-.9 2-2V5c0-1.1-.9-2-2-2zM9 17H7v-7h2v7zm4 0h-2V7h2v10zm4 0h-2v-4h2v4z\"/>\n",
              "    </g>\n",
              "</svg>\n",
              "  </button>\n",
              "\n",
              "<style>\n",
              "  .colab-df-quickchart {\n",
              "      --bg-color: #E8F0FE;\n",
              "      --fill-color: #1967D2;\n",
              "      --hover-bg-color: #E2EBFA;\n",
              "      --hover-fill-color: #174EA6;\n",
              "      --disabled-fill-color: #AAA;\n",
              "      --disabled-bg-color: #DDD;\n",
              "  }\n",
              "\n",
              "  [theme=dark] .colab-df-quickchart {\n",
              "      --bg-color: #3B4455;\n",
              "      --fill-color: #D2E3FC;\n",
              "      --hover-bg-color: #434B5C;\n",
              "      --hover-fill-color: #FFFFFF;\n",
              "      --disabled-bg-color: #3B4455;\n",
              "      --disabled-fill-color: #666;\n",
              "  }\n",
              "\n",
              "  .colab-df-quickchart {\n",
              "    background-color: var(--bg-color);\n",
              "    border: none;\n",
              "    border-radius: 50%;\n",
              "    cursor: pointer;\n",
              "    display: none;\n",
              "    fill: var(--fill-color);\n",
              "    height: 32px;\n",
              "    padding: 0;\n",
              "    width: 32px;\n",
              "  }\n",
              "\n",
              "  .colab-df-quickchart:hover {\n",
              "    background-color: var(--hover-bg-color);\n",
              "    box-shadow: 0 1px 2px rgba(60, 64, 67, 0.3), 0 1px 3px 1px rgba(60, 64, 67, 0.15);\n",
              "    fill: var(--button-hover-fill-color);\n",
              "  }\n",
              "\n",
              "  .colab-df-quickchart-complete:disabled,\n",
              "  .colab-df-quickchart-complete:disabled:hover {\n",
              "    background-color: var(--disabled-bg-color);\n",
              "    fill: var(--disabled-fill-color);\n",
              "    box-shadow: none;\n",
              "  }\n",
              "\n",
              "  .colab-df-spinner {\n",
              "    border: 2px solid var(--fill-color);\n",
              "    border-color: transparent;\n",
              "    border-bottom-color: var(--fill-color);\n",
              "    animation:\n",
              "      spin 1s steps(1) infinite;\n",
              "  }\n",
              "\n",
              "  @keyframes spin {\n",
              "    0% {\n",
              "      border-color: transparent;\n",
              "      border-bottom-color: var(--fill-color);\n",
              "      border-left-color: var(--fill-color);\n",
              "    }\n",
              "    20% {\n",
              "      border-color: transparent;\n",
              "      border-left-color: var(--fill-color);\n",
              "      border-top-color: var(--fill-color);\n",
              "    }\n",
              "    30% {\n",
              "      border-color: transparent;\n",
              "      border-left-color: var(--fill-color);\n",
              "      border-top-color: var(--fill-color);\n",
              "      border-right-color: var(--fill-color);\n",
              "    }\n",
              "    40% {\n",
              "      border-color: transparent;\n",
              "      border-right-color: var(--fill-color);\n",
              "      border-top-color: var(--fill-color);\n",
              "    }\n",
              "    60% {\n",
              "      border-color: transparent;\n",
              "      border-right-color: var(--fill-color);\n",
              "    }\n",
              "    80% {\n",
              "      border-color: transparent;\n",
              "      border-right-color: var(--fill-color);\n",
              "      border-bottom-color: var(--fill-color);\n",
              "    }\n",
              "    90% {\n",
              "      border-color: transparent;\n",
              "      border-bottom-color: var(--fill-color);\n",
              "    }\n",
              "  }\n",
              "</style>\n",
              "\n",
              "  <script>\n",
              "    async function quickchart(key) {\n",
              "      const quickchartButtonEl =\n",
              "        document.querySelector('#' + key + ' button');\n",
              "      quickchartButtonEl.disabled = true;  // To prevent multiple clicks.\n",
              "      quickchartButtonEl.classList.add('colab-df-spinner');\n",
              "      try {\n",
              "        const charts = await google.colab.kernel.invokeFunction(\n",
              "            'suggestCharts', [key], {});\n",
              "      } catch (error) {\n",
              "        console.error('Error during call to suggestCharts:', error);\n",
              "      }\n",
              "      quickchartButtonEl.classList.remove('colab-df-spinner');\n",
              "      quickchartButtonEl.classList.add('colab-df-quickchart-complete');\n",
              "    }\n",
              "    (() => {\n",
              "      let quickchartButtonEl =\n",
              "        document.querySelector('#df-f4747a15-e25a-427e-93a4-ed481f404724 button');\n",
              "      quickchartButtonEl.style.display =\n",
              "        google.colab.kernel.accessAllowed ? 'block' : 'none';\n",
              "    })();\n",
              "  </script>\n",
              "</div>\n",
              "\n",
              "    </div>\n",
              "  </div>\n"
            ],
            "application/vnd.google.colaboratory.intrinsic+json": {
              "type": "dataframe",
              "variable_name": "X_test",
              "summary": "{\n  \"name\": \"X_test\",\n  \"rows\": 246,\n  \"fields\": [\n    {\n      \"column\": \"Month\",\n      \"properties\": {\n        \"dtype\": \"number\",\n        \"std\": 1.0134905169275887,\n        \"min\": -1.422643201047668,\n        \"max\": 1.620134253600973,\n        \"num_unique_values\": 12,\n        \"samples\": [\n          0.7902858568786164,\n          1.620134253600973,\n          0.2370535923970453\n        ],\n        \"semantic_type\": \"\",\n        \"description\": \"\"\n      }\n    },\n    {\n      \"column\": \"Hour\",\n      \"properties\": {\n        \"dtype\": \"number\",\n        \"std\": 1.023213106323275,\n        \"min\": -1.6701800622565206,\n        \"max\": 1.6755928394483588,\n        \"num_unique_values\": 24,\n        \"samples\": [\n          0.9482509042951242,\n          0.3663773561725364,\n          -1.2337749011645798\n        ],\n        \"semantic_type\": \"\",\n        \"description\": \"\"\n      }\n    },\n    {\n      \"column\": \"Temperature\",\n      \"properties\": {\n        \"dtype\": \"number\",\n        \"std\": 0.9699287037141734,\n        \"min\": -1.6091826425616438,\n        \"max\": 1.6428666224681698,\n        \"num_unique_values\": 223,\n        \"samples\": [\n          -0.6178364126178147,\n          -1.4734399469930188,\n          -0.526590994915893\n        ],\n        \"semantic_type\": \"\",\n        \"description\": \"\"\n      }\n    },\n    {\n      \"column\": \"Humidity\",\n      \"properties\": {\n        \"dtype\": \"number\",\n        \"std\": 0.9602386655064283,\n        \"min\": -1.7297752575078214,\n        \"max\": 1.5437564721160664,\n        \"num_unique_values\": 225,\n        \"samples\": [\n          -0.11761960874069695,\n          0.3988607520218546,\n          0.8747364185867775\n        ],\n        \"semantic_type\": \"\",\n        \"description\": \"\"\n      }\n    },\n    {\n      \"column\": \"SquareFootage\",\n      \"properties\": {\n        \"dtype\": \"number\",\n        \"std\": 1.0126256555820567,\n        \"min\": -1.7101965640322827,\n        \"max\": 1.648390383079741,\n        \"num_unique_values\": 230,\n        \"samples\": [\n          -1.1653237905947336,\n          -1.4238755824299019,\n          -0.8065948861778849\n        ],\n        \"semantic_type\": \"\",\n        \"description\": \"\"\n      }\n    },\n    {\n      \"column\": \"Occupancy\",\n      \"properties\": {\n        \"dtype\": \"number\",\n        \"std\": 1.048215493593856,\n        \"min\": -1.586437878622904,\n        \"max\": 1.5685028152469,\n        \"num_unique_values\": 10,\n        \"samples\": [\n          -1.2358889126373702,\n          -0.18424201468076887,\n          0.5168559172902987\n        ],\n        \"semantic_type\": \"\",\n        \"description\": \"\"\n      }\n    },\n    {\n      \"column\": \"RenewableEnergy\",\n      \"properties\": {\n        \"dtype\": \"number\",\n        \"std\": 1.0231805648354613,\n        \"min\": -1.6949195722945656,\n        \"max\": 1.5787570991320978,\n        \"num_unique_values\": 222,\n        \"samples\": [\n          1.1047517783270377,\n          -1.2899274167538504,\n          1.2785738833172453\n        ],\n        \"semantic_type\": \"\",\n        \"description\": \"\"\n      }\n    },\n    {\n      \"column\": \"DayOfWeek_Friday\",\n      \"properties\": {\n        \"dtype\": \"number\",\n        \"std\": 0.3581982084390621,\n        \"min\": 0.0,\n        \"max\": 1.0,\n        \"num_unique_values\": 2,\n        \"samples\": [\n          1.0,\n          0.0\n        ],\n        \"semantic_type\": \"\",\n        \"description\": \"\"\n      }\n    },\n    {\n      \"column\": \"DayOfWeek_Monday\",\n      \"properties\": {\n        \"dtype\": \"number\",\n        \"std\": 0.36213697544287093,\n        \"min\": 0.0,\n        \"max\": 1.0,\n        \"num_unique_values\": 2,\n        \"samples\": [\n          1.0,\n          0.0\n        ],\n        \"semantic_type\": \"\",\n        \"description\": \"\"\n      }\n    },\n    {\n      \"column\": \"DayOfWeek_Saturday\",\n      \"properties\": {\n        \"dtype\": \"number\",\n        \"std\": 0.3278965952897167,\n        \"min\": 0.0,\n        \"max\": 1.0,\n        \"num_unique_values\": 2,\n        \"samples\": [\n          1.0,\n          0.0\n        ],\n        \"semantic_type\": \"\",\n        \"description\": \"\"\n      }\n    },\n    {\n      \"column\": \"DayOfWeek_Sunday\",\n      \"properties\": {\n        \"dtype\": \"number\",\n        \"std\": 0.3770414814654272,\n        \"min\": 0.0,\n        \"max\": 1.0,\n        \"num_unique_values\": 2,\n        \"samples\": [\n          0.0,\n          1.0\n        ],\n        \"semantic_type\": \"\",\n        \"description\": \"\"\n      }\n    },\n    {\n      \"column\": \"DayOfWeek_Thursday\",\n      \"properties\": {\n        \"dtype\": \"number\",\n        \"std\": 0.35004562503352316,\n        \"min\": 0.0,\n        \"max\": 1.0,\n        \"num_unique_values\": 2,\n        \"samples\": [\n          1.0,\n          0.0\n        ],\n        \"semantic_type\": \"\",\n        \"description\": \"\"\n      }\n    },\n    {\n      \"column\": \"DayOfWeek_Tuesday\",\n      \"properties\": {\n        \"dtype\": \"number\",\n        \"std\": 0.34150429962158635,\n        \"min\": 0.0,\n        \"max\": 1.0,\n        \"num_unique_values\": 2,\n        \"samples\": [\n          1.0,\n          0.0\n        ],\n        \"semantic_type\": \"\",\n        \"description\": \"\"\n      }\n    },\n    {\n      \"column\": \"DayOfWeek_Wednesday\",\n      \"properties\": {\n        \"dtype\": \"number\",\n        \"std\": 0.3325442792978284,\n        \"min\": 0.0,\n        \"max\": 1.0,\n        \"num_unique_values\": 2,\n        \"samples\": [\n          1.0,\n          0.0\n        ],\n        \"semantic_type\": \"\",\n        \"description\": \"\"\n      }\n    },\n    {\n      \"column\": \"Holiday_No\",\n      \"properties\": {\n        \"dtype\": \"number\",\n        \"std\": 0.4977633731432444,\n        \"min\": 0.0,\n        \"max\": 1.0,\n        \"num_unique_values\": 2,\n        \"samples\": [\n          1.0,\n          0.0\n        ],\n        \"semantic_type\": \"\",\n        \"description\": \"\"\n      }\n    },\n    {\n      \"column\": \"Holiday_Yes\",\n      \"properties\": {\n        \"dtype\": \"number\",\n        \"std\": 0.4977633731432444,\n        \"min\": 0.0,\n        \"max\": 1.0,\n        \"num_unique_values\": 2,\n        \"samples\": [\n          0.0,\n          1.0\n        ],\n        \"semantic_type\": \"\",\n        \"description\": \"\"\n      }\n    },\n    {\n      \"column\": \"HVACUsage_Off\",\n      \"properties\": {\n        \"dtype\": \"number\",\n        \"std\": 0.4943517038520007,\n        \"min\": 0.0,\n        \"max\": 1.0,\n        \"num_unique_values\": 2,\n        \"samples\": [\n          0.0,\n          1.0\n        ],\n        \"semantic_type\": \"\",\n        \"description\": \"\"\n      }\n    },\n    {\n      \"column\": \"HVACUsage_On\",\n      \"properties\": {\n        \"dtype\": \"number\",\n        \"std\": 0.4943517038520007,\n        \"min\": 0.0,\n        \"max\": 1.0,\n        \"num_unique_values\": 2,\n        \"samples\": [\n          1.0,\n          0.0\n        ],\n        \"semantic_type\": \"\",\n        \"description\": \"\"\n      }\n    },\n    {\n      \"column\": \"LightingUsage_Off\",\n      \"properties\": {\n        \"dtype\": \"number\",\n        \"std\": 0.4999585182726292,\n        \"min\": 0.0,\n        \"max\": 1.0,\n        \"num_unique_values\": 2,\n        \"samples\": [\n          1.0,\n          0.0\n        ],\n        \"semantic_type\": \"\",\n        \"description\": \"\"\n      }\n    },\n    {\n      \"column\": \"LightingUsage_On\",\n      \"properties\": {\n        \"dtype\": \"number\",\n        \"std\": 0.4999585182726292,\n        \"min\": 0.0,\n        \"max\": 1.0,\n        \"num_unique_values\": 2,\n        \"samples\": [\n          0.0,\n          1.0\n        ],\n        \"semantic_type\": \"\",\n        \"description\": \"\"\n      }\n    }\n  ]\n}"
            }
          },
          "metadata": {},
          "execution_count": 267
        }
      ]
    },
    {
      "cell_type": "markdown",
      "source": [
        "Now that the data has fallen on similar range, let's make the models!"
      ],
      "metadata": {
        "id": "SZSz05Mmb3_U"
      }
    },
    {
      "cell_type": "markdown",
      "source": [
        "## b. Baseline Model\n",
        "There will be 2 baseline models: 1 sequential and 1 functional. All hidden layers will be using ReLU, as requested from the question. For starters, I will make the model as follows:\n",
        "\n",
        "**Sequential model**\\\n",
        "3 hidden layers, min. number of neurons: 2x20 = 40 (256 -> 128 -> 64)\n",
        "\n",
        "**Functional model**\\\n",
        "4 hidden layers, min. number of neurons: 2x20 = 40 (80 -> 68 -> 50 -> 40)\n",
        "\n",
        "---\n",
        "\n",
        "Before making the models, we need to make the **tensor data first** so it can be processed using tensorflow. The data will be split into **8 batches**, which means that for every epoch, the model will process 8 rows of the data and update the weights. Why 8 batches? Because the data that we have is very limited (only ~1200 rows), so training our model will a large batch may result to the model not learning enough! 😬\n",
        "\n",
        "To reduce the risk of overfitting, I will use **dropout layers** (10%). The value 10% is chosen because again, the data is very limited, so dropping out too many layers may result poorly."
      ],
      "metadata": {
        "id": "OtSmp42Zb_cP"
      }
    },
    {
      "cell_type": "code",
      "source": [
        "# Creating the tensor dataset\n",
        "train_ds = tf.data.Dataset.from_tensor_slices((X_train,y_train)).batch(8)\n",
        "test_ds = tf.data.Dataset.from_tensor_slices((X_test,y_test)).batch(8)\n",
        "val_ds = tf.data.Dataset.from_tensor_slices((X_val,y_val)).batch(8)"
      ],
      "metadata": {
        "id": "BBKOt4wMgKY0"
      },
      "execution_count": null,
      "outputs": []
    },
    {
      "cell_type": "markdown",
      "source": [
        "### Sequential model\n",
        "Three hidden layers will be used, each hidden layer satisfies the requirements to use relu as the activation function and the minimum number of neurons is > twice the input size. The output layer will use no activation function (linear), especially since we have performed Standard Scaler, so we want to maintain the result as is, and do inverse transform later to get the actual value."
      ],
      "metadata": {
        "id": "-Qo6_lQViBdB"
      }
    },
    {
      "cell_type": "code",
      "source": [
        "# Sequential model\n",
        "model_seq = tf.keras.Sequential([\n",
        "    Input(shape=(X_train.shape[1],)), # input layer with the size of X_train columns\n",
        "    Dense(256, activation=\"relu\"), # hidden layer 1\n",
        "    Dense(128, activation=\"relu\"), # hidden layer 2\n",
        "    Dense(64, activation=\"relu\"), # hidden layer 3\n",
        "    Dense(1, activation=\"sigmoid\") # output layer\n",
        "])\n",
        "model_seq.summary()"
      ],
      "metadata": {
        "colab": {
          "base_uri": "https://localhost:8080/",
          "height": 272
        },
        "id": "6AswCUXjgulD",
        "outputId": "03e44a05-77f9-4dc8-918f-d14c389a3660"
      },
      "execution_count": null,
      "outputs": [
        {
          "output_type": "display_data",
          "data": {
            "text/plain": [
              "\u001b[1mModel: \"sequential_1\"\u001b[0m\n"
            ],
            "text/html": [
              "<pre style=\"white-space:pre;overflow-x:auto;line-height:normal;font-family:Menlo,'DejaVu Sans Mono',consolas,'Courier New',monospace\"><span style=\"font-weight: bold\">Model: \"sequential_1\"</span>\n",
              "</pre>\n"
            ]
          },
          "metadata": {}
        },
        {
          "output_type": "display_data",
          "data": {
            "text/plain": [
              "┏━━━━━━━━━━━━━━━━━━━━━━━━━━━━━━━━━┳━━━━━━━━━━━━━━━━━━━━━━━━┳━━━━━━━━━━━━━━━┓\n",
              "┃\u001b[1m \u001b[0m\u001b[1mLayer (type)                   \u001b[0m\u001b[1m \u001b[0m┃\u001b[1m \u001b[0m\u001b[1mOutput Shape          \u001b[0m\u001b[1m \u001b[0m┃\u001b[1m \u001b[0m\u001b[1m      Param #\u001b[0m\u001b[1m \u001b[0m┃\n",
              "┡━━━━━━━━━━━━━━━━━━━━━━━━━━━━━━━━━╇━━━━━━━━━━━━━━━━━━━━━━━━╇━━━━━━━━━━━━━━━┩\n",
              "│ dense_4 (\u001b[38;5;33mDense\u001b[0m)                 │ (\u001b[38;5;45mNone\u001b[0m, \u001b[38;5;34m256\u001b[0m)            │         \u001b[38;5;34m5,376\u001b[0m │\n",
              "├─────────────────────────────────┼────────────────────────┼───────────────┤\n",
              "│ dense_5 (\u001b[38;5;33mDense\u001b[0m)                 │ (\u001b[38;5;45mNone\u001b[0m, \u001b[38;5;34m128\u001b[0m)            │        \u001b[38;5;34m32,896\u001b[0m │\n",
              "├─────────────────────────────────┼────────────────────────┼───────────────┤\n",
              "│ dense_6 (\u001b[38;5;33mDense\u001b[0m)                 │ (\u001b[38;5;45mNone\u001b[0m, \u001b[38;5;34m64\u001b[0m)             │         \u001b[38;5;34m8,256\u001b[0m │\n",
              "├─────────────────────────────────┼────────────────────────┼───────────────┤\n",
              "│ dense_7 (\u001b[38;5;33mDense\u001b[0m)                 │ (\u001b[38;5;45mNone\u001b[0m, \u001b[38;5;34m1\u001b[0m)              │            \u001b[38;5;34m65\u001b[0m │\n",
              "└─────────────────────────────────┴────────────────────────┴───────────────┘\n"
            ],
            "text/html": [
              "<pre style=\"white-space:pre;overflow-x:auto;line-height:normal;font-family:Menlo,'DejaVu Sans Mono',consolas,'Courier New',monospace\">┏━━━━━━━━━━━━━━━━━━━━━━━━━━━━━━━━━┳━━━━━━━━━━━━━━━━━━━━━━━━┳━━━━━━━━━━━━━━━┓\n",
              "┃<span style=\"font-weight: bold\"> Layer (type)                    </span>┃<span style=\"font-weight: bold\"> Output Shape           </span>┃<span style=\"font-weight: bold\">       Param # </span>┃\n",
              "┡━━━━━━━━━━━━━━━━━━━━━━━━━━━━━━━━━╇━━━━━━━━━━━━━━━━━━━━━━━━╇━━━━━━━━━━━━━━━┩\n",
              "│ dense_4 (<span style=\"color: #0087ff; text-decoration-color: #0087ff\">Dense</span>)                 │ (<span style=\"color: #00d7ff; text-decoration-color: #00d7ff\">None</span>, <span style=\"color: #00af00; text-decoration-color: #00af00\">256</span>)            │         <span style=\"color: #00af00; text-decoration-color: #00af00\">5,376</span> │\n",
              "├─────────────────────────────────┼────────────────────────┼───────────────┤\n",
              "│ dense_5 (<span style=\"color: #0087ff; text-decoration-color: #0087ff\">Dense</span>)                 │ (<span style=\"color: #00d7ff; text-decoration-color: #00d7ff\">None</span>, <span style=\"color: #00af00; text-decoration-color: #00af00\">128</span>)            │        <span style=\"color: #00af00; text-decoration-color: #00af00\">32,896</span> │\n",
              "├─────────────────────────────────┼────────────────────────┼───────────────┤\n",
              "│ dense_6 (<span style=\"color: #0087ff; text-decoration-color: #0087ff\">Dense</span>)                 │ (<span style=\"color: #00d7ff; text-decoration-color: #00d7ff\">None</span>, <span style=\"color: #00af00; text-decoration-color: #00af00\">64</span>)             │         <span style=\"color: #00af00; text-decoration-color: #00af00\">8,256</span> │\n",
              "├─────────────────────────────────┼────────────────────────┼───────────────┤\n",
              "│ dense_7 (<span style=\"color: #0087ff; text-decoration-color: #0087ff\">Dense</span>)                 │ (<span style=\"color: #00d7ff; text-decoration-color: #00d7ff\">None</span>, <span style=\"color: #00af00; text-decoration-color: #00af00\">1</span>)              │            <span style=\"color: #00af00; text-decoration-color: #00af00\">65</span> │\n",
              "└─────────────────────────────────┴────────────────────────┴───────────────┘\n",
              "</pre>\n"
            ]
          },
          "metadata": {}
        },
        {
          "output_type": "display_data",
          "data": {
            "text/plain": [
              "\u001b[1m Total params: \u001b[0m\u001b[38;5;34m46,593\u001b[0m (182.00 KB)\n"
            ],
            "text/html": [
              "<pre style=\"white-space:pre;overflow-x:auto;line-height:normal;font-family:Menlo,'DejaVu Sans Mono',consolas,'Courier New',monospace\"><span style=\"font-weight: bold\"> Total params: </span><span style=\"color: #00af00; text-decoration-color: #00af00\">46,593</span> (182.00 KB)\n",
              "</pre>\n"
            ]
          },
          "metadata": {}
        },
        {
          "output_type": "display_data",
          "data": {
            "text/plain": [
              "\u001b[1m Trainable params: \u001b[0m\u001b[38;5;34m46,593\u001b[0m (182.00 KB)\n"
            ],
            "text/html": [
              "<pre style=\"white-space:pre;overflow-x:auto;line-height:normal;font-family:Menlo,'DejaVu Sans Mono',consolas,'Courier New',monospace\"><span style=\"font-weight: bold\"> Trainable params: </span><span style=\"color: #00af00; text-decoration-color: #00af00\">46,593</span> (182.00 KB)\n",
              "</pre>\n"
            ]
          },
          "metadata": {}
        },
        {
          "output_type": "display_data",
          "data": {
            "text/plain": [
              "\u001b[1m Non-trainable params: \u001b[0m\u001b[38;5;34m0\u001b[0m (0.00 B)\n"
            ],
            "text/html": [
              "<pre style=\"white-space:pre;overflow-x:auto;line-height:normal;font-family:Menlo,'DejaVu Sans Mono',consolas,'Courier New',monospace\"><span style=\"font-weight: bold\"> Non-trainable params: </span><span style=\"color: #00af00; text-decoration-color: #00af00\">0</span> (0.00 B)\n",
              "</pre>\n"
            ]
          },
          "metadata": {}
        }
      ]
    },
    {
      "cell_type": "markdown",
      "source": [
        "### Functional model\n",
        "Four hidden layers will be used, each hidden layer satisfies the requirements to use relu as the activation function and the minimum number of neurons is > twice the input size. The output layer will use no activation function (linear), especially since we have performed Standard Scaler, so we want to maintain the result as is, and do inverse transform later to get the actual value."
      ],
      "metadata": {
        "id": "7Qc5zuo8jd91"
      }
    },
    {
      "cell_type": "code",
      "source": [
        "# Functional model\n",
        "inputs = Input(shape=(X_train.shape[1], )) # input layer\n",
        "x = Dense(80, activation='relu')(inputs) # hidden layer 1\n",
        "x = Dense(68, activation='relu')(x) # hidden layer 2\n",
        "x = Dense(50, activation='relu')(x) # hidden layer 3\n",
        "x = Dense(40, activation='relu')(x) # hidden layer 4\n",
        "outputs = Dense(1, activation='sigmoid')(x) # output layer\n",
        "\n",
        "model_func = Model(inputs, outputs)\n",
        "model_func.summary()"
      ],
      "metadata": {
        "colab": {
          "base_uri": "https://localhost:8080/",
          "height": 340
        },
        "id": "A-cM6WlCj7tj",
        "outputId": "6c2b6418-2193-4913-8d0e-fbfac82a3071"
      },
      "execution_count": null,
      "outputs": [
        {
          "output_type": "display_data",
          "data": {
            "text/plain": [
              "\u001b[1mModel: \"functional_2\"\u001b[0m\n"
            ],
            "text/html": [
              "<pre style=\"white-space:pre;overflow-x:auto;line-height:normal;font-family:Menlo,'DejaVu Sans Mono',consolas,'Courier New',monospace\"><span style=\"font-weight: bold\">Model: \"functional_2\"</span>\n",
              "</pre>\n"
            ]
          },
          "metadata": {}
        },
        {
          "output_type": "display_data",
          "data": {
            "text/plain": [
              "┏━━━━━━━━━━━━━━━━━━━━━━━━━━━━━━━━━┳━━━━━━━━━━━━━━━━━━━━━━━━┳━━━━━━━━━━━━━━━┓\n",
              "┃\u001b[1m \u001b[0m\u001b[1mLayer (type)                   \u001b[0m\u001b[1m \u001b[0m┃\u001b[1m \u001b[0m\u001b[1mOutput Shape          \u001b[0m\u001b[1m \u001b[0m┃\u001b[1m \u001b[0m\u001b[1m      Param #\u001b[0m\u001b[1m \u001b[0m┃\n",
              "┡━━━━━━━━━━━━━━━━━━━━━━━━━━━━━━━━━╇━━━━━━━━━━━━━━━━━━━━━━━━╇━━━━━━━━━━━━━━━┩\n",
              "│ input_layer_2 (\u001b[38;5;33mInputLayer\u001b[0m)      │ (\u001b[38;5;45mNone\u001b[0m, \u001b[38;5;34m20\u001b[0m)             │             \u001b[38;5;34m0\u001b[0m │\n",
              "├─────────────────────────────────┼────────────────────────┼───────────────┤\n",
              "│ dense_8 (\u001b[38;5;33mDense\u001b[0m)                 │ (\u001b[38;5;45mNone\u001b[0m, \u001b[38;5;34m80\u001b[0m)             │         \u001b[38;5;34m1,680\u001b[0m │\n",
              "├─────────────────────────────────┼────────────────────────┼───────────────┤\n",
              "│ dense_9 (\u001b[38;5;33mDense\u001b[0m)                 │ (\u001b[38;5;45mNone\u001b[0m, \u001b[38;5;34m68\u001b[0m)             │         \u001b[38;5;34m5,508\u001b[0m │\n",
              "├─────────────────────────────────┼────────────────────────┼───────────────┤\n",
              "│ dense_10 (\u001b[38;5;33mDense\u001b[0m)                │ (\u001b[38;5;45mNone\u001b[0m, \u001b[38;5;34m50\u001b[0m)             │         \u001b[38;5;34m3,450\u001b[0m │\n",
              "├─────────────────────────────────┼────────────────────────┼───────────────┤\n",
              "│ dense_11 (\u001b[38;5;33mDense\u001b[0m)                │ (\u001b[38;5;45mNone\u001b[0m, \u001b[38;5;34m40\u001b[0m)             │         \u001b[38;5;34m2,040\u001b[0m │\n",
              "├─────────────────────────────────┼────────────────────────┼───────────────┤\n",
              "│ dense_12 (\u001b[38;5;33mDense\u001b[0m)                │ (\u001b[38;5;45mNone\u001b[0m, \u001b[38;5;34m1\u001b[0m)              │            \u001b[38;5;34m41\u001b[0m │\n",
              "└─────────────────────────────────┴────────────────────────┴───────────────┘\n"
            ],
            "text/html": [
              "<pre style=\"white-space:pre;overflow-x:auto;line-height:normal;font-family:Menlo,'DejaVu Sans Mono',consolas,'Courier New',monospace\">┏━━━━━━━━━━━━━━━━━━━━━━━━━━━━━━━━━┳━━━━━━━━━━━━━━━━━━━━━━━━┳━━━━━━━━━━━━━━━┓\n",
              "┃<span style=\"font-weight: bold\"> Layer (type)                    </span>┃<span style=\"font-weight: bold\"> Output Shape           </span>┃<span style=\"font-weight: bold\">       Param # </span>┃\n",
              "┡━━━━━━━━━━━━━━━━━━━━━━━━━━━━━━━━━╇━━━━━━━━━━━━━━━━━━━━━━━━╇━━━━━━━━━━━━━━━┩\n",
              "│ input_layer_2 (<span style=\"color: #0087ff; text-decoration-color: #0087ff\">InputLayer</span>)      │ (<span style=\"color: #00d7ff; text-decoration-color: #00d7ff\">None</span>, <span style=\"color: #00af00; text-decoration-color: #00af00\">20</span>)             │             <span style=\"color: #00af00; text-decoration-color: #00af00\">0</span> │\n",
              "├─────────────────────────────────┼────────────────────────┼───────────────┤\n",
              "│ dense_8 (<span style=\"color: #0087ff; text-decoration-color: #0087ff\">Dense</span>)                 │ (<span style=\"color: #00d7ff; text-decoration-color: #00d7ff\">None</span>, <span style=\"color: #00af00; text-decoration-color: #00af00\">80</span>)             │         <span style=\"color: #00af00; text-decoration-color: #00af00\">1,680</span> │\n",
              "├─────────────────────────────────┼────────────────────────┼───────────────┤\n",
              "│ dense_9 (<span style=\"color: #0087ff; text-decoration-color: #0087ff\">Dense</span>)                 │ (<span style=\"color: #00d7ff; text-decoration-color: #00d7ff\">None</span>, <span style=\"color: #00af00; text-decoration-color: #00af00\">68</span>)             │         <span style=\"color: #00af00; text-decoration-color: #00af00\">5,508</span> │\n",
              "├─────────────────────────────────┼────────────────────────┼───────────────┤\n",
              "│ dense_10 (<span style=\"color: #0087ff; text-decoration-color: #0087ff\">Dense</span>)                │ (<span style=\"color: #00d7ff; text-decoration-color: #00d7ff\">None</span>, <span style=\"color: #00af00; text-decoration-color: #00af00\">50</span>)             │         <span style=\"color: #00af00; text-decoration-color: #00af00\">3,450</span> │\n",
              "├─────────────────────────────────┼────────────────────────┼───────────────┤\n",
              "│ dense_11 (<span style=\"color: #0087ff; text-decoration-color: #0087ff\">Dense</span>)                │ (<span style=\"color: #00d7ff; text-decoration-color: #00d7ff\">None</span>, <span style=\"color: #00af00; text-decoration-color: #00af00\">40</span>)             │         <span style=\"color: #00af00; text-decoration-color: #00af00\">2,040</span> │\n",
              "├─────────────────────────────────┼────────────────────────┼───────────────┤\n",
              "│ dense_12 (<span style=\"color: #0087ff; text-decoration-color: #0087ff\">Dense</span>)                │ (<span style=\"color: #00d7ff; text-decoration-color: #00d7ff\">None</span>, <span style=\"color: #00af00; text-decoration-color: #00af00\">1</span>)              │            <span style=\"color: #00af00; text-decoration-color: #00af00\">41</span> │\n",
              "└─────────────────────────────────┴────────────────────────┴───────────────┘\n",
              "</pre>\n"
            ]
          },
          "metadata": {}
        },
        {
          "output_type": "display_data",
          "data": {
            "text/plain": [
              "\u001b[1m Total params: \u001b[0m\u001b[38;5;34m12,719\u001b[0m (49.68 KB)\n"
            ],
            "text/html": [
              "<pre style=\"white-space:pre;overflow-x:auto;line-height:normal;font-family:Menlo,'DejaVu Sans Mono',consolas,'Courier New',monospace\"><span style=\"font-weight: bold\"> Total params: </span><span style=\"color: #00af00; text-decoration-color: #00af00\">12,719</span> (49.68 KB)\n",
              "</pre>\n"
            ]
          },
          "metadata": {}
        },
        {
          "output_type": "display_data",
          "data": {
            "text/plain": [
              "\u001b[1m Trainable params: \u001b[0m\u001b[38;5;34m12,719\u001b[0m (49.68 KB)\n"
            ],
            "text/html": [
              "<pre style=\"white-space:pre;overflow-x:auto;line-height:normal;font-family:Menlo,'DejaVu Sans Mono',consolas,'Courier New',monospace\"><span style=\"font-weight: bold\"> Trainable params: </span><span style=\"color: #00af00; text-decoration-color: #00af00\">12,719</span> (49.68 KB)\n",
              "</pre>\n"
            ]
          },
          "metadata": {}
        },
        {
          "output_type": "display_data",
          "data": {
            "text/plain": [
              "\u001b[1m Non-trainable params: \u001b[0m\u001b[38;5;34m0\u001b[0m (0.00 B)\n"
            ],
            "text/html": [
              "<pre style=\"white-space:pre;overflow-x:auto;line-height:normal;font-family:Menlo,'DejaVu Sans Mono',consolas,'Courier New',monospace\"><span style=\"font-weight: bold\"> Non-trainable params: </span><span style=\"color: #00af00; text-decoration-color: #00af00\">0</span> (0.00 B)\n",
              "</pre>\n"
            ]
          },
          "metadata": {}
        }
      ]
    },
    {
      "cell_type": "markdown",
      "source": [
        "### Model training\n",
        "Let's train the model and see the performance of both, comparing the number of layers and neurons as well! The metrics used will be Mean Absolute Error (MAE) and Root Mean Squared Error (RMSE), the standard performance metrics for Linear Regression."
      ],
      "metadata": {
        "id": "rKE50o-skkoU"
      }
    },
    {
      "cell_type": "code",
      "source": [
        "# Sequential model\n",
        "model_seq.compile(optimizer=tf.keras.optimizers.Adam(learning_rate=1e-5),\n",
        "                  loss=tf.keras.losses.MeanSquaredError(),\n",
        "                  metrics=[tf.keras.metrics.MeanAbsoluteError(),\n",
        "                           tf.keras.metrics.RootMeanSquaredError()])"
      ],
      "metadata": {
        "id": "cETxTZyZkpiz"
      },
      "execution_count": null,
      "outputs": []
    },
    {
      "cell_type": "code",
      "source": [
        "history_seq = model_seq.fit(train_ds, validation_data=val_ds, epochs = 30)"
      ],
      "metadata": {
        "colab": {
          "base_uri": "https://localhost:8080/"
        },
        "id": "qT8ZwVTflOTu",
        "outputId": "4880682d-3a20-4b3a-8615-989ee4912c8c"
      },
      "execution_count": null,
      "outputs": [
        {
          "output_type": "stream",
          "name": "stdout",
          "text": [
            "Epoch 1/30\n",
            "\u001b[1m108/108\u001b[0m \u001b[32m━━━━━━━━━━━━━━━━━━━━\u001b[0m\u001b[37m\u001b[0m \u001b[1m4s\u001b[0m 9ms/step - loss: 0.0401 - mean_absolute_error: 0.1597 - root_mean_squared_error: 0.2001 - val_loss: 0.0400 - val_mean_absolute_error: 0.1563 - val_root_mean_squared_error: 0.2001\n",
            "Epoch 2/30\n",
            "\u001b[1m108/108\u001b[0m \u001b[32m━━━━━━━━━━━━━━━━━━━━\u001b[0m\u001b[37m\u001b[0m \u001b[1m1s\u001b[0m 8ms/step - loss: 0.0380 - mean_absolute_error: 0.1555 - root_mean_squared_error: 0.1948 - val_loss: 0.0383 - val_mean_absolute_error: 0.1530 - val_root_mean_squared_error: 0.1958\n",
            "Epoch 3/30\n",
            "\u001b[1m108/108\u001b[0m \u001b[32m━━━━━━━━━━━━━━━━━━━━\u001b[0m\u001b[37m\u001b[0m \u001b[1m1s\u001b[0m 6ms/step - loss: 0.0364 - mean_absolute_error: 0.1526 - root_mean_squared_error: 0.1908 - val_loss: 0.0370 - val_mean_absolute_error: 0.1504 - val_root_mean_squared_error: 0.1925\n",
            "Epoch 4/30\n",
            "\u001b[1m108/108\u001b[0m \u001b[32m━━━━━━━━━━━━━━━━━━━━\u001b[0m\u001b[37m\u001b[0m \u001b[1m1s\u001b[0m 6ms/step - loss: 0.0352 - mean_absolute_error: 0.1502 - root_mean_squared_error: 0.1875 - val_loss: 0.0360 - val_mean_absolute_error: 0.1486 - val_root_mean_squared_error: 0.1897\n",
            "Epoch 5/30\n",
            "\u001b[1m108/108\u001b[0m \u001b[32m━━━━━━━━━━━━━━━━━━━━\u001b[0m\u001b[37m\u001b[0m \u001b[1m2s\u001b[0m 15ms/step - loss: 0.0341 - mean_absolute_error: 0.1481 - root_mean_squared_error: 0.1846 - val_loss: 0.0351 - val_mean_absolute_error: 0.1471 - val_root_mean_squared_error: 0.1874\n",
            "Epoch 6/30\n",
            "\u001b[1m108/108\u001b[0m \u001b[32m━━━━━━━━━━━━━━━━━━━━\u001b[0m\u001b[37m\u001b[0m \u001b[1m1s\u001b[0m 13ms/step - loss: 0.0332 - mean_absolute_error: 0.1462 - root_mean_squared_error: 0.1821 - val_loss: 0.0344 - val_mean_absolute_error: 0.1457 - val_root_mean_squared_error: 0.1854\n",
            "Epoch 7/30\n",
            "\u001b[1m108/108\u001b[0m \u001b[32m━━━━━━━━━━━━━━━━━━━━\u001b[0m\u001b[37m\u001b[0m \u001b[1m2s\u001b[0m 5ms/step - loss: 0.0323 - mean_absolute_error: 0.1444 - root_mean_squared_error: 0.1797 - val_loss: 0.0337 - val_mean_absolute_error: 0.1444 - val_root_mean_squared_error: 0.1836\n",
            "Epoch 8/30\n",
            "\u001b[1m108/108\u001b[0m \u001b[32m━━━━━━━━━━━━━━━━━━━━\u001b[0m\u001b[37m\u001b[0m \u001b[1m1s\u001b[0m 6ms/step - loss: 0.0316 - mean_absolute_error: 0.1428 - root_mean_squared_error: 0.1776 - val_loss: 0.0331 - val_mean_absolute_error: 0.1432 - val_root_mean_squared_error: 0.1820\n",
            "Epoch 9/30\n",
            "\u001b[1m108/108\u001b[0m \u001b[32m━━━━━━━━━━━━━━━━━━━━\u001b[0m\u001b[37m\u001b[0m \u001b[1m1s\u001b[0m 7ms/step - loss: 0.0309 - mean_absolute_error: 0.1413 - root_mean_squared_error: 0.1756 - val_loss: 0.0326 - val_mean_absolute_error: 0.1424 - val_root_mean_squared_error: 0.1806\n",
            "Epoch 10/30\n",
            "\u001b[1m108/108\u001b[0m \u001b[32m━━━━━━━━━━━━━━━━━━━━\u001b[0m\u001b[37m\u001b[0m \u001b[1m1s\u001b[0m 7ms/step - loss: 0.0302 - mean_absolute_error: 0.1398 - root_mean_squared_error: 0.1738 - val_loss: 0.0322 - val_mean_absolute_error: 0.1419 - val_root_mean_squared_error: 0.1794\n",
            "Epoch 11/30\n",
            "\u001b[1m108/108\u001b[0m \u001b[32m━━━━━━━━━━━━━━━━━━━━\u001b[0m\u001b[37m\u001b[0m \u001b[1m1s\u001b[0m 9ms/step - loss: 0.0296 - mean_absolute_error: 0.1384 - root_mean_squared_error: 0.1721 - val_loss: 0.0318 - val_mean_absolute_error: 0.1415 - val_root_mean_squared_error: 0.1783\n",
            "Epoch 12/30\n",
            "\u001b[1m108/108\u001b[0m \u001b[32m━━━━━━━━━━━━━━━━━━━━\u001b[0m\u001b[37m\u001b[0m \u001b[1m1s\u001b[0m 8ms/step - loss: 0.0291 - mean_absolute_error: 0.1371 - root_mean_squared_error: 0.1705 - val_loss: 0.0314 - val_mean_absolute_error: 0.1413 - val_root_mean_squared_error: 0.1773\n",
            "Epoch 13/30\n",
            "\u001b[1m108/108\u001b[0m \u001b[32m━━━━━━━━━━━━━━━━━━━━\u001b[0m\u001b[37m\u001b[0m \u001b[1m1s\u001b[0m 6ms/step - loss: 0.0286 - mean_absolute_error: 0.1359 - root_mean_squared_error: 0.1691 - val_loss: 0.0311 - val_mean_absolute_error: 0.1410 - val_root_mean_squared_error: 0.1764\n",
            "Epoch 14/30\n",
            "\u001b[1m108/108\u001b[0m \u001b[32m━━━━━━━━━━━━━━━━━━━━\u001b[0m\u001b[37m\u001b[0m \u001b[1m1s\u001b[0m 5ms/step - loss: 0.0282 - mean_absolute_error: 0.1348 - root_mean_squared_error: 0.1677 - val_loss: 0.0309 - val_mean_absolute_error: 0.1407 - val_root_mean_squared_error: 0.1757\n",
            "Epoch 15/30\n",
            "\u001b[1m108/108\u001b[0m \u001b[32m━━━━━━━━━━━━━━━━━━━━\u001b[0m\u001b[37m\u001b[0m \u001b[1m1s\u001b[0m 6ms/step - loss: 0.0278 - mean_absolute_error: 0.1338 - root_mean_squared_error: 0.1666 - val_loss: 0.0307 - val_mean_absolute_error: 0.1404 - val_root_mean_squared_error: 0.1751\n",
            "Epoch 16/30\n",
            "\u001b[1m108/108\u001b[0m \u001b[32m━━━━━━━━━━━━━━━━━━━━\u001b[0m\u001b[37m\u001b[0m \u001b[1m0s\u001b[0m 4ms/step - loss: 0.0274 - mean_absolute_error: 0.1330 - root_mean_squared_error: 0.1655 - val_loss: 0.0305 - val_mean_absolute_error: 0.1401 - val_root_mean_squared_error: 0.1746\n",
            "Epoch 17/30\n",
            "\u001b[1m108/108\u001b[0m \u001b[32m━━━━━━━━━━━━━━━━━━━━\u001b[0m\u001b[37m\u001b[0m \u001b[1m1s\u001b[0m 5ms/step - loss: 0.0271 - mean_absolute_error: 0.1322 - root_mean_squared_error: 0.1646 - val_loss: 0.0303 - val_mean_absolute_error: 0.1399 - val_root_mean_squared_error: 0.1742\n",
            "Epoch 18/30\n",
            "\u001b[1m108/108\u001b[0m \u001b[32m━━━━━━━━━━━━━━━━━━━━\u001b[0m\u001b[37m\u001b[0m \u001b[1m1s\u001b[0m 10ms/step - loss: 0.0268 - mean_absolute_error: 0.1314 - root_mean_squared_error: 0.1637 - val_loss: 0.0302 - val_mean_absolute_error: 0.1396 - val_root_mean_squared_error: 0.1738\n",
            "Epoch 19/30\n",
            "\u001b[1m108/108\u001b[0m \u001b[32m━━━━━━━━━━━━━━━━━━━━\u001b[0m\u001b[37m\u001b[0m \u001b[1m1s\u001b[0m 12ms/step - loss: 0.0266 - mean_absolute_error: 0.1308 - root_mean_squared_error: 0.1630 - val_loss: 0.0301 - val_mean_absolute_error: 0.1394 - val_root_mean_squared_error: 0.1735\n",
            "Epoch 20/30\n",
            "\u001b[1m108/108\u001b[0m \u001b[32m━━━━━━━━━━━━━━━━━━━━\u001b[0m\u001b[37m\u001b[0m \u001b[1m1s\u001b[0m 9ms/step - loss: 0.0264 - mean_absolute_error: 0.1302 - root_mean_squared_error: 0.1623 - val_loss: 0.0300 - val_mean_absolute_error: 0.1392 - val_root_mean_squared_error: 0.1732\n",
            "Epoch 21/30\n",
            "\u001b[1m108/108\u001b[0m \u001b[32m━━━━━━━━━━━━━━━━━━━━\u001b[0m\u001b[37m\u001b[0m \u001b[1m0s\u001b[0m 3ms/step - loss: 0.0262 - mean_absolute_error: 0.1297 - root_mean_squared_error: 0.1617 - val_loss: 0.0299 - val_mean_absolute_error: 0.1390 - val_root_mean_squared_error: 0.1730\n",
            "Epoch 22/30\n",
            "\u001b[1m108/108\u001b[0m \u001b[32m━━━━━━━━━━━━━━━━━━━━\u001b[0m\u001b[37m\u001b[0m \u001b[1m1s\u001b[0m 2ms/step - loss: 0.0260 - mean_absolute_error: 0.1292 - root_mean_squared_error: 0.1612 - val_loss: 0.0299 - val_mean_absolute_error: 0.1388 - val_root_mean_squared_error: 0.1729\n",
            "Epoch 23/30\n",
            "\u001b[1m108/108\u001b[0m \u001b[32m━━━━━━━━━━━━━━━━━━━━\u001b[0m\u001b[37m\u001b[0m \u001b[1m0s\u001b[0m 2ms/step - loss: 0.0258 - mean_absolute_error: 0.1287 - root_mean_squared_error: 0.1607 - val_loss: 0.0298 - val_mean_absolute_error: 0.1386 - val_root_mean_squared_error: 0.1727\n",
            "Epoch 24/30\n",
            "\u001b[1m108/108\u001b[0m \u001b[32m━━━━━━━━━━━━━━━━━━━━\u001b[0m\u001b[37m\u001b[0m \u001b[1m0s\u001b[0m 2ms/step - loss: 0.0257 - mean_absolute_error: 0.1282 - root_mean_squared_error: 0.1602 - val_loss: 0.0298 - val_mean_absolute_error: 0.1386 - val_root_mean_squared_error: 0.1726\n",
            "Epoch 25/30\n",
            "\u001b[1m108/108\u001b[0m \u001b[32m━━━━━━━━━━━━━━━━━━━━\u001b[0m\u001b[37m\u001b[0m \u001b[1m0s\u001b[0m 2ms/step - loss: 0.0255 - mean_absolute_error: 0.1278 - root_mean_squared_error: 0.1598 - val_loss: 0.0298 - val_mean_absolute_error: 0.1386 - val_root_mean_squared_error: 0.1725\n",
            "Epoch 26/30\n",
            "\u001b[1m108/108\u001b[0m \u001b[32m━━━━━━━━━━━━━━━━━━━━\u001b[0m\u001b[37m\u001b[0m \u001b[1m0s\u001b[0m 2ms/step - loss: 0.0254 - mean_absolute_error: 0.1274 - root_mean_squared_error: 0.1594 - val_loss: 0.0297 - val_mean_absolute_error: 0.1385 - val_root_mean_squared_error: 0.1724\n",
            "Epoch 27/30\n",
            "\u001b[1m108/108\u001b[0m \u001b[32m━━━━━━━━━━━━━━━━━━━━\u001b[0m\u001b[37m\u001b[0m \u001b[1m0s\u001b[0m 3ms/step - loss: 0.0253 - mean_absolute_error: 0.1270 - root_mean_squared_error: 0.1590 - val_loss: 0.0297 - val_mean_absolute_error: 0.1385 - val_root_mean_squared_error: 0.1723\n",
            "Epoch 28/30\n",
            "\u001b[1m108/108\u001b[0m \u001b[32m━━━━━━━━━━━━━━━━━━━━\u001b[0m\u001b[37m\u001b[0m \u001b[1m0s\u001b[0m 2ms/step - loss: 0.0252 - mean_absolute_error: 0.1266 - root_mean_squared_error: 0.1587 - val_loss: 0.0297 - val_mean_absolute_error: 0.1385 - val_root_mean_squared_error: 0.1723\n",
            "Epoch 29/30\n",
            "\u001b[1m108/108\u001b[0m \u001b[32m━━━━━━━━━━━━━━━━━━━━\u001b[0m\u001b[37m\u001b[0m \u001b[1m0s\u001b[0m 2ms/step - loss: 0.0251 - mean_absolute_error: 0.1263 - root_mean_squared_error: 0.1584 - val_loss: 0.0297 - val_mean_absolute_error: 0.1385 - val_root_mean_squared_error: 0.1722\n",
            "Epoch 30/30\n",
            "\u001b[1m108/108\u001b[0m \u001b[32m━━━━━━━━━━━━━━━━━━━━\u001b[0m\u001b[37m\u001b[0m \u001b[1m0s\u001b[0m 2ms/step - loss: 0.0250 - mean_absolute_error: 0.1259 - root_mean_squared_error: 0.1581 - val_loss: 0.0296 - val_mean_absolute_error: 0.1385 - val_root_mean_squared_error: 0.1722\n"
          ]
        }
      ]
    },
    {
      "cell_type": "code",
      "source": [
        "# Plot the loss\n",
        "train_loss = history_seq.history['loss']\n",
        "val_loss = history_seq.history['val_loss']\n",
        "plt.plot(train_loss,label=\"Train Loss\")\n",
        "plt.plot(val_loss,label='Val Loss')\n",
        "plt.xlabel(\"Epoch\")\n",
        "plt.ylabel(\"Loss\")\n",
        "plt.legend()\n",
        "plt.show()"
      ],
      "metadata": {
        "colab": {
          "base_uri": "https://localhost:8080/",
          "height": 449
        },
        "id": "OBVgL6bSlaec",
        "outputId": "417cd4a6-d183-4965-acfa-22dcbd1ca16f"
      },
      "execution_count": null,
      "outputs": [
        {
          "output_type": "display_data",
          "data": {
            "text/plain": [
              "<Figure size 640x480 with 1 Axes>"
            ],
            "image/png": "[encoded data removed]"
          },
          "metadata": {}
        }
      ]
    },
    {
      "cell_type": "markdown",
      "source": [
        "The loss plot indicates that both the train and val loss are gradually decreasing over epoch, which suggests that the model is learning. The lines converge soon and becomes parallel afterwards. This is due to the val loss that does not continue to improve, and this may suggest overfitting by a bit since the difference between val and train loss is not much."
      ],
      "metadata": {
        "id": "bpOiWWNIb5fz"
      }
    },
    {
      "cell_type": "code",
      "source": [
        "# Functional model\n",
        "model_func.compile(optimizer=tf.keras.optimizers.Adam(learning_rate=1e-5),\n",
        "                  loss=tf.keras.losses.MeanSquaredError(),\n",
        "                  metrics=[tf.keras.metrics.MeanAbsoluteError(),\n",
        "                           tf.keras.metrics.RootMeanSquaredError()])"
      ],
      "metadata": {
        "id": "CwY6rWzutaUu"
      },
      "execution_count": null,
      "outputs": []
    },
    {
      "cell_type": "code",
      "source": [
        "history_func = model_func.fit(train_ds, validation_data=val_ds, epochs = 30)"
      ],
      "metadata": {
        "colab": {
          "base_uri": "https://localhost:8080/"
        },
        "id": "grMjzNu3thgJ",
        "outputId": "e46cadf5-78fc-434a-8d99-5178128f7b68"
      },
      "execution_count": null,
      "outputs": [
        {
          "output_type": "stream",
          "name": "stdout",
          "text": [
            "Epoch 1/30\n",
            "\u001b[1m108/108\u001b[0m \u001b[32m━━━━━━━━━━━━━━━━━━━━\u001b[0m\u001b[37m\u001b[0m \u001b[1m2s\u001b[0m 4ms/step - loss: 0.0428 - mean_absolute_error: 0.1645 - root_mean_squared_error: 0.2069 - val_loss: 0.0426 - val_mean_absolute_error: 0.1610 - val_root_mean_squared_error: 0.2064\n",
            "Epoch 2/30\n",
            "\u001b[1m108/108\u001b[0m \u001b[32m━━━━━━━━━━━━━━━━━━━━\u001b[0m\u001b[37m\u001b[0m \u001b[1m0s\u001b[0m 3ms/step - loss: 0.0415 - mean_absolute_error: 0.1620 - root_mean_squared_error: 0.2037 - val_loss: 0.0414 - val_mean_absolute_error: 0.1585 - val_root_mean_squared_error: 0.2035\n",
            "Epoch 3/30\n",
            "\u001b[1m108/108\u001b[0m \u001b[32m━━━━━━━━━━━━━━━━━━━━\u001b[0m\u001b[37m\u001b[0m \u001b[1m1s\u001b[0m 2ms/step - loss: 0.0405 - mean_absolute_error: 0.1600 - root_mean_squared_error: 0.2011 - val_loss: 0.0404 - val_mean_absolute_error: 0.1565 - val_root_mean_squared_error: 0.2010\n",
            "Epoch 4/30\n",
            "\u001b[1m108/108\u001b[0m \u001b[32m━━━━━━━━━━━━━━━━━━━━\u001b[0m\u001b[37m\u001b[0m \u001b[1m0s\u001b[0m 2ms/step - loss: 0.0396 - mean_absolute_error: 0.1582 - root_mean_squared_error: 0.1989 - val_loss: 0.0396 - val_mean_absolute_error: 0.1549 - val_root_mean_squared_error: 0.1989\n",
            "Epoch 5/30\n",
            "\u001b[1m108/108\u001b[0m \u001b[32m━━━━━━━━━━━━━━━━━━━━\u001b[0m\u001b[37m\u001b[0m \u001b[1m0s\u001b[0m 2ms/step - loss: 0.0388 - mean_absolute_error: 0.1567 - root_mean_squared_error: 0.1969 - val_loss: 0.0389 - val_mean_absolute_error: 0.1536 - val_root_mean_squared_error: 0.1972\n",
            "Epoch 6/30\n",
            "\u001b[1m108/108\u001b[0m \u001b[32m━━━━━━━━━━━━━━━━━━━━\u001b[0m\u001b[37m\u001b[0m \u001b[1m0s\u001b[0m 2ms/step - loss: 0.0381 - mean_absolute_error: 0.1553 - root_mean_squared_error: 0.1951 - val_loss: 0.0383 - val_mean_absolute_error: 0.1525 - val_root_mean_squared_error: 0.1957\n",
            "Epoch 7/30\n",
            "\u001b[1m108/108\u001b[0m \u001b[32m━━━━━━━━━━━━━━━━━━━━\u001b[0m\u001b[37m\u001b[0m \u001b[1m0s\u001b[0m 2ms/step - loss: 0.0375 - mean_absolute_error: 0.1540 - root_mean_squared_error: 0.1935 - val_loss: 0.0378 - val_mean_absolute_error: 0.1516 - val_root_mean_squared_error: 0.1944\n",
            "Epoch 8/30\n",
            "\u001b[1m108/108\u001b[0m \u001b[32m━━━━━━━━━━━━━━━━━━━━\u001b[0m\u001b[37m\u001b[0m \u001b[1m0s\u001b[0m 2ms/step - loss: 0.0369 - mean_absolute_error: 0.1529 - root_mean_squared_error: 0.1921 - val_loss: 0.0373 - val_mean_absolute_error: 0.1508 - val_root_mean_squared_error: 0.1932\n",
            "Epoch 9/30\n",
            "\u001b[1m108/108\u001b[0m \u001b[32m━━━━━━━━━━━━━━━━━━━━\u001b[0m\u001b[37m\u001b[0m \u001b[1m0s\u001b[0m 2ms/step - loss: 0.0364 - mean_absolute_error: 0.1517 - root_mean_squared_error: 0.1906 - val_loss: 0.0369 - val_mean_absolute_error: 0.1502 - val_root_mean_squared_error: 0.1921\n",
            "Epoch 10/30\n",
            "\u001b[1m108/108\u001b[0m \u001b[32m━━━━━━━━━━━━━━━━━━━━\u001b[0m\u001b[37m\u001b[0m \u001b[1m0s\u001b[0m 3ms/step - loss: 0.0359 - mean_absolute_error: 0.1507 - root_mean_squared_error: 0.1893 - val_loss: 0.0365 - val_mean_absolute_error: 0.1495 - val_root_mean_squared_error: 0.1911\n",
            "Epoch 11/30\n",
            "\u001b[1m108/108\u001b[0m \u001b[32m━━━━━━━━━━━━━━━━━━━━\u001b[0m\u001b[37m\u001b[0m \u001b[1m0s\u001b[0m 2ms/step - loss: 0.0354 - mean_absolute_error: 0.1497 - root_mean_squared_error: 0.1881 - val_loss: 0.0362 - val_mean_absolute_error: 0.1490 - val_root_mean_squared_error: 0.1902\n",
            "Epoch 12/30\n",
            "\u001b[1m108/108\u001b[0m \u001b[32m━━━━━━━━━━━━━━━━━━━━\u001b[0m\u001b[37m\u001b[0m \u001b[1m0s\u001b[0m 2ms/step - loss: 0.0349 - mean_absolute_error: 0.1487 - root_mean_squared_error: 0.1869 - val_loss: 0.0359 - val_mean_absolute_error: 0.1484 - val_root_mean_squared_error: 0.1894\n",
            "Epoch 13/30\n",
            "\u001b[1m108/108\u001b[0m \u001b[32m━━━━━━━━━━━━━━━━━━━━\u001b[0m\u001b[37m\u001b[0m \u001b[1m0s\u001b[0m 2ms/step - loss: 0.0345 - mean_absolute_error: 0.1478 - root_mean_squared_error: 0.1857 - val_loss: 0.0356 - val_mean_absolute_error: 0.1480 - val_root_mean_squared_error: 0.1886\n",
            "Epoch 14/30\n",
            "\u001b[1m108/108\u001b[0m \u001b[32m━━━━━━━━━━━━━━━━━━━━\u001b[0m\u001b[37m\u001b[0m \u001b[1m0s\u001b[0m 2ms/step - loss: 0.0341 - mean_absolute_error: 0.1469 - root_mean_squared_error: 0.1846 - val_loss: 0.0353 - val_mean_absolute_error: 0.1476 - val_root_mean_squared_error: 0.1879\n",
            "Epoch 15/30\n",
            "\u001b[1m108/108\u001b[0m \u001b[32m━━━━━━━━━━━━━━━━━━━━\u001b[0m\u001b[37m\u001b[0m \u001b[1m0s\u001b[0m 3ms/step - loss: 0.0337 - mean_absolute_error: 0.1460 - root_mean_squared_error: 0.1835 - val_loss: 0.0350 - val_mean_absolute_error: 0.1471 - val_root_mean_squared_error: 0.1872\n",
            "Epoch 16/30\n",
            "\u001b[1m108/108\u001b[0m \u001b[32m━━━━━━━━━━━━━━━━━━━━\u001b[0m\u001b[37m\u001b[0m \u001b[1m0s\u001b[0m 3ms/step - loss: 0.0333 - mean_absolute_error: 0.1450 - root_mean_squared_error: 0.1825 - val_loss: 0.0348 - val_mean_absolute_error: 0.1466 - val_root_mean_squared_error: 0.1865\n",
            "Epoch 17/30\n",
            "\u001b[1m108/108\u001b[0m \u001b[32m━━━━━━━━━━━━━━━━━━━━\u001b[0m\u001b[37m\u001b[0m \u001b[1m0s\u001b[0m 5ms/step - loss: 0.0329 - mean_absolute_error: 0.1441 - root_mean_squared_error: 0.1814 - val_loss: 0.0345 - val_mean_absolute_error: 0.1462 - val_root_mean_squared_error: 0.1858\n",
            "Epoch 18/30\n",
            "\u001b[1m108/108\u001b[0m \u001b[32m━━━━━━━━━━━━━━━━━━━━\u001b[0m\u001b[37m\u001b[0m \u001b[1m0s\u001b[0m 4ms/step - loss: 0.0326 - mean_absolute_error: 0.1433 - root_mean_squared_error: 0.1804 - val_loss: 0.0343 - val_mean_absolute_error: 0.1457 - val_root_mean_squared_error: 0.1853\n",
            "Epoch 19/30\n",
            "\u001b[1m108/108\u001b[0m \u001b[32m━━━━━━━━━━━━━━━━━━━━\u001b[0m\u001b[37m\u001b[0m \u001b[1m1s\u001b[0m 4ms/step - loss: 0.0322 - mean_absolute_error: 0.1424 - root_mean_squared_error: 0.1794 - val_loss: 0.0341 - val_mean_absolute_error: 0.1453 - val_root_mean_squared_error: 0.1847\n",
            "Epoch 20/30\n",
            "\u001b[1m108/108\u001b[0m \u001b[32m━━━━━━━━━━━━━━━━━━━━\u001b[0m\u001b[37m\u001b[0m \u001b[1m1s\u001b[0m 4ms/step - loss: 0.0319 - mean_absolute_error: 0.1417 - root_mean_squared_error: 0.1784 - val_loss: 0.0339 - val_mean_absolute_error: 0.1449 - val_root_mean_squared_error: 0.1841\n",
            "Epoch 21/30\n",
            "\u001b[1m108/108\u001b[0m \u001b[32m━━━━━━━━━━━━━━━━━━━━\u001b[0m\u001b[37m\u001b[0m \u001b[1m0s\u001b[0m 4ms/step - loss: 0.0315 - mean_absolute_error: 0.1409 - root_mean_squared_error: 0.1775 - val_loss: 0.0337 - val_mean_absolute_error: 0.1444 - val_root_mean_squared_error: 0.1835\n",
            "Epoch 22/30\n",
            "\u001b[1m108/108\u001b[0m \u001b[32m━━━━━━━━━━━━━━━━━━━━\u001b[0m\u001b[37m\u001b[0m \u001b[1m0s\u001b[0m 3ms/step - loss: 0.0312 - mean_absolute_error: 0.1402 - root_mean_squared_error: 0.1766 - val_loss: 0.0335 - val_mean_absolute_error: 0.1440 - val_root_mean_squared_error: 0.1830\n",
            "Epoch 23/30\n",
            "\u001b[1m108/108\u001b[0m \u001b[32m━━━━━━━━━━━━━━━━━━━━\u001b[0m\u001b[37m\u001b[0m \u001b[1m0s\u001b[0m 3ms/step - loss: 0.0309 - mean_absolute_error: 0.1395 - root_mean_squared_error: 0.1757 - val_loss: 0.0333 - val_mean_absolute_error: 0.1437 - val_root_mean_squared_error: 0.1825\n",
            "Epoch 24/30\n",
            "\u001b[1m108/108\u001b[0m \u001b[32m━━━━━━━━━━━━━━━━━━━━\u001b[0m\u001b[37m\u001b[0m \u001b[1m0s\u001b[0m 2ms/step - loss: 0.0306 - mean_absolute_error: 0.1388 - root_mean_squared_error: 0.1748 - val_loss: 0.0331 - val_mean_absolute_error: 0.1434 - val_root_mean_squared_error: 0.1820\n",
            "Epoch 25/30\n",
            "\u001b[1m108/108\u001b[0m \u001b[32m━━━━━━━━━━━━━━━━━━━━\u001b[0m\u001b[37m\u001b[0m \u001b[1m0s\u001b[0m 2ms/step - loss: 0.0303 - mean_absolute_error: 0.1381 - root_mean_squared_error: 0.1739 - val_loss: 0.0329 - val_mean_absolute_error: 0.1432 - val_root_mean_squared_error: 0.1815\n",
            "Epoch 26/30\n",
            "\u001b[1m108/108\u001b[0m \u001b[32m━━━━━━━━━━━━━━━━━━━━\u001b[0m\u001b[37m\u001b[0m \u001b[1m0s\u001b[0m 2ms/step - loss: 0.0300 - mean_absolute_error: 0.1375 - root_mean_squared_error: 0.1731 - val_loss: 0.0328 - val_mean_absolute_error: 0.1429 - val_root_mean_squared_error: 0.1811\n",
            "Epoch 27/30\n",
            "\u001b[1m108/108\u001b[0m \u001b[32m━━━━━━━━━━━━━━━━━━━━\u001b[0m\u001b[37m\u001b[0m \u001b[1m0s\u001b[0m 2ms/step - loss: 0.0297 - mean_absolute_error: 0.1368 - root_mean_squared_error: 0.1723 - val_loss: 0.0326 - val_mean_absolute_error: 0.1426 - val_root_mean_squared_error: 0.1806\n",
            "Epoch 28/30\n",
            "\u001b[1m108/108\u001b[0m \u001b[32m━━━━━━━━━━━━━━━━━━━━\u001b[0m\u001b[37m\u001b[0m \u001b[1m0s\u001b[0m 3ms/step - loss: 0.0294 - mean_absolute_error: 0.1362 - root_mean_squared_error: 0.1715 - val_loss: 0.0325 - val_mean_absolute_error: 0.1424 - val_root_mean_squared_error: 0.1802\n",
            "Epoch 29/30\n",
            "\u001b[1m108/108\u001b[0m \u001b[32m━━━━━━━━━━━━━━━━━━━━\u001b[0m\u001b[37m\u001b[0m \u001b[1m0s\u001b[0m 3ms/step - loss: 0.0292 - mean_absolute_error: 0.1357 - root_mean_squared_error: 0.1708 - val_loss: 0.0323 - val_mean_absolute_error: 0.1422 - val_root_mean_squared_error: 0.1798\n",
            "Epoch 30/30\n",
            "\u001b[1m108/108\u001b[0m \u001b[32m━━━━━━━━━━━━━━━━━━━━\u001b[0m\u001b[37m\u001b[0m \u001b[1m0s\u001b[0m 2ms/step - loss: 0.0289 - mean_absolute_error: 0.1352 - root_mean_squared_error: 0.1700 - val_loss: 0.0322 - val_mean_absolute_error: 0.1420 - val_root_mean_squared_error: 0.1794\n"
          ]
        }
      ]
    },
    {
      "cell_type": "code",
      "source": [
        "# Plot the loss\n",
        "train_loss = history_func.history['loss']\n",
        "val_loss = history_func.history['val_loss']\n",
        "plt.plot(train_loss,label=\"Train Loss\")\n",
        "plt.plot(val_loss,label='Val Loss')\n",
        "plt.xlabel(\"Epoch\")\n",
        "plt.ylabel(\"Loss\")\n",
        "plt.legend()\n",
        "plt.show()"
      ],
      "metadata": {
        "colab": {
          "base_uri": "https://localhost:8080/",
          "height": 449
        },
        "id": "oiN-ZyIStmck",
        "outputId": "e0a8b692-741d-410f-a8fa-7c277a90a881"
      },
      "execution_count": null,
      "outputs": [
        {
          "output_type": "display_data",
          "data": {
            "text/plain": [
              "<Figure size 640x480 with 1 Axes>"
            ],
            "image/png": "[encoded data removed]"
          },
          "metadata": {}
        }
      ]
    },
    {
      "cell_type": "markdown",
      "source": [
        "The loss plot indicates that both the train and val loss are gradually decreasing over epoch, which suggests that the model is learning. However, the val loss seems to plateau at around 0.036, while the train loss continues to decline. This may suggest a hint of overfitting, where the model continues to improve for train data but stop improving for val data. However, the train and val loss difference is very small at around 0.002, indicating that the overfitting is minimal and should not be a big concern."
      ],
      "metadata": {
        "id": "MGrHfNWwcUxN"
      }
    },
    {
      "cell_type": "markdown",
      "source": [
        "## c. Model Modification\n",
        "Here, I will perform some modification to the model.\\\n",
        "**Sequential model**\n",
        "- **Finetune number of neurons (min. 40), LR (1e-4 to 1e-6), dropout (0.1 to 0.3) and epochs (max 30)** to see what parameters suit the model the best.\n",
        "\n",
        "**Functional model**\n",
        "- Try **LeakyReLU** as the activation function instead of ReLU because I have used StandardScaler for X variable -> negative values present. Instead of getting rid of all negative values, LeakyReLU will make the value very small but not zero. This will minimize the risk of dying neurons.\n",
        "- Use the **more number of neurons** (256, 128, 64) for comparison of bigger vs smaller neurons in limited data.\n",
        "- Apply **EarlyStopping** (patience=3) to stop the training when the loss does not improve after 3 consecutive epochs and **ReduceLROnPlateau** to adjust the learning rate whenever the loss is plateauing (or stable, not improving)."
      ],
      "metadata": {
        "id": "hSYErfcmdfOr"
      }
    },
    {
      "cell_type": "markdown",
      "source": [
        "### Sequential model fine tuning"
      ],
      "metadata": {
        "id": "X2eccMfd6k7_"
      }
    },
    {
      "cell_type": "code",
      "source": [
        "# Hyperparameter tuning\n",
        "def model_builder(hp):\n",
        "  # Tune the number of neurons\n",
        "  hp_units = hp.Int('units', min_value = 40, max_value = 64, step = 4)\n",
        "\n",
        "  # Same sequential model as above\n",
        "  model = tf.keras.Sequential([\n",
        "      Input(shape=(X_train.shape[1], )),\n",
        "      Dense(hp_units*4, activation='relu'),\n",
        "      Dropout(rate=hp.Float('dropout_rate', min_value=0.1, max_value=0.3, step=0.05)),\n",
        "      Dense(hp_units*2, activation='relu'),\n",
        "      Dropout(rate=hp.Float('dropout_rate', min_value=0.1, max_value=0.3, step=0.05)),\n",
        "      Dense(hp_units, activation='relu'),\n",
        "      Dropout(rate=hp.Float('dropout_rate', min_value=0.1, max_value=0.3, step=0.05)),\n",
        "      Dense(1, activation='sigmoid')\n",
        "  ])\n",
        "\n",
        "  # Tune learning rate\n",
        "  hp_learning_rate = hp.Choice('learning_rate', values=[1e-4, 1e-5, 1e-6])\n",
        "\n",
        "  model.compile(optimizer=tf.keras.optimizers.Adam(learning_rate=hp_learning_rate),\n",
        "                  loss=tf.keras.losses.MeanSquaredError(),\n",
        "                  metrics=[tf.keras.metrics.MeanAbsoluteError(),\n",
        "                           tf.keras.metrics.RootMeanSquaredError()])\n",
        "\n",
        "  return model"
      ],
      "metadata": {
        "id": "xAcv8wgh6kE7"
      },
      "execution_count": null,
      "outputs": []
    },
    {
      "cell_type": "code",
      "source": [
        "tuner = kt.Hyperband(model_builder,\n",
        "                     objective = 'val_loss',\n",
        "                     max_epochs = 30,\n",
        "                     factor = 3,\n",
        "                     directory = \"exp\",\n",
        "                     project_name = \"kt\")"
      ],
      "metadata": {
        "id": "USIusduS_5kk",
        "colab": {
          "base_uri": "https://localhost:8080/"
        },
        "outputId": "782ec9e0-02c1-48e2-88fd-6fef85bba4e4"
      },
      "execution_count": null,
      "outputs": [
        {
          "output_type": "stream",
          "name": "stdout",
          "text": [
            "Reloading Tuner from exp/kt/tuner0.json\n"
          ]
        }
      ]
    },
    {
      "cell_type": "code",
      "source": [
        "early_stopping = EarlyStopping(monitor = 'val_loss', patience = 3)\n",
        "tuner.search(X_train, y_train, epochs = 30, validation_data = (X_val, y_val), callbacks = [early_stopping])\n",
        "best_hps = tuner.get_best_hyperparameters(num_trials = 1)[0]"
      ],
      "metadata": {
        "id": "QQ7vdFa0AUYo"
      },
      "execution_count": null,
      "outputs": []
    },
    {
      "cell_type": "code",
      "source": [
        "best_hps.values"
      ],
      "metadata": {
        "colab": {
          "base_uri": "https://localhost:8080/"
        },
        "id": "jO6iYfSECzGQ",
        "outputId": "b4ccbeeb-a6f5-4007-c93f-92e853d81b32"
      },
      "execution_count": null,
      "outputs": [
        {
          "output_type": "execute_result",
          "data": {
            "text/plain": [
              "{'units': 56,\n",
              " 'dropout_rate': 0.25,\n",
              " 'learning_rate': 0.0001,\n",
              " 'tuner/epochs': 30,\n",
              " 'tuner/initial_epoch': 0,\n",
              " 'tuner/bracket': 0,\n",
              " 'tuner/round': 0}"
            ]
          },
          "metadata": {},
          "execution_count": 204
        }
      ]
    },
    {
      "cell_type": "markdown",
      "source": [
        "The fine-tuning result is to use 56 neurons (satisfies the requirement of min. 2xinput dim), so I will use 56, 112, and 224 neurons. I will add dropout layers (0.25) to drop 25% of the layers so it will be less prone to the risk of overfitting. The learning rate will be increased from 1e-6 to 1e-4, and the number of epoch is 30."
      ],
      "metadata": {
        "id": "D98vR9kfx_8a"
      }
    },
    {
      "cell_type": "code",
      "source": [
        "# Sequential model tuned\n",
        "model_seq_tuned = tf.keras.Sequential([\n",
        "      Input(shape=(X_train.shape[1], )),\n",
        "      Dense(56*4, activation='relu'),\n",
        "      Dropout(0.25),\n",
        "      Dense(56*2, activation='relu'),\n",
        "      Dropout(0.25),\n",
        "      Dense(56, activation='relu'),\n",
        "      Dropout(0.25),\n",
        "      Dense(1, activation='sigmoid')\n",
        "  ])"
      ],
      "metadata": {
        "id": "CViZ22PSDI7s"
      },
      "execution_count": null,
      "outputs": []
    },
    {
      "cell_type": "code",
      "source": [
        "model_seq_tuned.compile(optimizer=tf.keras.optimizers.Adam(learning_rate=1e-4),\n",
        "                  loss=tf.keras.losses.MeanSquaredError(),\n",
        "                  metrics=[tf.keras.metrics.MeanAbsoluteError(),\n",
        "                           tf.keras.metrics.RootMeanSquaredError()])"
      ],
      "metadata": {
        "id": "HD89xCcVC8y2"
      },
      "execution_count": null,
      "outputs": []
    },
    {
      "cell_type": "code",
      "source": [
        "history_seq_tuned = model_seq_tuned.fit(train_ds, validation_data=val_ds, epochs = 30, callbacks = [early_stopping])"
      ],
      "metadata": {
        "colab": {
          "base_uri": "https://localhost:8080/"
        },
        "id": "yzg1D1u1xz7a",
        "outputId": "4c03705f-002a-4cba-97e4-0225fd9c89d7"
      },
      "execution_count": null,
      "outputs": [
        {
          "output_type": "stream",
          "name": "stdout",
          "text": [
            "Epoch 1/30\n",
            "\u001b[1m108/108\u001b[0m \u001b[32m━━━━━━━━━━━━━━━━━━━━\u001b[0m\u001b[37m\u001b[0m \u001b[1m2s\u001b[0m 5ms/step - loss: 0.0457 - mean_absolute_error: 0.1708 - root_mean_squared_error: 0.2137 - val_loss: 0.0364 - val_mean_absolute_error: 0.1531 - val_root_mean_squared_error: 0.1907\n",
            "Epoch 2/30\n",
            "\u001b[1m108/108\u001b[0m \u001b[32m━━━━━━━━━━━━━━━━━━━━\u001b[0m\u001b[37m\u001b[0m \u001b[1m0s\u001b[0m 2ms/step - loss: 0.0377 - mean_absolute_error: 0.1557 - root_mean_squared_error: 0.1940 - val_loss: 0.0328 - val_mean_absolute_error: 0.1454 - val_root_mean_squared_error: 0.1812\n",
            "Epoch 3/30\n",
            "\u001b[1m108/108\u001b[0m \u001b[32m━━━━━━━━━━━━━━━━━━━━\u001b[0m\u001b[37m\u001b[0m \u001b[1m0s\u001b[0m 2ms/step - loss: 0.0348 - mean_absolute_error: 0.1499 - root_mean_squared_error: 0.1864 - val_loss: 0.0305 - val_mean_absolute_error: 0.1403 - val_root_mean_squared_error: 0.1748\n",
            "Epoch 4/30\n",
            "\u001b[1m108/108\u001b[0m \u001b[32m━━━━━━━━━━━━━━━━━━━━\u001b[0m\u001b[37m\u001b[0m \u001b[1m0s\u001b[0m 3ms/step - loss: 0.0329 - mean_absolute_error: 0.1438 - root_mean_squared_error: 0.1813 - val_loss: 0.0292 - val_mean_absolute_error: 0.1377 - val_root_mean_squared_error: 0.1708\n",
            "Epoch 5/30\n",
            "\u001b[1m108/108\u001b[0m \u001b[32m━━━━━━━━━━━━━━━━━━━━\u001b[0m\u001b[37m\u001b[0m \u001b[1m0s\u001b[0m 4ms/step - loss: 0.0317 - mean_absolute_error: 0.1410 - root_mean_squared_error: 0.1780 - val_loss: 0.0286 - val_mean_absolute_error: 0.1366 - val_root_mean_squared_error: 0.1692\n",
            "Epoch 6/30\n",
            "\u001b[1m108/108\u001b[0m \u001b[32m━━━━━━━━━━━━━━━━━━━━\u001b[0m\u001b[37m\u001b[0m \u001b[1m1s\u001b[0m 4ms/step - loss: 0.0294 - mean_absolute_error: 0.1358 - root_mean_squared_error: 0.1713 - val_loss: 0.0283 - val_mean_absolute_error: 0.1359 - val_root_mean_squared_error: 0.1682\n",
            "Epoch 7/30\n",
            "\u001b[1m108/108\u001b[0m \u001b[32m━━━━━━━━━━━━━━━━━━━━\u001b[0m\u001b[37m\u001b[0m \u001b[1m1s\u001b[0m 5ms/step - loss: 0.0287 - mean_absolute_error: 0.1347 - root_mean_squared_error: 0.1694 - val_loss: 0.0285 - val_mean_absolute_error: 0.1367 - val_root_mean_squared_error: 0.1689\n",
            "Epoch 8/30\n",
            "\u001b[1m108/108\u001b[0m \u001b[32m━━━━━━━━━━━━━━━━━━━━\u001b[0m\u001b[37m\u001b[0m \u001b[1m1s\u001b[0m 4ms/step - loss: 0.0277 - mean_absolute_error: 0.1305 - root_mean_squared_error: 0.1662 - val_loss: 0.0284 - val_mean_absolute_error: 0.1365 - val_root_mean_squared_error: 0.1685\n",
            "Epoch 9/30\n",
            "\u001b[1m108/108\u001b[0m \u001b[32m━━━━━━━━━━━━━━━━━━━━\u001b[0m\u001b[37m\u001b[0m \u001b[1m0s\u001b[0m 3ms/step - loss: 0.0272 - mean_absolute_error: 0.1322 - root_mean_squared_error: 0.1648 - val_loss: 0.0286 - val_mean_absolute_error: 0.1367 - val_root_mean_squared_error: 0.1692\n"
          ]
        }
      ]
    },
    {
      "cell_type": "code",
      "source": [
        "# Plot the loss\n",
        "train_loss = history_seq_tuned.history['loss']\n",
        "val_loss = history_seq_tuned.history['val_loss']\n",
        "plt.plot(train_loss,label=\"Train Loss\")\n",
        "plt.plot(val_loss,label='Val Loss')\n",
        "plt.xlabel(\"Epoch\")\n",
        "plt.ylabel(\"Loss\")\n",
        "plt.legend()\n",
        "plt.show()"
      ],
      "metadata": {
        "colab": {
          "base_uri": "https://localhost:8080/",
          "height": 450
        },
        "id": "N2jZD0PLy_SU",
        "outputId": "8edc7d73-d93d-4a6a-b880-479406380b26"
      },
      "execution_count": null,
      "outputs": [
        {
          "output_type": "display_data",
          "data": {
            "text/plain": [
              "<Figure size 640x480 with 1 Axes>"
            ],
            "image/png": "[encoded data removed]"
          },
          "metadata": {}
        }
      ]
    },
    {
      "cell_type": "markdown",
      "source": [
        "On this plot, it is seen that both the val and train loss are decreasing over time, which suggests that the model is learning well. We can see that on the 7th epoch, the two lines converge, and the iteration stops early on the 8th epoch because the loss does not improve after 3 consecutive epochs. Compared to the baseline model, the loss is about the same (drops to around 0.028, with the baseline model has slightly lower loss). The baseline model shows slight overfitting, while this model has minimal overfitting, because the epoch stops early, thanks to the callback function! The gap between val and train loss is smaller too in this plot compared to the baseline model."
      ],
      "metadata": {
        "id": "LUaPsPOazJ4o"
      }
    },
    {
      "cell_type": "markdown",
      "source": [
        "### Functional model modification"
      ],
      "metadata": {
        "id": "CCQnMZvB0oHP"
      }
    },
    {
      "cell_type": "code",
      "source": [
        "# # Clear session when re-running cells so the model won't remember the previous learning\n",
        "# K.clear_session()\n",
        "# gc.collect()"
      ],
      "metadata": {
        "colab": {
          "base_uri": "https://localhost:8080/"
        },
        "id": "bjhtFRQ28BDo",
        "outputId": "b624232f-9343-4c39-b129-d268eeb70f8d"
      },
      "execution_count": null,
      "outputs": [
        {
          "output_type": "execute_result",
          "data": {
            "text/plain": [
              "4473"
            ]
          },
          "metadata": {},
          "execution_count": 209
        }
      ]
    },
    {
      "cell_type": "code",
      "source": [
        "# Functional model modification\n",
        "inputs = Input(shape=(X_train.shape[1], )) # input layer\n",
        "x = Dense(256)(inputs)\n",
        "x = LeakyReLU()(x) # hidden layer 1\n",
        "x = Dense(128)(x)\n",
        "x = LeakyReLU()(x) # hidden layer 2\n",
        "x = Dense(64)(x)\n",
        "x = LeakyReLU()(x) # hidden layer 3\n",
        "# x = Dense(64)(x)\n",
        "# x = LeakyReLU()(x) # hidden layer 4\n",
        "outputs = Dense(1)(x) # output layer\n",
        "\n",
        "model_func_tuned = Model(inputs, outputs)\n",
        "model_func_tuned.summary()"
      ],
      "metadata": {
        "colab": {
          "base_uri": "https://localhost:8080/",
          "height": 408
        },
        "id": "jT08dzkR0sMz",
        "outputId": "0f5f23f1-87a4-4b8d-e082-c77526efe90d"
      },
      "execution_count": null,
      "outputs": [
        {
          "output_type": "display_data",
          "data": {
            "text/plain": [
              "\u001b[1mModel: \"functional_4\"\u001b[0m\n"
            ],
            "text/html": [
              "<pre style=\"white-space:pre;overflow-x:auto;line-height:normal;font-family:Menlo,'DejaVu Sans Mono',consolas,'Courier New',monospace\"><span style=\"font-weight: bold\">Model: \"functional_4\"</span>\n",
              "</pre>\n"
            ]
          },
          "metadata": {}
        },
        {
          "output_type": "display_data",
          "data": {
            "text/plain": [
              "┏━━━━━━━━━━━━━━━━━━━━━━━━━━━━━━━━━┳━━━━━━━━━━━━━━━━━━━━━━━━┳━━━━━━━━━━━━━━━┓\n",
              "┃\u001b[1m \u001b[0m\u001b[1mLayer (type)                   \u001b[0m\u001b[1m \u001b[0m┃\u001b[1m \u001b[0m\u001b[1mOutput Shape          \u001b[0m\u001b[1m \u001b[0m┃\u001b[1m \u001b[0m\u001b[1m      Param #\u001b[0m\u001b[1m \u001b[0m┃\n",
              "┡━━━━━━━━━━━━━━━━━━━━━━━━━━━━━━━━━╇━━━━━━━━━━━━━━━━━━━━━━━━╇━━━━━━━━━━━━━━━┩\n",
              "│ input_layer_4 (\u001b[38;5;33mInputLayer\u001b[0m)      │ (\u001b[38;5;45mNone\u001b[0m, \u001b[38;5;34m20\u001b[0m)             │             \u001b[38;5;34m0\u001b[0m │\n",
              "├─────────────────────────────────┼────────────────────────┼───────────────┤\n",
              "│ dense_17 (\u001b[38;5;33mDense\u001b[0m)                │ (\u001b[38;5;45mNone\u001b[0m, \u001b[38;5;34m256\u001b[0m)            │         \u001b[38;5;34m5,376\u001b[0m │\n",
              "├─────────────────────────────────┼────────────────────────┼───────────────┤\n",
              "│ leaky_re_lu (\u001b[38;5;33mLeakyReLU\u001b[0m)         │ (\u001b[38;5;45mNone\u001b[0m, \u001b[38;5;34m256\u001b[0m)            │             \u001b[38;5;34m0\u001b[0m │\n",
              "├─────────────────────────────────┼────────────────────────┼───────────────┤\n",
              "│ dense_18 (\u001b[38;5;33mDense\u001b[0m)                │ (\u001b[38;5;45mNone\u001b[0m, \u001b[38;5;34m128\u001b[0m)            │        \u001b[38;5;34m32,896\u001b[0m │\n",
              "├─────────────────────────────────┼────────────────────────┼───────────────┤\n",
              "│ leaky_re_lu_1 (\u001b[38;5;33mLeakyReLU\u001b[0m)       │ (\u001b[38;5;45mNone\u001b[0m, \u001b[38;5;34m128\u001b[0m)            │             \u001b[38;5;34m0\u001b[0m │\n",
              "├─────────────────────────────────┼────────────────────────┼───────────────┤\n",
              "│ dense_19 (\u001b[38;5;33mDense\u001b[0m)                │ (\u001b[38;5;45mNone\u001b[0m, \u001b[38;5;34m64\u001b[0m)             │         \u001b[38;5;34m8,256\u001b[0m │\n",
              "├─────────────────────────────────┼────────────────────────┼───────────────┤\n",
              "│ leaky_re_lu_2 (\u001b[38;5;33mLeakyReLU\u001b[0m)       │ (\u001b[38;5;45mNone\u001b[0m, \u001b[38;5;34m64\u001b[0m)             │             \u001b[38;5;34m0\u001b[0m │\n",
              "├─────────────────────────────────┼────────────────────────┼───────────────┤\n",
              "│ dense_20 (\u001b[38;5;33mDense\u001b[0m)                │ (\u001b[38;5;45mNone\u001b[0m, \u001b[38;5;34m1\u001b[0m)              │            \u001b[38;5;34m65\u001b[0m │\n",
              "└─────────────────────────────────┴────────────────────────┴───────────────┘\n"
            ],
            "text/html": [
              "<pre style=\"white-space:pre;overflow-x:auto;line-height:normal;font-family:Menlo,'DejaVu Sans Mono',consolas,'Courier New',monospace\">┏━━━━━━━━━━━━━━━━━━━━━━━━━━━━━━━━━┳━━━━━━━━━━━━━━━━━━━━━━━━┳━━━━━━━━━━━━━━━┓\n",
              "┃<span style=\"font-weight: bold\"> Layer (type)                    </span>┃<span style=\"font-weight: bold\"> Output Shape           </span>┃<span style=\"font-weight: bold\">       Param # </span>┃\n",
              "┡━━━━━━━━━━━━━━━━━━━━━━━━━━━━━━━━━╇━━━━━━━━━━━━━━━━━━━━━━━━╇━━━━━━━━━━━━━━━┩\n",
              "│ input_layer_4 (<span style=\"color: #0087ff; text-decoration-color: #0087ff\">InputLayer</span>)      │ (<span style=\"color: #00d7ff; text-decoration-color: #00d7ff\">None</span>, <span style=\"color: #00af00; text-decoration-color: #00af00\">20</span>)             │             <span style=\"color: #00af00; text-decoration-color: #00af00\">0</span> │\n",
              "├─────────────────────────────────┼────────────────────────┼───────────────┤\n",
              "│ dense_17 (<span style=\"color: #0087ff; text-decoration-color: #0087ff\">Dense</span>)                │ (<span style=\"color: #00d7ff; text-decoration-color: #00d7ff\">None</span>, <span style=\"color: #00af00; text-decoration-color: #00af00\">256</span>)            │         <span style=\"color: #00af00; text-decoration-color: #00af00\">5,376</span> │\n",
              "├─────────────────────────────────┼────────────────────────┼───────────────┤\n",
              "│ leaky_re_lu (<span style=\"color: #0087ff; text-decoration-color: #0087ff\">LeakyReLU</span>)         │ (<span style=\"color: #00d7ff; text-decoration-color: #00d7ff\">None</span>, <span style=\"color: #00af00; text-decoration-color: #00af00\">256</span>)            │             <span style=\"color: #00af00; text-decoration-color: #00af00\">0</span> │\n",
              "├─────────────────────────────────┼────────────────────────┼───────────────┤\n",
              "│ dense_18 (<span style=\"color: #0087ff; text-decoration-color: #0087ff\">Dense</span>)                │ (<span style=\"color: #00d7ff; text-decoration-color: #00d7ff\">None</span>, <span style=\"color: #00af00; text-decoration-color: #00af00\">128</span>)            │        <span style=\"color: #00af00; text-decoration-color: #00af00\">32,896</span> │\n",
              "├─────────────────────────────────┼────────────────────────┼───────────────┤\n",
              "│ leaky_re_lu_1 (<span style=\"color: #0087ff; text-decoration-color: #0087ff\">LeakyReLU</span>)       │ (<span style=\"color: #00d7ff; text-decoration-color: #00d7ff\">None</span>, <span style=\"color: #00af00; text-decoration-color: #00af00\">128</span>)            │             <span style=\"color: #00af00; text-decoration-color: #00af00\">0</span> │\n",
              "├─────────────────────────────────┼────────────────────────┼───────────────┤\n",
              "│ dense_19 (<span style=\"color: #0087ff; text-decoration-color: #0087ff\">Dense</span>)                │ (<span style=\"color: #00d7ff; text-decoration-color: #00d7ff\">None</span>, <span style=\"color: #00af00; text-decoration-color: #00af00\">64</span>)             │         <span style=\"color: #00af00; text-decoration-color: #00af00\">8,256</span> │\n",
              "├─────────────────────────────────┼────────────────────────┼───────────────┤\n",
              "│ leaky_re_lu_2 (<span style=\"color: #0087ff; text-decoration-color: #0087ff\">LeakyReLU</span>)       │ (<span style=\"color: #00d7ff; text-decoration-color: #00d7ff\">None</span>, <span style=\"color: #00af00; text-decoration-color: #00af00\">64</span>)             │             <span style=\"color: #00af00; text-decoration-color: #00af00\">0</span> │\n",
              "├─────────────────────────────────┼────────────────────────┼───────────────┤\n",
              "│ dense_20 (<span style=\"color: #0087ff; text-decoration-color: #0087ff\">Dense</span>)                │ (<span style=\"color: #00d7ff; text-decoration-color: #00d7ff\">None</span>, <span style=\"color: #00af00; text-decoration-color: #00af00\">1</span>)              │            <span style=\"color: #00af00; text-decoration-color: #00af00\">65</span> │\n",
              "└─────────────────────────────────┴────────────────────────┴───────────────┘\n",
              "</pre>\n"
            ]
          },
          "metadata": {}
        },
        {
          "output_type": "display_data",
          "data": {
            "text/plain": [
              "\u001b[1m Total params: \u001b[0m\u001b[38;5;34m46,593\u001b[0m (182.00 KB)\n"
            ],
            "text/html": [
              "<pre style=\"white-space:pre;overflow-x:auto;line-height:normal;font-family:Menlo,'DejaVu Sans Mono',consolas,'Courier New',monospace\"><span style=\"font-weight: bold\"> Total params: </span><span style=\"color: #00af00; text-decoration-color: #00af00\">46,593</span> (182.00 KB)\n",
              "</pre>\n"
            ]
          },
          "metadata": {}
        },
        {
          "output_type": "display_data",
          "data": {
            "text/plain": [
              "\u001b[1m Trainable params: \u001b[0m\u001b[38;5;34m46,593\u001b[0m (182.00 KB)\n"
            ],
            "text/html": [
              "<pre style=\"white-space:pre;overflow-x:auto;line-height:normal;font-family:Menlo,'DejaVu Sans Mono',consolas,'Courier New',monospace\"><span style=\"font-weight: bold\"> Trainable params: </span><span style=\"color: #00af00; text-decoration-color: #00af00\">46,593</span> (182.00 KB)\n",
              "</pre>\n"
            ]
          },
          "metadata": {}
        },
        {
          "output_type": "display_data",
          "data": {
            "text/plain": [
              "\u001b[1m Non-trainable params: \u001b[0m\u001b[38;5;34m0\u001b[0m (0.00 B)\n"
            ],
            "text/html": [
              "<pre style=\"white-space:pre;overflow-x:auto;line-height:normal;font-family:Menlo,'DejaVu Sans Mono',consolas,'Courier New',monospace\"><span style=\"font-weight: bold\"> Non-trainable params: </span><span style=\"color: #00af00; text-decoration-color: #00af00\">0</span> (0.00 B)\n",
              "</pre>\n"
            ]
          },
          "metadata": {}
        }
      ]
    },
    {
      "cell_type": "code",
      "source": [
        "model_func_tuned.compile(optimizer=tf.keras.optimizers.Adam(learning_rate=1e-6),\n",
        "                  loss=tf.keras.losses.MeanSquaredError(),\n",
        "                  metrics=[tf.keras.metrics.MeanAbsoluteError(),\n",
        "                           tf.keras.metrics.RootMeanSquaredError()])"
      ],
      "metadata": {
        "id": "PDfC-fvG2C4i"
      },
      "execution_count": null,
      "outputs": []
    },
    {
      "cell_type": "code",
      "source": [
        "# Initialize ReduceLROnPlateau to adjust learning rate\n",
        "reduce_lr = ReduceLROnPlateau(monitor='val_loss', factor=0.5, patience=3, verbose=1)"
      ],
      "metadata": {
        "id": "xvem3cQ92ibB"
      },
      "execution_count": null,
      "outputs": []
    },
    {
      "cell_type": "code",
      "source": [
        "history_func_tuned = model_func_tuned.fit(train_ds, validation_data=val_ds, epochs = 50, callbacks = [early_stopping, reduce_lr])"
      ],
      "metadata": {
        "colab": {
          "base_uri": "https://localhost:8080/"
        },
        "id": "bHKhOEZs2b3n",
        "outputId": "bc7c66bd-435a-4555-e506-fc3f9b2f78b8"
      },
      "execution_count": null,
      "outputs": [
        {
          "output_type": "stream",
          "name": "stdout",
          "text": [
            "Epoch 1/50\n",
            "\u001b[1m108/108\u001b[0m \u001b[32m━━━━━━━━━━━━━━━━━━━━\u001b[0m\u001b[37m\u001b[0m \u001b[1m2s\u001b[0m 4ms/step - loss: 0.3460 - mean_absolute_error: 0.5301 - root_mean_squared_error: 0.5880 - val_loss: 0.3328 - val_mean_absolute_error: 0.5210 - val_root_mean_squared_error: 0.5769 - learning_rate: 1.0000e-06\n",
            "Epoch 2/50\n",
            "\u001b[1m108/108\u001b[0m \u001b[32m━━━━━━━━━━━━━━━━━━━━\u001b[0m\u001b[37m\u001b[0m \u001b[1m0s\u001b[0m 2ms/step - loss: 0.3242 - mean_absolute_error: 0.5101 - root_mean_squared_error: 0.5692 - val_loss: 0.3121 - val_mean_absolute_error: 0.5012 - val_root_mean_squared_error: 0.5587 - learning_rate: 1.0000e-06\n",
            "Epoch 3/50\n",
            "\u001b[1m108/108\u001b[0m \u001b[32m━━━━━━━━━━━━━━━━━━━━\u001b[0m\u001b[37m\u001b[0m \u001b[1m0s\u001b[0m 3ms/step - loss: 0.3036 - mean_absolute_error: 0.4909 - root_mean_squared_error: 0.5509 - val_loss: 0.2926 - val_mean_absolute_error: 0.4821 - val_root_mean_squared_error: 0.5409 - learning_rate: 1.0000e-06\n",
            "Epoch 4/50\n",
            "\u001b[1m108/108\u001b[0m \u001b[32m━━━━━━━━━━━━━━━━━━━━\u001b[0m\u001b[37m\u001b[0m \u001b[1m0s\u001b[0m 3ms/step - loss: 0.2843 - mean_absolute_error: 0.4722 - root_mean_squared_error: 0.5330 - val_loss: 0.2743 - val_mean_absolute_error: 0.4637 - val_root_mean_squared_error: 0.5237 - learning_rate: 1.0000e-06\n",
            "Epoch 5/50\n",
            "\u001b[1m108/108\u001b[0m \u001b[32m━━━━━━━━━━━━━━━━━━━━\u001b[0m\u001b[37m\u001b[0m \u001b[1m0s\u001b[0m 2ms/step - loss: 0.2661 - mean_absolute_error: 0.4541 - root_mean_squared_error: 0.5157 - val_loss: 0.2570 - val_mean_absolute_error: 0.4460 - val_root_mean_squared_error: 0.5070 - learning_rate: 1.0000e-06\n",
            "Epoch 6/50\n",
            "\u001b[1m108/108\u001b[0m \u001b[32m━━━━━━━━━━━━━━━━━━━━\u001b[0m\u001b[37m\u001b[0m \u001b[1m0s\u001b[0m 3ms/step - loss: 0.2491 - mean_absolute_error: 0.4366 - root_mean_squared_error: 0.4989 - val_loss: 0.2408 - val_mean_absolute_error: 0.4290 - val_root_mean_squared_error: 0.4908 - learning_rate: 1.0000e-06\n",
            "Epoch 7/50\n",
            "\u001b[1m108/108\u001b[0m \u001b[32m━━━━━━━━━━━━━━━━━━━━\u001b[0m\u001b[37m\u001b[0m \u001b[1m0s\u001b[0m 3ms/step - loss: 0.2331 - mean_absolute_error: 0.4195 - root_mean_squared_error: 0.4826 - val_loss: 0.2257 - val_mean_absolute_error: 0.4133 - val_root_mean_squared_error: 0.4751 - learning_rate: 1.0000e-06\n",
            "Epoch 8/50\n",
            "\u001b[1m108/108\u001b[0m \u001b[32m━━━━━━━━━━━━━━━━━━━━\u001b[0m\u001b[37m\u001b[0m \u001b[1m0s\u001b[0m 2ms/step - loss: 0.2181 - mean_absolute_error: 0.4029 - root_mean_squared_error: 0.4668 - val_loss: 0.2115 - val_mean_absolute_error: 0.3982 - val_root_mean_squared_error: 0.4599 - learning_rate: 1.0000e-06\n",
            "Epoch 9/50\n",
            "\u001b[1m108/108\u001b[0m \u001b[32m━━━━━━━━━━━━━━━━━━━━\u001b[0m\u001b[37m\u001b[0m \u001b[1m0s\u001b[0m 3ms/step - loss: 0.2040 - mean_absolute_error: 0.3872 - root_mean_squared_error: 0.4515 - val_loss: 0.1982 - val_mean_absolute_error: 0.3837 - val_root_mean_squared_error: 0.4452 - learning_rate: 1.0000e-06\n",
            "Epoch 10/50\n",
            "\u001b[1m108/108\u001b[0m \u001b[32m━━━━━━━━━━━━━━━━━━━━\u001b[0m\u001b[37m\u001b[0m \u001b[1m0s\u001b[0m 3ms/step - loss: 0.1909 - mean_absolute_error: 0.3719 - root_mean_squared_error: 0.4368 - val_loss: 0.1858 - val_mean_absolute_error: 0.3695 - val_root_mean_squared_error: 0.4310 - learning_rate: 1.0000e-06\n",
            "Epoch 11/50\n",
            "\u001b[1m108/108\u001b[0m \u001b[32m━━━━━━━━━━━━━━━━━━━━\u001b[0m\u001b[37m\u001b[0m \u001b[1m0s\u001b[0m 3ms/step - loss: 0.1787 - mean_absolute_error: 0.3573 - root_mean_squared_error: 0.4226 - val_loss: 0.1742 - val_mean_absolute_error: 0.3558 - val_root_mean_squared_error: 0.4173 - learning_rate: 1.0000e-06\n",
            "Epoch 12/50\n",
            "\u001b[1m108/108\u001b[0m \u001b[32m━━━━━━━━━━━━━━━━━━━━\u001b[0m\u001b[37m\u001b[0m \u001b[1m0s\u001b[0m 2ms/step - loss: 0.1673 - mean_absolute_error: 0.3434 - root_mean_squared_error: 0.4089 - val_loss: 0.1633 - val_mean_absolute_error: 0.3423 - val_root_mean_squared_error: 0.4042 - learning_rate: 1.0000e-06\n",
            "Epoch 13/50\n",
            "\u001b[1m108/108\u001b[0m \u001b[32m━━━━━━━━━━━━━━━━━━━━\u001b[0m\u001b[37m\u001b[0m \u001b[1m0s\u001b[0m 3ms/step - loss: 0.1567 - mean_absolute_error: 0.3304 - root_mean_squared_error: 0.3957 - val_loss: 0.1533 - val_mean_absolute_error: 0.3292 - val_root_mean_squared_error: 0.3915 - learning_rate: 1.0000e-06\n",
            "Epoch 14/50\n",
            "\u001b[1m108/108\u001b[0m \u001b[32m━━━━━━━━━━━━━━━━━━━━\u001b[0m\u001b[37m\u001b[0m \u001b[1m0s\u001b[0m 3ms/step - loss: 0.1468 - mean_absolute_error: 0.3182 - root_mean_squared_error: 0.3830 - val_loss: 0.1439 - val_mean_absolute_error: 0.3167 - val_root_mean_squared_error: 0.3793 - learning_rate: 1.0000e-06\n",
            "Epoch 15/50\n",
            "\u001b[1m108/108\u001b[0m \u001b[32m━━━━━━━━━━━━━━━━━━━━\u001b[0m\u001b[37m\u001b[0m \u001b[1m0s\u001b[0m 2ms/step - loss: 0.1376 - mean_absolute_error: 0.3064 - root_mean_squared_error: 0.3708 - val_loss: 0.1352 - val_mean_absolute_error: 0.3051 - val_root_mean_squared_error: 0.3677 - learning_rate: 1.0000e-06\n",
            "Epoch 16/50\n",
            "\u001b[1m108/108\u001b[0m \u001b[32m━━━━━━━━━━━━━━━━━━━━\u001b[0m\u001b[37m\u001b[0m \u001b[1m0s\u001b[0m 3ms/step - loss: 0.1291 - mean_absolute_error: 0.2954 - root_mean_squared_error: 0.3592 - val_loss: 0.1272 - val_mean_absolute_error: 0.2940 - val_root_mean_squared_error: 0.3566 - learning_rate: 1.0000e-06\n",
            "Epoch 17/50\n",
            "\u001b[1m108/108\u001b[0m \u001b[32m━━━━━━━━━━━━━━━━━━━━\u001b[0m\u001b[37m\u001b[0m \u001b[1m0s\u001b[0m 3ms/step - loss: 0.1213 - mean_absolute_error: 0.2852 - root_mean_squared_error: 0.3482 - val_loss: 0.1197 - val_mean_absolute_error: 0.2840 - val_root_mean_squared_error: 0.3460 - learning_rate: 1.0000e-06\n",
            "Epoch 18/50\n",
            "\u001b[1m108/108\u001b[0m \u001b[32m━━━━━━━━━━━━━━━━━━━━\u001b[0m\u001b[37m\u001b[0m \u001b[1m0s\u001b[0m 3ms/step - loss: 0.1141 - mean_absolute_error: 0.2758 - root_mean_squared_error: 0.3376 - val_loss: 0.1129 - val_mean_absolute_error: 0.2747 - val_root_mean_squared_error: 0.3360 - learning_rate: 1.0000e-06\n",
            "Epoch 19/50\n",
            "\u001b[1m108/108\u001b[0m \u001b[32m━━━━━━━━━━━━━━━━━━━━\u001b[0m\u001b[37m\u001b[0m \u001b[1m0s\u001b[0m 2ms/step - loss: 0.1074 - mean_absolute_error: 0.2670 - root_mean_squared_error: 0.3276 - val_loss: 0.1065 - val_mean_absolute_error: 0.2660 - val_root_mean_squared_error: 0.3264 - learning_rate: 1.0000e-06\n",
            "Epoch 20/50\n",
            "\u001b[1m108/108\u001b[0m \u001b[32m━━━━━━━━━━━━━━━━━━━━\u001b[0m\u001b[37m\u001b[0m \u001b[1m0s\u001b[0m 2ms/step - loss: 0.1013 - mean_absolute_error: 0.2586 - root_mean_squared_error: 0.3182 - val_loss: 0.1007 - val_mean_absolute_error: 0.2578 - val_root_mean_squared_error: 0.3173 - learning_rate: 1.0000e-06\n",
            "Epoch 21/50\n",
            "\u001b[1m108/108\u001b[0m \u001b[32m━━━━━━━━━━━━━━━━━━━━\u001b[0m\u001b[37m\u001b[0m \u001b[1m0s\u001b[0m 3ms/step - loss: 0.0957 - mean_absolute_error: 0.2509 - root_mean_squared_error: 0.3092 - val_loss: 0.0954 - val_mean_absolute_error: 0.2501 - val_root_mean_squared_error: 0.3088 - learning_rate: 1.0000e-06\n",
            "Epoch 22/50\n",
            "\u001b[1m108/108\u001b[0m \u001b[32m━━━━━━━━━━━━━━━━━━━━\u001b[0m\u001b[37m\u001b[0m \u001b[1m0s\u001b[0m 2ms/step - loss: 0.0905 - mean_absolute_error: 0.2436 - root_mean_squared_error: 0.3008 - val_loss: 0.0904 - val_mean_absolute_error: 0.2428 - val_root_mean_squared_error: 0.3007 - learning_rate: 1.0000e-06\n",
            "Epoch 23/50\n",
            "\u001b[1m108/108\u001b[0m \u001b[32m━━━━━━━━━━━━━━━━━━━━\u001b[0m\u001b[37m\u001b[0m \u001b[1m0s\u001b[0m 3ms/step - loss: 0.0858 - mean_absolute_error: 0.2370 - root_mean_squared_error: 0.2928 - val_loss: 0.0859 - val_mean_absolute_error: 0.2358 - val_root_mean_squared_error: 0.2931 - learning_rate: 1.0000e-06\n",
            "Epoch 24/50\n",
            "\u001b[1m108/108\u001b[0m \u001b[32m━━━━━━━━━━━━━━━━━━━━\u001b[0m\u001b[37m\u001b[0m \u001b[1m0s\u001b[0m 3ms/step - loss: 0.0814 - mean_absolute_error: 0.2308 - root_mean_squared_error: 0.2853 - val_loss: 0.0818 - val_mean_absolute_error: 0.2295 - val_root_mean_squared_error: 0.2860 - learning_rate: 1.0000e-06\n",
            "Epoch 25/50\n",
            "\u001b[1m108/108\u001b[0m \u001b[32m━━━━━━━━━━━━━━━━━━━━\u001b[0m\u001b[37m\u001b[0m \u001b[1m1s\u001b[0m 5ms/step - loss: 0.0775 - mean_absolute_error: 0.2251 - root_mean_squared_error: 0.2783 - val_loss: 0.0780 - val_mean_absolute_error: 0.2237 - val_root_mean_squared_error: 0.2793 - learning_rate: 1.0000e-06\n",
            "Epoch 26/50\n",
            "\u001b[1m108/108\u001b[0m \u001b[32m━━━━━━━━━━━━━━━━━━━━\u001b[0m\u001b[37m\u001b[0m \u001b[1m1s\u001b[0m 4ms/step - loss: 0.0739 - mean_absolute_error: 0.2197 - root_mean_squared_error: 0.2717 - val_loss: 0.0745 - val_mean_absolute_error: 0.2183 - val_root_mean_squared_error: 0.2730 - learning_rate: 1.0000e-06\n",
            "Epoch 27/50\n",
            "\u001b[1m108/108\u001b[0m \u001b[32m━━━━━━━━━━━━━━━━━━━━\u001b[0m\u001b[37m\u001b[0m \u001b[1m1s\u001b[0m 5ms/step - loss: 0.0705 - mean_absolute_error: 0.2148 - root_mean_squared_error: 0.2655 - val_loss: 0.0714 - val_mean_absolute_error: 0.2132 - val_root_mean_squared_error: 0.2672 - learning_rate: 1.0000e-06\n",
            "Epoch 28/50\n",
            "\u001b[1m108/108\u001b[0m \u001b[32m━━━━━━━━━━━━━━━━━━━━\u001b[0m\u001b[37m\u001b[0m \u001b[1m0s\u001b[0m 3ms/step - loss: 0.0675 - mean_absolute_error: 0.2102 - root_mean_squared_error: 0.2598 - val_loss: 0.0685 - val_mean_absolute_error: 0.2085 - val_root_mean_squared_error: 0.2617 - learning_rate: 1.0000e-06\n",
            "Epoch 29/50\n",
            "\u001b[1m108/108\u001b[0m \u001b[32m━━━━━━━━━━━━━━━━━━━━\u001b[0m\u001b[37m\u001b[0m \u001b[1m0s\u001b[0m 3ms/step - loss: 0.0648 - mean_absolute_error: 0.2058 - root_mean_squared_error: 0.2545 - val_loss: 0.0658 - val_mean_absolute_error: 0.2044 - val_root_mean_squared_error: 0.2566 - learning_rate: 1.0000e-06\n",
            "Epoch 30/50\n",
            "\u001b[1m108/108\u001b[0m \u001b[32m━━━━━━━━━━━━━━━━━━━━\u001b[0m\u001b[37m\u001b[0m \u001b[1m0s\u001b[0m 3ms/step - loss: 0.0623 - mean_absolute_error: 0.2016 - root_mean_squared_error: 0.2495 - val_loss: 0.0634 - val_mean_absolute_error: 0.2007 - val_root_mean_squared_error: 0.2519 - learning_rate: 1.0000e-06\n",
            "Epoch 31/50\n",
            "\u001b[1m108/108\u001b[0m \u001b[32m━━━━━━━━━━━━━━━━━━━━\u001b[0m\u001b[37m\u001b[0m \u001b[1m1s\u001b[0m 3ms/step - loss: 0.0600 - mean_absolute_error: 0.1977 - root_mean_squared_error: 0.2449 - val_loss: 0.0612 - val_mean_absolute_error: 0.1972 - val_root_mean_squared_error: 0.2475 - learning_rate: 1.0000e-06\n",
            "Epoch 32/50\n",
            "\u001b[1m108/108\u001b[0m \u001b[32m━━━━━━━━━━━━━━━━━━━━\u001b[0m\u001b[37m\u001b[0m \u001b[1m0s\u001b[0m 2ms/step - loss: 0.0579 - mean_absolute_error: 0.1941 - root_mean_squared_error: 0.2406 - val_loss: 0.0592 - val_mean_absolute_error: 0.1940 - val_root_mean_squared_error: 0.2434 - learning_rate: 1.0000e-06\n",
            "Epoch 33/50\n",
            "\u001b[1m108/108\u001b[0m \u001b[32m━━━━━━━━━━━━━━━━━━━━\u001b[0m\u001b[37m\u001b[0m \u001b[1m0s\u001b[0m 3ms/step - loss: 0.0560 - mean_absolute_error: 0.1906 - root_mean_squared_error: 0.2366 - val_loss: 0.0574 - val_mean_absolute_error: 0.1910 - val_root_mean_squared_error: 0.2396 - learning_rate: 1.0000e-06\n",
            "Epoch 34/50\n",
            "\u001b[1m108/108\u001b[0m \u001b[32m━━━━━━━━━━━━━━━━━━━━\u001b[0m\u001b[37m\u001b[0m \u001b[1m0s\u001b[0m 2ms/step - loss: 0.0543 - mean_absolute_error: 0.1874 - root_mean_squared_error: 0.2329 - val_loss: 0.0557 - val_mean_absolute_error: 0.1882 - val_root_mean_squared_error: 0.2360 - learning_rate: 1.0000e-06\n",
            "Epoch 35/50\n",
            "\u001b[1m108/108\u001b[0m \u001b[32m━━━━━━━━━━━━━━━━━━━━\u001b[0m\u001b[37m\u001b[0m \u001b[1m0s\u001b[0m 3ms/step - loss: 0.0527 - mean_absolute_error: 0.1843 - root_mean_squared_error: 0.2294 - val_loss: 0.0542 - val_mean_absolute_error: 0.1856 - val_root_mean_squared_error: 0.2327 - learning_rate: 1.0000e-06\n",
            "Epoch 36/50\n",
            "\u001b[1m108/108\u001b[0m \u001b[32m━━━━━━━━━━━━━━━━━━━━\u001b[0m\u001b[37m\u001b[0m \u001b[1m0s\u001b[0m 3ms/step - loss: 0.0512 - mean_absolute_error: 0.1815 - root_mean_squared_error: 0.2262 - val_loss: 0.0528 - val_mean_absolute_error: 0.1832 - val_root_mean_squared_error: 0.2297 - learning_rate: 1.0000e-06\n",
            "Epoch 37/50\n",
            "\u001b[1m108/108\u001b[0m \u001b[32m━━━━━━━━━━━━━━━━━━━━\u001b[0m\u001b[37m\u001b[0m \u001b[1m0s\u001b[0m 3ms/step - loss: 0.0498 - mean_absolute_error: 0.1788 - root_mean_squared_error: 0.2232 - val_loss: 0.0515 - val_mean_absolute_error: 0.1810 - val_root_mean_squared_error: 0.2269 - learning_rate: 1.0000e-06\n",
            "Epoch 38/50\n",
            "\u001b[1m108/108\u001b[0m \u001b[32m━━━━━━━━━━━━━━━━━━━━\u001b[0m\u001b[37m\u001b[0m \u001b[1m0s\u001b[0m 3ms/step - loss: 0.0486 - mean_absolute_error: 0.1763 - root_mean_squared_error: 0.2204 - val_loss: 0.0503 - val_mean_absolute_error: 0.1789 - val_root_mean_squared_error: 0.2242 - learning_rate: 1.0000e-06\n",
            "Epoch 39/50\n",
            "\u001b[1m108/108\u001b[0m \u001b[32m━━━━━━━━━━━━━━━━━━━━\u001b[0m\u001b[37m\u001b[0m \u001b[1m0s\u001b[0m 3ms/step - loss: 0.0474 - mean_absolute_error: 0.1738 - root_mean_squared_error: 0.2178 - val_loss: 0.0492 - val_mean_absolute_error: 0.1770 - val_root_mean_squared_error: 0.2217 - learning_rate: 1.0000e-06\n",
            "Epoch 40/50\n",
            "\u001b[1m108/108\u001b[0m \u001b[32m━━━━━━━━━━━━━━━━━━━━\u001b[0m\u001b[37m\u001b[0m \u001b[1m0s\u001b[0m 3ms/step - loss: 0.0464 - mean_absolute_error: 0.1717 - root_mean_squared_error: 0.2153 - val_loss: 0.0482 - val_mean_absolute_error: 0.1751 - val_root_mean_squared_error: 0.2194 - learning_rate: 1.0000e-06\n",
            "Epoch 41/50\n",
            "\u001b[1m108/108\u001b[0m \u001b[32m━━━━━━━━━━━━━━━━━━━━\u001b[0m\u001b[37m\u001b[0m \u001b[1m0s\u001b[0m 3ms/step - loss: 0.0454 - mean_absolute_error: 0.1697 - root_mean_squared_error: 0.2130 - val_loss: 0.0472 - val_mean_absolute_error: 0.1733 - val_root_mean_squared_error: 0.2173 - learning_rate: 1.0000e-06\n",
            "Epoch 42/50\n",
            "\u001b[1m108/108\u001b[0m \u001b[32m━━━━━━━━━━━━━━━━━━━━\u001b[0m\u001b[37m\u001b[0m \u001b[1m0s\u001b[0m 3ms/step - loss: 0.0445 - mean_absolute_error: 0.1679 - root_mean_squared_error: 0.2108 - val_loss: 0.0464 - val_mean_absolute_error: 0.1717 - val_root_mean_squared_error: 0.2153 - learning_rate: 1.0000e-06\n",
            "Epoch 43/50\n",
            "\u001b[1m108/108\u001b[0m \u001b[32m━━━━━━━━━━━━━━━━━━━━\u001b[0m\u001b[37m\u001b[0m \u001b[1m1s\u001b[0m 2ms/step - loss: 0.0436 - mean_absolute_error: 0.1661 - root_mean_squared_error: 0.2088 - val_loss: 0.0456 - val_mean_absolute_error: 0.1702 - val_root_mean_squared_error: 0.2135 - learning_rate: 1.0000e-06\n",
            "Epoch 44/50\n",
            "\u001b[1m108/108\u001b[0m \u001b[32m━━━━━━━━━━━━━━━━━━━━\u001b[0m\u001b[37m\u001b[0m \u001b[1m0s\u001b[0m 2ms/step - loss: 0.0429 - mean_absolute_error: 0.1645 - root_mean_squared_error: 0.2069 - val_loss: 0.0448 - val_mean_absolute_error: 0.1687 - val_root_mean_squared_error: 0.2117 - learning_rate: 1.0000e-06\n",
            "Epoch 45/50\n",
            "\u001b[1m108/108\u001b[0m \u001b[32m━━━━━━━━━━━━━━━━━━━━\u001b[0m\u001b[37m\u001b[0m \u001b[1m0s\u001b[0m 3ms/step - loss: 0.0421 - mean_absolute_error: 0.1630 - root_mean_squared_error: 0.2052 - val_loss: 0.0441 - val_mean_absolute_error: 0.1674 - val_root_mean_squared_error: 0.2101 - learning_rate: 1.0000e-06\n",
            "Epoch 46/50\n",
            "\u001b[1m108/108\u001b[0m \u001b[32m━━━━━━━━━━━━━━━━━━━━\u001b[0m\u001b[37m\u001b[0m \u001b[1m0s\u001b[0m 3ms/step - loss: 0.0414 - mean_absolute_error: 0.1616 - root_mean_squared_error: 0.2035 - val_loss: 0.0435 - val_mean_absolute_error: 0.1663 - val_root_mean_squared_error: 0.2086 - learning_rate: 1.0000e-06\n",
            "Epoch 47/50\n",
            "\u001b[1m108/108\u001b[0m \u001b[32m━━━━━━━━━━━━━━━━━━━━\u001b[0m\u001b[37m\u001b[0m \u001b[1m0s\u001b[0m 2ms/step - loss: 0.0408 - mean_absolute_error: 0.1604 - root_mean_squared_error: 0.2020 - val_loss: 0.0429 - val_mean_absolute_error: 0.1653 - val_root_mean_squared_error: 0.2072 - learning_rate: 1.0000e-06\n",
            "Epoch 48/50\n",
            "\u001b[1m108/108\u001b[0m \u001b[32m━━━━━━━━━━━━━━━━━━━━\u001b[0m\u001b[37m\u001b[0m \u001b[1m0s\u001b[0m 3ms/step - loss: 0.0402 - mean_absolute_error: 0.1592 - root_mean_squared_error: 0.2005 - val_loss: 0.0424 - val_mean_absolute_error: 0.1643 - val_root_mean_squared_error: 0.2059 - learning_rate: 1.0000e-06\n",
            "Epoch 49/50\n",
            "\u001b[1m108/108\u001b[0m \u001b[32m━━━━━━━━━━━━━━━━━━━━\u001b[0m\u001b[37m\u001b[0m \u001b[1m0s\u001b[0m 3ms/step - loss: 0.0397 - mean_absolute_error: 0.1582 - root_mean_squared_error: 0.1992 - val_loss: 0.0419 - val_mean_absolute_error: 0.1634 - val_root_mean_squared_error: 0.2047 - learning_rate: 1.0000e-06\n",
            "Epoch 50/50\n",
            "\u001b[1m108/108\u001b[0m \u001b[32m━━━━━━━━━━━━━━━━━━━━\u001b[0m\u001b[37m\u001b[0m \u001b[1m0s\u001b[0m 2ms/step - loss: 0.0392 - mean_absolute_error: 0.1572 - root_mean_squared_error: 0.1979 - val_loss: 0.0415 - val_mean_absolute_error: 0.1625 - val_root_mean_squared_error: 0.2036 - learning_rate: 1.0000e-06\n"
          ]
        }
      ]
    },
    {
      "cell_type": "code",
      "source": [
        "# Plot the loss\n",
        "train_loss = history_func_tuned.history['loss']\n",
        "val_loss = history_func_tuned.history['val_loss']\n",
        "plt.plot(train_loss,label=\"Train Loss\")\n",
        "plt.plot(val_loss,label='Val Loss')\n",
        "plt.xlabel(\"Epoch\")\n",
        "plt.ylabel(\"Loss\")\n",
        "plt.legend()\n",
        "plt.show()"
      ],
      "metadata": {
        "colab": {
          "base_uri": "https://localhost:8080/",
          "height": 449
        },
        "id": "ysLthFDg3zLk",
        "outputId": "125aba1c-7050-4d4c-e953-8d8fa5a091cd"
      },
      "execution_count": null,
      "outputs": [
        {
          "output_type": "display_data",
          "data": {
            "text/plain": [
              "<Figure size 640x480 with 1 Axes>"
            ],
            "image/png": "[encoded data removed]"
          },
          "metadata": {}
        }
      ]
    },
    {
      "cell_type": "markdown",
      "source": [
        "The loss plot here looks like both the train and val loss fits perfectly -- converging from the beginning until the end, with the loss gradually decreasing. This beautiful plot happens because I removed the sigmoid activation function from the output layer. However, the final result may not be satisfying because using sigmoid in the output layer is actually recommended if we are using minmax scaler, to keep the result within 0 to 1. Without sigmoid, the result may be outside the range."
      ],
      "metadata": {
        "id": "1sBF_pHwOO2m"
      }
    },
    {
      "cell_type": "markdown",
      "source": [
        "## d. Evaluation"
      ],
      "metadata": {
        "id": "S2TVpT_szKSP"
      }
    },
    {
      "cell_type": "markdown",
      "source": [
        "### Prediction\n",
        "I will compile all the prediction from each model first to predict the value of test_ds."
      ],
      "metadata": {
        "id": "MCmwXXtH5L81"
      }
    },
    {
      "cell_type": "code",
      "source": [
        "# Predict using sequential model\n",
        "seq_y_pred = model_seq.predict(test_ds)\n",
        "seq_y_pred = scaler_y.inverse_transform(seq_y_pred)"
      ],
      "metadata": {
        "colab": {
          "base_uri": "https://localhost:8080/"
        },
        "id": "MGMWeZTNzc8C",
        "outputId": "899db590-6f33-4c4b-9c9e-7e1bcac8653d"
      },
      "execution_count": null,
      "outputs": [
        {
          "output_type": "stream",
          "name": "stdout",
          "text": [
            "\u001b[1m31/31\u001b[0m \u001b[32m━━━━━━━━━━━━━━━━━━━━\u001b[0m\u001b[37m\u001b[0m \u001b[1m0s\u001b[0m 3ms/step\n"
          ]
        }
      ]
    },
    {
      "cell_type": "code",
      "source": [
        "# Predict using functional model\n",
        "func_y_pred = model_func.predict(test_ds)\n",
        "func_y_pred = scaler_y.inverse_transform(func_y_pred)"
      ],
      "metadata": {
        "colab": {
          "base_uri": "https://localhost:8080/"
        },
        "id": "xRpil88W5Ckv",
        "outputId": "190eb61a-c89c-42a5-9161-13053e91fc66"
      },
      "execution_count": null,
      "outputs": [
        {
          "output_type": "stream",
          "name": "stdout",
          "text": [
            "\u001b[1m31/31\u001b[0m \u001b[32m━━━━━━━━━━━━━━━━━━━━\u001b[0m\u001b[37m\u001b[0m \u001b[1m0s\u001b[0m 4ms/step\n"
          ]
        }
      ]
    },
    {
      "cell_type": "code",
      "source": [
        "# Predict using sequential model tuned\n",
        "seq_tuned_y_pred = model_seq_tuned.predict(test_ds)\n",
        "seq_tuned_y_pred = scaler_y.inverse_transform(seq_tuned_y_pred)"
      ],
      "metadata": {
        "colab": {
          "base_uri": "https://localhost:8080/"
        },
        "id": "1hpzuVxk5ij0",
        "outputId": "e3256028-7321-42b1-d246-5d2ef8cfb193"
      },
      "execution_count": null,
      "outputs": [
        {
          "output_type": "stream",
          "name": "stdout",
          "text": [
            "\u001b[1m31/31\u001b[0m \u001b[32m━━━━━━━━━━━━━━━━━━━━\u001b[0m\u001b[37m\u001b[0m \u001b[1m0s\u001b[0m 3ms/step\n"
          ]
        }
      ]
    },
    {
      "cell_type": "code",
      "source": [
        "# Predict using functional model tuned\n",
        "func_tuned_y_pred = model_func_tuned.predict(test_ds)\n",
        "func_tuned_y_pred = scaler_y.inverse_transform(func_tuned_y_pred)"
      ],
      "metadata": {
        "colab": {
          "base_uri": "https://localhost:8080/"
        },
        "id": "JkbFwjWp514-",
        "outputId": "d6d0aebe-3368-437e-ad9c-30388e48366a"
      },
      "execution_count": null,
      "outputs": [
        {
          "output_type": "stream",
          "name": "stdout",
          "text": [
            "\u001b[1m31/31\u001b[0m \u001b[32m━━━━━━━━━━━━━━━━━━━━\u001b[0m\u001b[37m\u001b[0m \u001b[1m0s\u001b[0m 3ms/step\n"
          ]
        }
      ]
    },
    {
      "cell_type": "markdown",
      "source": [
        "### Plotting\n",
        "As the y_unscaled is DataFrame and I want to create a scatterplot with seaborn that only accepts 1D data, I will flatten the values first."
      ],
      "metadata": {
        "id": "giVF7-2fGEsp"
      }
    },
    {
      "cell_type": "code",
      "source": [
        "y_true = y_unscaled.values.flatten()"
      ],
      "metadata": {
        "id": "hNSQWt8UAsR5"
      },
      "execution_count": null,
      "outputs": []
    },
    {
      "cell_type": "code",
      "source": [
        "# Plotting the regression for better visualization\n",
        "preds = [seq_y_pred, func_y_pred, seq_tuned_y_pred, func_tuned_y_pred]\n",
        "titles = ['Sequential Baseline', 'Functional Baseline', 'Sequential Modified', 'Functional Modified']\n",
        "\n",
        "fig, axes = plt.subplots(2, 2, figsize=(14, 10))\n",
        "axes = axes.flatten()\n",
        "\n",
        "for i, ax in enumerate(axes):\n",
        "    sns.scatterplot(x=y_true, y=preds[i].flatten(), ax=ax, alpha=0.6)\n",
        "    ax.plot([y_true.min(), y_true.max()], [y_true.min(), y_true.max()], 'r--')  # y=x line\n",
        "    ax.set_title(titles[i])\n",
        "    ax.set_xlabel('True')\n",
        "    ax.set_ylabel('Predicted')\n",
        "\n",
        "plt.tight_layout()\n",
        "plt.show()"
      ],
      "metadata": {
        "colab": {
          "base_uri": "https://localhost:8080/",
          "height": 609
        },
        "id": "WWG9PvDJAEwH",
        "outputId": "ca92ac1a-269a-4daa-a3ff-1b37a96dda89"
      },
      "execution_count": null,
      "outputs": [
        {
          "output_type": "display_data",
          "data": {
            "text/plain": [
              "<Figure size 1400x1000 with 4 Axes>"
            ],
            "image/png": "[encoded data removed]"
          },
          "metadata": {}
        }
      ]
    },
    {
      "cell_type": "markdown",
      "source": [
        "### Performance metrics\n",
        "As stated above, I will use:\n",
        "- Mean Absolute Error (MAE): Measures the average magnitude of the errors in a set of predictions. Lower MAE suggests that the model's predictions are closer to the true value.\n",
        "- Root Mean Squared Error (RMSE): Square root of the average of squared differences between the true and predicted value. Penalizes large errors more than MAE. Lower RMSE indicates better model performance.\n",
        "- R-square score: Indicates how well the model captures the variance in the target variable. R2 closer to 1 means better fit, the model explains more variability."
      ],
      "metadata": {
        "id": "z0aUY55QGPp-"
      }
    },
    {
      "cell_type": "code",
      "source": [
        "results = {\n",
        "    \"Model\": [],\n",
        "    \"MAE\": [],\n",
        "    \"RMSE\": [],\n",
        "    \"R2\": []\n",
        "}\n",
        "\n",
        "for name, pred in zip(titles, preds):\n",
        "    results[\"Model\"].append(name)\n",
        "    results[\"MAE\"].append(mean_absolute_error(y_true, pred))\n",
        "    results[\"RMSE\"].append(root_mean_squared_error(y_true, pred))\n",
        "    results[\"R2\"].append(r2_score(y_true, pred))\n",
        "\n",
        "results = pd.DataFrame(results)\n",
        "results"
      ],
      "metadata": {
        "colab": {
          "base_uri": "https://localhost:8080/",
          "height": 175
        },
        "id": "t_JYwwTUF-aY",
        "outputId": "422ccc7c-93c1-45f4-d2d2-64c915287063"
      },
      "execution_count": null,
      "outputs": [
        {
          "output_type": "execute_result",
          "data": {
            "text/plain": [
              "                 Model       MAE      RMSE        R2\n",
              "0  Sequential Baseline  6.810809  8.551440  0.257728\n",
              "1  Functional Baseline  6.959081  8.835663  0.207566\n",
              "2  Sequential Modified  6.800730  8.553517  0.257367\n",
              "3  Functional Modified  7.873316  9.858700  0.013439"
            ],
            "text/html": [
              "\n",
              "  <div id=\"df-99ccaf7c-ccdc-47d6-ab2e-9767c93fd765\" class=\"colab-df-container\">\n",
              "    <div>\n",
              "<style scoped>\n",
              "    .dataframe tbody tr th:only-of-type {\n",
              "        vertical-align: middle;\n",
              "    }\n",
              "\n",
              "    .dataframe tbody tr th {\n",
              "        vertical-align: top;\n",
              "    }\n",
              "\n",
              "    .dataframe thead th {\n",
              "        text-align: right;\n",
              "    }\n",
              "</style>\n",
              "<table border=\"1\" class=\"dataframe\">\n",
              "  <thead>\n",
              "    <tr style=\"text-align: right;\">\n",
              "      <th></th>\n",
              "      <th>Model</th>\n",
              "      <th>MAE</th>\n",
              "      <th>RMSE</th>\n",
              "      <th>R2</th>\n",
              "    </tr>\n",
              "  </thead>\n",
              "  <tbody>\n",
              "    <tr>\n",
              "      <th>0</th>\n",
              "      <td>Sequential Baseline</td>\n",
              "      <td>6.810809</td>\n",
              "      <td>8.551440</td>\n",
              "      <td>0.257728</td>\n",
              "    </tr>\n",
              "    <tr>\n",
              "      <th>1</th>\n",
              "      <td>Functional Baseline</td>\n",
              "      <td>6.959081</td>\n",
              "      <td>8.835663</td>\n",
              "      <td>0.207566</td>\n",
              "    </tr>\n",
              "    <tr>\n",
              "      <th>2</th>\n",
              "      <td>Sequential Modified</td>\n",
              "      <td>6.800730</td>\n",
              "      <td>8.553517</td>\n",
              "      <td>0.257367</td>\n",
              "    </tr>\n",
              "    <tr>\n",
              "      <th>3</th>\n",
              "      <td>Functional Modified</td>\n",
              "      <td>7.873316</td>\n",
              "      <td>9.858700</td>\n",
              "      <td>0.013439</td>\n",
              "    </tr>\n",
              "  </tbody>\n",
              "</table>\n",
              "</div>\n",
              "    <div class=\"colab-df-buttons\">\n",
              "\n",
              "  <div class=\"colab-df-container\">\n",
              "    <button class=\"colab-df-convert\" onclick=\"convertToInteractive('df-99ccaf7c-ccdc-47d6-ab2e-9767c93fd765')\"\n",
              "            title=\"Convert this dataframe to an interactive table.\"\n",
              "            style=\"display:none;\">\n",
              "\n",
              "  <svg xmlns=\"http://www.w3.org/2000/svg\" height=\"24px\" viewBox=\"0 -960 960 960\">\n",
              "    <path d=\"M120-120v-720h720v720H120Zm60-500h600v-160H180v160Zm220 220h160v-160H400v160Zm0 220h160v-160H400v160ZM180-400h160v-160H180v160Zm440 0h160v-160H620v160ZM180-180h160v-160H180v160Zm440 0h160v-160H620v160Z\"/>\n",
              "  </svg>\n",
              "    </button>\n",
              "\n",
              "  <style>\n",
              "    .colab-df-container {\n",
              "      display:flex;\n",
              "      gap: 12px;\n",
              "    }\n",
              "\n",
              "    .colab-df-convert {\n",
              "      background-color: #E8F0FE;\n",
              "      border: none;\n",
              "      border-radius: 50%;\n",
              "      cursor: pointer;\n",
              "      display: none;\n",
              "      fill: #1967D2;\n",
              "      height: 32px;\n",
              "      padding: 0 0 0 0;\n",
              "      width: 32px;\n",
              "    }\n",
              "\n",
              "    .colab-df-convert:hover {\n",
              "      background-color: #E2EBFA;\n",
              "      box-shadow: 0px 1px 2px rgba(60, 64, 67, 0.3), 0px 1px 3px 1px rgba(60, 64, 67, 0.15);\n",
              "      fill: #174EA6;\n",
              "    }\n",
              "\n",
              "    .colab-df-buttons div {\n",
              "      margin-bottom: 4px;\n",
              "    }\n",
              "\n",
              "    [theme=dark] .colab-df-convert {\n",
              "      background-color: #3B4455;\n",
              "      fill: #D2E3FC;\n",
              "    }\n",
              "\n",
              "    [theme=dark] .colab-df-convert:hover {\n",
              "      background-color: #434B5C;\n",
              "      box-shadow: 0px 1px 3px 1px rgba(0, 0, 0, 0.15);\n",
              "      filter: drop-shadow(0px 1px 2px rgba(0, 0, 0, 0.3));\n",
              "      fill: #FFFFFF;\n",
              "    }\n",
              "  </style>\n",
              "\n",
              "    <script>\n",
              "      const buttonEl =\n",
              "        document.querySelector('#df-99ccaf7c-ccdc-47d6-ab2e-9767c93fd765 button.colab-df-convert');\n",
              "      buttonEl.style.display =\n",
              "        google.colab.kernel.accessAllowed ? 'block' : 'none';\n",
              "\n",
              "      async function convertToInteractive(key) {\n",
              "        const element = document.querySelector('#df-99ccaf7c-ccdc-47d6-ab2e-9767c93fd765');\n",
              "        const dataTable =\n",
              "          await google.colab.kernel.invokeFunction('convertToInteractive',\n",
              "                                                    [key], {});\n",
              "        if (!dataTable) return;\n",
              "\n",
              "        const docLinkHtml = 'Like what you see? Visit the ' +\n",
              "          '<a target=\"_blank\" href=https://colab.research.google.com/notebooks/data_table.ipynb>data table notebook</a>'\n",
              "          + ' to learn more about interactive tables.';\n",
              "        element.innerHTML = '';\n",
              "        dataTable['output_type'] = 'display_data';\n",
              "        await google.colab.output.renderOutput(dataTable, element);\n",
              "        const docLink = document.createElement('div');\n",
              "        docLink.innerHTML = docLinkHtml;\n",
              "        element.appendChild(docLink);\n",
              "      }\n",
              "    </script>\n",
              "  </div>\n",
              "\n",
              "\n",
              "<div id=\"df-6e6c6f3a-b92f-454b-a63c-546c07383cc3\">\n",
              "  <button class=\"colab-df-quickchart\" onclick=\"quickchart('df-6e6c6f3a-b92f-454b-a63c-546c07383cc3')\"\n",
              "            title=\"Suggest charts\"\n",
              "            style=\"display:none;\">\n",
              "\n",
              "<svg xmlns=\"http://www.w3.org/2000/svg\" height=\"24px\"viewBox=\"0 0 24 24\"\n",
              "     width=\"24px\">\n",
              "    <g>\n",
              "        <path d=\"M19 3H5c-1.1 0-2 .9-2 2v14c0 1.1.9 2 2 2h14c1.1 0 2-.9 2-2V5c0-1.1-.9-2-2-2zM9 17H7v-7h2v7zm4 0h-2V7h2v10zm4 0h-2v-4h2v4z\"/>\n",
              "    </g>\n",
              "</svg>\n",
              "  </button>\n",
              "\n",
              "<style>\n",
              "  .colab-df-quickchart {\n",
              "      --bg-color: #E8F0FE;\n",
              "      --fill-color: #1967D2;\n",
              "      --hover-bg-color: #E2EBFA;\n",
              "      --hover-fill-color: #174EA6;\n",
              "      --disabled-fill-color: #AAA;\n",
              "      --disabled-bg-color: #DDD;\n",
              "  }\n",
              "\n",
              "  [theme=dark] .colab-df-quickchart {\n",
              "      --bg-color: #3B4455;\n",
              "      --fill-color: #D2E3FC;\n",
              "      --hover-bg-color: #434B5C;\n",
              "      --hover-fill-color: #FFFFFF;\n",
              "      --disabled-bg-color: #3B4455;\n",
              "      --disabled-fill-color: #666;\n",
              "  }\n",
              "\n",
              "  .colab-df-quickchart {\n",
              "    background-color: var(--bg-color);\n",
              "    border: none;\n",
              "    border-radius: 50%;\n",
              "    cursor: pointer;\n",
              "    display: none;\n",
              "    fill: var(--fill-color);\n",
              "    height: 32px;\n",
              "    padding: 0;\n",
              "    width: 32px;\n",
              "  }\n",
              "\n",
              "  .colab-df-quickchart:hover {\n",
              "    background-color: var(--hover-bg-color);\n",
              "    box-shadow: 0 1px 2px rgba(60, 64, 67, 0.3), 0 1px 3px 1px rgba(60, 64, 67, 0.15);\n",
              "    fill: var(--button-hover-fill-color);\n",
              "  }\n",
              "\n",
              "  .colab-df-quickchart-complete:disabled,\n",
              "  .colab-df-quickchart-complete:disabled:hover {\n",
              "    background-color: var(--disabled-bg-color);\n",
              "    fill: var(--disabled-fill-color);\n",
              "    box-shadow: none;\n",
              "  }\n",
              "\n",
              "  .colab-df-spinner {\n",
              "    border: 2px solid var(--fill-color);\n",
              "    border-color: transparent;\n",
              "    border-bottom-color: var(--fill-color);\n",
              "    animation:\n",
              "      spin 1s steps(1) infinite;\n",
              "  }\n",
              "\n",
              "  @keyframes spin {\n",
              "    0% {\n",
              "      border-color: transparent;\n",
              "      border-bottom-color: var(--fill-color);\n",
              "      border-left-color: var(--fill-color);\n",
              "    }\n",
              "    20% {\n",
              "      border-color: transparent;\n",
              "      border-left-color: var(--fill-color);\n",
              "      border-top-color: var(--fill-color);\n",
              "    }\n",
              "    30% {\n",
              "      border-color: transparent;\n",
              "      border-left-color: var(--fill-color);\n",
              "      border-top-color: var(--fill-color);\n",
              "      border-right-color: var(--fill-color);\n",
              "    }\n",
              "    40% {\n",
              "      border-color: transparent;\n",
              "      border-right-color: var(--fill-color);\n",
              "      border-top-color: var(--fill-color);\n",
              "    }\n",
              "    60% {\n",
              "      border-color: transparent;\n",
              "      border-right-color: var(--fill-color);\n",
              "    }\n",
              "    80% {\n",
              "      border-color: transparent;\n",
              "      border-right-color: var(--fill-color);\n",
              "      border-bottom-color: var(--fill-color);\n",
              "    }\n",
              "    90% {\n",
              "      border-color: transparent;\n",
              "      border-bottom-color: var(--fill-color);\n",
              "    }\n",
              "  }\n",
              "</style>\n",
              "\n",
              "  <script>\n",
              "    async function quickchart(key) {\n",
              "      const quickchartButtonEl =\n",
              "        document.querySelector('#' + key + ' button');\n",
              "      quickchartButtonEl.disabled = true;  // To prevent multiple clicks.\n",
              "      quickchartButtonEl.classList.add('colab-df-spinner');\n",
              "      try {\n",
              "        const charts = await google.colab.kernel.invokeFunction(\n",
              "            'suggestCharts', [key], {});\n",
              "      } catch (error) {\n",
              "        console.error('Error during call to suggestCharts:', error);\n",
              "      }\n",
              "      quickchartButtonEl.classList.remove('colab-df-spinner');\n",
              "      quickchartButtonEl.classList.add('colab-df-quickchart-complete');\n",
              "    }\n",
              "    (() => {\n",
              "      let quickchartButtonEl =\n",
              "        document.querySelector('#df-6e6c6f3a-b92f-454b-a63c-546c07383cc3 button');\n",
              "      quickchartButtonEl.style.display =\n",
              "        google.colab.kernel.accessAllowed ? 'block' : 'none';\n",
              "    })();\n",
              "  </script>\n",
              "</div>\n",
              "\n",
              "  <div id=\"id_99000991-52ed-4b45-ae73-6721adb8f7a7\">\n",
              "    <style>\n",
              "      .colab-df-generate {\n",
              "        background-color: #E8F0FE;\n",
              "        border: none;\n",
              "        border-radius: 50%;\n",
              "        cursor: pointer;\n",
              "        display: none;\n",
              "        fill: #1967D2;\n",
              "        height: 32px;\n",
              "        padding: 0 0 0 0;\n",
              "        width: 32px;\n",
              "      }\n",
              "\n",
              "      .colab-df-generate:hover {\n",
              "        background-color: #E2EBFA;\n",
              "        box-shadow: 0px 1px 2px rgba(60, 64, 67, 0.3), 0px 1px 3px 1px rgba(60, 64, 67, 0.15);\n",
              "        fill: #174EA6;\n",
              "      }\n",
              "\n",
              "      [theme=dark] .colab-df-generate {\n",
              "        background-color: #3B4455;\n",
              "        fill: #D2E3FC;\n",
              "      }\n",
              "\n",
              "      [theme=dark] .colab-df-generate:hover {\n",
              "        background-color: #434B5C;\n",
              "        box-shadow: 0px 1px 3px 1px rgba(0, 0, 0, 0.15);\n",
              "        filter: drop-shadow(0px 1px 2px rgba(0, 0, 0, 0.3));\n",
              "        fill: #FFFFFF;\n",
              "      }\n",
              "    </style>\n",
              "    <button class=\"colab-df-generate\" onclick=\"generateWithVariable('results')\"\n",
              "            title=\"Generate code using this dataframe.\"\n",
              "            style=\"display:none;\">\n",
              "\n",
              "  <svg xmlns=\"http://www.w3.org/2000/svg\" height=\"24px\"viewBox=\"0 0 24 24\"\n",
              "       width=\"24px\">\n",
              "    <path d=\"M7,19H8.4L18.45,9,17,7.55,7,17.6ZM5,21V16.75L18.45,3.32a2,2,0,0,1,2.83,0l1.4,1.43a1.91,1.91,0,0,1,.58,1.4,1.91,1.91,0,0,1-.58,1.4L9.25,21ZM18.45,9,17,7.55Zm-12,3A5.31,5.31,0,0,0,4.9,8.1,5.31,5.31,0,0,0,1,6.5,5.31,5.31,0,0,0,4.9,4.9,5.31,5.31,0,0,0,6.5,1,5.31,5.31,0,0,0,8.1,4.9,5.31,5.31,0,0,0,12,6.5,5.46,5.46,0,0,0,6.5,12Z\"/>\n",
              "  </svg>\n",
              "    </button>\n",
              "    <script>\n",
              "      (() => {\n",
              "      const buttonEl =\n",
              "        document.querySelector('#id_99000991-52ed-4b45-ae73-6721adb8f7a7 button.colab-df-generate');\n",
              "      buttonEl.style.display =\n",
              "        google.colab.kernel.accessAllowed ? 'block' : 'none';\n",
              "\n",
              "      buttonEl.onclick = () => {\n",
              "        google.colab.notebook.generateWithVariable('results');\n",
              "      }\n",
              "      })();\n",
              "    </script>\n",
              "  </div>\n",
              "\n",
              "    </div>\n",
              "  </div>\n"
            ],
            "application/vnd.google.colaboratory.intrinsic+json": {
              "type": "dataframe",
              "variable_name": "results",
              "summary": "{\n  \"name\": \"results\",\n  \"rows\": 4,\n  \"fields\": [\n    {\n      \"column\": \"Model\",\n      \"properties\": {\n        \"dtype\": \"string\",\n        \"num_unique_values\": 4,\n        \"samples\": [\n          \"Functional Baseline\",\n          \"Functional Modified\",\n          \"Sequential Baseline\"\n        ],\n        \"semantic_type\": \"\",\n        \"description\": \"\"\n      }\n    },\n    {\n      \"column\": \"MAE\",\n      \"properties\": {\n        \"dtype\": \"number\",\n        \"std\": 0.5133506465101849,\n        \"min\": 6.800730083046535,\n        \"max\": 7.873315591129682,\n        \"num_unique_values\": 4,\n        \"samples\": [\n          6.959081343070587,\n          7.873315591129682,\n          6.810808561604678\n        ],\n        \"semantic_type\": \"\",\n        \"description\": \"\"\n      }\n    },\n    {\n      \"column\": \"RMSE\",\n      \"properties\": {\n        \"dtype\": \"number\",\n        \"std\": 0.6204452659598183,\n        \"min\": 8.551439598284288,\n        \"max\": 9.858699753739387,\n        \"num_unique_values\": 4,\n        \"samples\": [\n          8.835663058262892,\n          9.858699753739387,\n          8.551439598284288\n        ],\n        \"semantic_type\": \"\",\n        \"description\": \"\"\n      }\n    },\n    {\n      \"column\": \"R2\",\n      \"properties\": {\n        \"dtype\": \"number\",\n        \"std\": 0.11613921299337626,\n        \"min\": 0.013439235759705404,\n        \"max\": 0.2577280935114864,\n        \"num_unique_values\": 4,\n        \"samples\": [\n          0.20756645675077734,\n          0.013439235759705404,\n          0.2577280935114864\n        ],\n        \"semantic_type\": \"\",\n        \"description\": \"\"\n      }\n    }\n  ]\n}"
            }
          },
          "metadata": {},
          "execution_count": 296
        }
      ]
    },
    {
      "cell_type": "markdown",
      "source": [
        "### Inference\n",
        "- The models, ranked by their performance from the highest to lowest: Sequential Baseline -> Sequential Modified -> Functional Baseline -> Functional Modified.\n",
        "- Both **sequential models outperform the functional models** and they perform similarly. The parameters tuned for sequential model results in similar number of neurons, higher dropout level, and higher learning rate. In the end, they perform similarly.\n",
        "- The **R2 scores for sequential models and functional baseline are around 20-25%**, indicating that they can explain around 20% of the data variance.\n",
        "- **Functional modified performs worse**, suspected due to the usage of too many neurons and removing the sigmoid function from the output layer, so the prediction may not be in range. Remember that we used MinMaxScaler for the y-variable scaling, so using Sigmoid is recommended, but I wanted to try removing the Sigmoid to see the difference. It performs well on the loss plot but poor on the metrics. The very low R2 suggests that the model may be too complex and fail to explain the variance.\n",
        "- **None of the model fits the regression line perfectly**. More adjustments and tuning are needed -- but one of the concerns is the limited amount of data, only around 1200, it is not enough to build a staple ANN model.\n",
        "\n",
        "---\n",
        "\n",
        "### Key Takeaways\n",
        "- When working with small data, avoid overcomplicating the model. Try using less neurons and layers.\n",
        "- Try to match the scaling method with the activation function, such as MinMaxScaler that works well with Sigmoid."
      ],
      "metadata": {
        "id": "whKMVLPHPfV1"
      }
    },
    {
      "cell_type": "markdown",
      "source": [
        "## e. Video Explanation\n",
        "Accessible [here](https://drive.google.com/file/d/1pHm3FKKOcD4eauC8WoVlC7H8Bo1_liZN/view?usp=drive_link)"
      ],
      "metadata": {
        "id": "rBgLpD0_zI20"
      }
    }
  ],
  "metadata": {
    "colab": {
      "provenance": []
    },
    "kernelspec": {
      "display_name": "Python 3",
      "name": "python3"
    }
  },
  "nbformat": 4,
  "nbformat_minor": 0
}